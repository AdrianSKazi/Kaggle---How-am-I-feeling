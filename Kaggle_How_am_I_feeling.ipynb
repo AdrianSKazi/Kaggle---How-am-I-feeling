{
  "nbformat": 4,
  "nbformat_minor": 0,
  "metadata": {
    "colab": {
      "provenance": [],
      "collapsed_sections": [],
      "toc_visible": true
    },
    "kernelspec": {
      "display_name": "Python 3",
      "name": "python3"
    },
    "language_info": {
      "name": "python"
    }
  },
  "cells": [
    {
      "cell_type": "markdown",
      "metadata": {
        "id": "nlD03VRfkeez"
      },
      "source": [
        "# Import dataset"
      ]
    },
    {
      "cell_type": "code",
      "metadata": {
        "id": "_e3pA6bdCLiN"
      },
      "source": [
        "! pip install -q kaggle\n",
        "from google.colab import files\n",
        "# files.upload()\n",
        "! mkdir ~/.kaggle\n",
        "! cp kaggle.json ~/.kaggle/\n",
        "! chmod 600 ~/.kaggle/kaggle.json \n",
        "! kaggle datasets list\n",
        "! pip install --upgrade --force-reinstall --no-deps kaggle\n",
        "! kaggle competitions download -c how-am-i-feeling-tb2109 -p 'dataset' "
      ],
      "execution_count": null,
      "outputs": []
    },
    {
      "cell_type": "code",
      "metadata": {
        "colab": {
          "base_uri": "https://localhost:8080/"
        },
        "id": "N962Z22FD8eE",
        "outputId": "71f64275-e2eb-48fd-c7cf-21a07df32145"
      },
      "source": [
        "cd dataset"
      ],
      "execution_count": null,
      "outputs": [
        {
          "output_type": "stream",
          "name": "stdout",
          "text": [
            "[Errno 2] No such file or directory: 'dataset'\n",
            "/content/dataset\n"
          ]
        }
      ]
    },
    {
      "cell_type": "code",
      "metadata": {
        "id": "5udRDkrEEAGK",
        "colab": {
          "base_uri": "https://localhost:8080/"
        },
        "outputId": "e20fc595-c315-45a2-ebc5-96ac83b71aaf"
      },
      "source": [
        "! mkdir train\n",
        "! unzip how-am-i-feeling-tb2109.zip -d train"
      ],
      "execution_count": null,
      "outputs": [
        {
          "output_type": "stream",
          "name": "stdout",
          "text": [
            "mkdir: cannot create directory ‘train’: File exists\n",
            "Archive:  how-am-i-feeling-tb2109.zip\n",
            "replace train/data/sample_submission.csv? [y]es, [n]o, [A]ll, [N]one, [r]ename: "
          ]
        }
      ]
    },
    {
      "cell_type": "markdown",
      "metadata": {
        "id": "JpIO9_sLuU_n"
      },
      "source": [
        "# Check images with labels"
      ]
    },
    {
      "cell_type": "code",
      "metadata": {
        "colab": {
          "base_uri": "https://localhost:8080/",
          "height": 422
        },
        "id": "RP-YvMNGuoFt",
        "outputId": "eda60546-9954-47aa-f0a8-855331814d37"
      },
      "source": [
        "import pandas as pd\n",
        "train = pd.read_csv('train/data/train_set.csv')\n",
        "train"
      ],
      "execution_count": null,
      "outputs": [
        {
          "output_type": "execute_result",
          "data": {
            "text/html": [
              "<div>\n",
              "<style scoped>\n",
              "    .dataframe tbody tr th:only-of-type {\n",
              "        vertical-align: middle;\n",
              "    }\n",
              "\n",
              "    .dataframe tbody tr th {\n",
              "        vertical-align: top;\n",
              "    }\n",
              "\n",
              "    .dataframe thead th {\n",
              "        text-align: right;\n",
              "    }\n",
              "</style>\n",
              "<table border=\"1\" class=\"dataframe\">\n",
              "  <thead>\n",
              "    <tr style=\"text-align: right;\">\n",
              "      <th></th>\n",
              "      <th>label</th>\n",
              "      <th>id_img</th>\n",
              "      <th>path</th>\n",
              "    </tr>\n",
              "  </thead>\n",
              "  <tbody>\n",
              "    <tr>\n",
              "      <th>0</th>\n",
              "      <td>happy</td>\n",
              "      <td>22373</td>\n",
              "      <td>happy/22373.jpg</td>\n",
              "    </tr>\n",
              "    <tr>\n",
              "      <th>1</th>\n",
              "      <td>happy</td>\n",
              "      <td>21433</td>\n",
              "      <td>happy/21433.jpg</td>\n",
              "    </tr>\n",
              "    <tr>\n",
              "      <th>2</th>\n",
              "      <td>happy</td>\n",
              "      <td>12418</td>\n",
              "      <td>happy/12418.jpg</td>\n",
              "    </tr>\n",
              "    <tr>\n",
              "      <th>3</th>\n",
              "      <td>happy</td>\n",
              "      <td>21278</td>\n",
              "      <td>happy/21278.jpg</td>\n",
              "    </tr>\n",
              "    <tr>\n",
              "      <th>4</th>\n",
              "      <td>happy</td>\n",
              "      <td>8081</td>\n",
              "      <td>happy/08081.jpg</td>\n",
              "    </tr>\n",
              "    <tr>\n",
              "      <th>...</th>\n",
              "      <td>...</td>\n",
              "      <td>...</td>\n",
              "      <td>...</td>\n",
              "    </tr>\n",
              "    <tr>\n",
              "      <th>6171</th>\n",
              "      <td>sadness</td>\n",
              "      <td>11346</td>\n",
              "      <td>sadness/11346.jpg</td>\n",
              "    </tr>\n",
              "    <tr>\n",
              "      <th>6172</th>\n",
              "      <td>sadness</td>\n",
              "      <td>4441</td>\n",
              "      <td>sadness/04441.jpg</td>\n",
              "    </tr>\n",
              "    <tr>\n",
              "      <th>6173</th>\n",
              "      <td>sadness</td>\n",
              "      <td>15236</td>\n",
              "      <td>sadness/15236.jpg</td>\n",
              "    </tr>\n",
              "    <tr>\n",
              "      <th>6174</th>\n",
              "      <td>sadness</td>\n",
              "      <td>27361</td>\n",
              "      <td>sadness/27361.jpg</td>\n",
              "    </tr>\n",
              "    <tr>\n",
              "      <th>6175</th>\n",
              "      <td>sadness</td>\n",
              "      <td>25239</td>\n",
              "      <td>sadness/25239.jpg</td>\n",
              "    </tr>\n",
              "  </tbody>\n",
              "</table>\n",
              "<p>6176 rows × 3 columns</p>\n",
              "</div>"
            ],
            "text/plain": [
              "        label  id_img               path\n",
              "0       happy   22373    happy/22373.jpg\n",
              "1       happy   21433    happy/21433.jpg\n",
              "2       happy   12418    happy/12418.jpg\n",
              "3       happy   21278    happy/21278.jpg\n",
              "4       happy    8081    happy/08081.jpg\n",
              "...       ...     ...                ...\n",
              "6171  sadness   11346  sadness/11346.jpg\n",
              "6172  sadness    4441  sadness/04441.jpg\n",
              "6173  sadness   15236  sadness/15236.jpg\n",
              "6174  sadness   27361  sadness/27361.jpg\n",
              "6175  sadness   25239  sadness/25239.jpg\n",
              "\n",
              "[6176 rows x 3 columns]"
            ]
          },
          "metadata": {},
          "execution_count": 59
        }
      ]
    },
    {
      "cell_type": "code",
      "metadata": {
        "colab": {
          "base_uri": "https://localhost:8080/",
          "height": 285
        },
        "id": "mGZuQ1KauXNZ",
        "outputId": "3ed8725d-1400-4d2b-eb5d-0ce1a7404f70"
      },
      "source": [
        "import matplotlib.pyplot as plt\n",
        "import matplotlib.image as mpimg\n",
        "import os\n",
        "import random\n",
        "\n",
        "img_idx = random.randint(0,len(train))\n",
        "\n",
        "img = mpimg.imread(os.path.join(r'/content/dataset/train/data/train/',train.iloc[img_idx,2]))\n",
        "imgplot = plt.imshow(img)\n",
        "label = train.iloc[img_idx,0]\n",
        "\n",
        "print(label)"
      ],
      "execution_count": null,
      "outputs": [
        {
          "output_type": "stream",
          "name": "stdout",
          "text": [
            "happy\n"
          ]
        },
        {
          "output_type": "display_data",
          "data": {
            "image/png": "[encoded data removed]",
            "text/plain": [
              "<Figure size 432x288 with 1 Axes>"
            ]
          },
          "metadata": {
            "needs_background": "light"
          }
        }
      ]
    },
    {
      "cell_type": "markdown",
      "metadata": {
        "id": "PTLo9qRcE4tY"
      },
      "source": [
        "# Transfer images into an array"
      ]
    },
    {
      "cell_type": "markdown",
      "metadata": {
        "id": "E8Wem-mJHuKz"
      },
      "source": [
        "Creating train dataset"
      ]
    },
    {
      "cell_type": "code",
      "metadata": {
        "id": "yf9Di2-qGQPN"
      },
      "source": [
        "import cv2 \n",
        "import numpy as np\n",
        "\n",
        "train_images = []\n",
        "for i in range(len(train['id_img'])):\n",
        "    temp_imag = cv2.imread(\"train/data/train/\" + train.path[i], 0)\n",
        "    train_images.append(temp_imag)\n",
        "train_images = np.array(train_images)   "
      ],
      "execution_count": null,
      "outputs": []
    },
    {
      "cell_type": "code",
      "metadata": {
        "colab": {
          "base_uri": "https://localhost:8080/"
        },
        "id": "QGNsMxjZHCPg",
        "outputId": "1dce84a4-8da2-4271-91d6-84c7f8b39f27"
      },
      "source": [
        "train_images"
      ],
      "execution_count": null,
      "outputs": [
        {
          "output_type": "execute_result",
          "data": {
            "text/plain": [
              "array([[[ 25,  44,  56, ...,  34,  11,  17],\n",
              "        [ 30,  46,  54, ...,  45,  19,  17],\n",
              "        [ 38,  50,  55, ...,  53,  25,  12],\n",
              "        ...,\n",
              "        [110, 116, 129, ...,  40,  63,  34],\n",
              "        [110, 138, 135, ...,  51,  52,  30],\n",
              "        [ 93, 142, 127, ...,  73,  48,  33]],\n",
              "\n",
              "       [[ 33,  29,  22, ...,  22,  19,  26],\n",
              "        [ 36,  29,  20, ...,  29,  23,  24],\n",
              "        [ 33,  25,  15, ...,  30,  25,  21],\n",
              "        ...,\n",
              "        [ 28,  28,  29, ...,   8,   0,   9],\n",
              "        [ 24,  23,  23, ...,  11,   0,  10],\n",
              "        [ 22,  20,  18, ...,  17,   0,  16]],\n",
              "\n",
              "       [[ 35,  43,  66, ...,  61,  63,  54],\n",
              "        [ 32,  40,  58, ...,  59,  63,  57],\n",
              "        [ 30,  39,  48, ...,  62,  61,  57],\n",
              "        ...,\n",
              "        [167, 158, 153, ...,  72,  71,  70],\n",
              "        [185, 167, 152, ...,  73,  71,  71],\n",
              "        [203, 179, 154, ...,  73,  72,  71]],\n",
              "\n",
              "       ...,\n",
              "\n",
              "       [[109,  25,  29, ..., 148, 148, 149],\n",
              "        [115,  39,  19, ..., 151, 152, 150],\n",
              "        [123,  47,  17, ..., 158, 159, 154],\n",
              "        ...,\n",
              "        [ 15,  29,  32, ...,  62,  52,  49],\n",
              "        [ 32,  35,  34, ...,  59,  55,  50],\n",
              "        [ 45,  37,  33, ...,  60,  56,  48]],\n",
              "\n",
              "       [[ 62,  64,  67, ..., 111,  92,  78],\n",
              "        [ 60,  60,  64, ..., 114,  94,  84],\n",
              "        [ 58,  54,  59, ..., 136, 108,  92],\n",
              "        ...,\n",
              "        [ 65,  64,  62, ...,  52,  43,  37],\n",
              "        [ 65,  63,  61, ...,  43,  39,  37],\n",
              "        [ 64,  63,  61, ...,  37,  40,  42]],\n",
              "\n",
              "       [[163, 167, 123, ...,  91,  73, 108],\n",
              "        [163, 165, 118, ...,  89,  75,  98],\n",
              "        [164, 161, 110, ...,  87,  80,  86],\n",
              "        ...,\n",
              "        [151, 160, 166, ...,  68,  33,  15],\n",
              "        [155, 162, 172, ...,  55,  30,  17],\n",
              "        [157, 161, 175, ...,  29,  18,  17]]], dtype=uint8)"
            ]
          },
          "metadata": {},
          "execution_count": 62
        }
      ]
    },
    {
      "cell_type": "markdown",
      "metadata": {
        "id": "jc-7cXogHwX2"
      },
      "source": [
        "Adding labels after encoding"
      ]
    },
    {
      "cell_type": "code",
      "metadata": {
        "colab": {
          "base_uri": "https://localhost:8080/"
        },
        "id": "g-hkZ1GZHxbF",
        "outputId": "1481f04f-4ef2-435e-e033-1594fb8aba4f"
      },
      "source": [
        "train_labels = np.array(train['label'])\n",
        "train_labels"
      ],
      "execution_count": null,
      "outputs": [
        {
          "output_type": "execute_result",
          "data": {
            "text/plain": [
              "array(['happy', 'happy', 'happy', ..., 'sadness', 'sadness', 'sadness'],\n",
              "      dtype=object)"
            ]
          },
          "metadata": {},
          "execution_count": 63
        }
      ]
    },
    {
      "cell_type": "code",
      "metadata": {
        "id": "6clGOLT9H8QN"
      },
      "source": [
        "for i in range(len(train_labels)):\n",
        "    if train_labels[i] == 'happy':\n",
        "        train_labels[i] = 1\n",
        "    else:\n",
        "        train_labels[i] = 0   "
      ],
      "execution_count": null,
      "outputs": []
    },
    {
      "cell_type": "code",
      "metadata": {
        "colab": {
          "base_uri": "https://localhost:8080/"
        },
        "id": "QFBZe9HtIAMi",
        "outputId": "59082409-b972-481c-a8ed-1948bc72ff8f"
      },
      "source": [
        "train_labels"
      ],
      "execution_count": null,
      "outputs": [
        {
          "output_type": "execute_result",
          "data": {
            "text/plain": [
              "array([1, 1, 1, ..., 0, 0, 0], dtype=object)"
            ]
          },
          "metadata": {},
          "execution_count": 65
        }
      ]
    },
    {
      "cell_type": "markdown",
      "metadata": {
        "id": "TpO8anfeIWmW"
      },
      "source": [
        "# train test split"
      ]
    },
    {
      "cell_type": "code",
      "metadata": {
        "id": "I2Q4uHhYIYYI"
      },
      "source": [
        "from sklearn.model_selection import train_test_split\n",
        "\n",
        "train_images, test_images, train_labels, test_labels = train_test_split(train_images,\n",
        "                                                      train_labels,test_size=0.2, random_state= 42)"
      ],
      "execution_count": null,
      "outputs": []
    },
    {
      "cell_type": "code",
      "metadata": {
        "colab": {
          "base_uri": "https://localhost:8080/"
        },
        "id": "GDAZbYYfIh4P",
        "outputId": "dd87dc06-890b-4953-e1e9-13e0c34afc9a"
      },
      "source": [
        "print(len(train_images))\n",
        "print(len(test_images))\n",
        "print(len(train_labels))\n",
        "print(len(test_images))"
      ],
      "execution_count": null,
      "outputs": [
        {
          "output_type": "stream",
          "name": "stdout",
          "text": [
            "4940\n",
            "1236\n",
            "4940\n",
            "1236\n"
          ]
        }
      ]
    },
    {
      "cell_type": "markdown",
      "metadata": {
        "id": "7XE793bbI8ug"
      },
      "source": [
        "# Standarization"
      ]
    },
    {
      "cell_type": "markdown",
      "metadata": {
        "id": "VTa0PZ5NI-Sr"
      },
      "source": [
        "Since there are 255 scales of grey and out pictures are in scale of grey, by dividing each by 255 we will standarize it and the values will fit into range from 0 to 1"
      ]
    },
    {
      "cell_type": "code",
      "metadata": {
        "id": "oUx3zzyGI8b3"
      },
      "source": [
        "train_images = train_images.astype(\"float32\")/255\n",
        "test_images = test_images.astype(\"float32\")/255\n",
        "train_labels = train_labels.astype(\"float32\")\n",
        "test_labels = test_labels.astype(\"float32\")"
      ],
      "execution_count": null,
      "outputs": []
    },
    {
      "cell_type": "code",
      "metadata": {
        "colab": {
          "base_uri": "https://localhost:8080/"
        },
        "id": "D2vocABpJXZQ",
        "outputId": "c9a93124-77df-4cea-84bb-f55e0556966e"
      },
      "source": [
        "len(train_images[0][0])"
      ],
      "execution_count": null,
      "outputs": [
        {
          "output_type": "execute_result",
          "data": {
            "text/plain": [
              "48"
            ]
          },
          "metadata": {},
          "execution_count": 69
        }
      ]
    },
    {
      "cell_type": "code",
      "metadata": {
        "colab": {
          "base_uri": "https://localhost:8080/"
        },
        "id": "Nt_CYjEYJb4-",
        "outputId": "6660e485-c5f5-4e11-d36e-3f4a2ad557f5"
      },
      "source": [
        "test_images[0][0]"
      ],
      "execution_count": null,
      "outputs": [
        {
          "output_type": "execute_result",
          "data": {
            "text/plain": [
              "array([0.07843138, 0.01960784, 0.01568628, 0.04705882, 0.03921569,\n",
              "       0.03529412, 0.04705882, 0.03529412, 0.03529412, 0.00784314,\n",
              "       0.09803922, 0.03921569, 0.07450981, 0.3137255 , 0.39607844,\n",
              "       0.39215687, 0.4117647 , 0.35686275, 0.34509805, 0.39607844,\n",
              "       0.43137255, 0.40784314, 0.38039216, 0.3764706 , 0.41568628,\n",
              "       0.6156863 , 0.50980395, 0.36078432, 0.47843137, 0.5019608 ,\n",
              "       0.43137255, 0.5019608 , 0.19215687, 0.08235294, 0.14509805,\n",
              "       0.11372549, 0.10196079, 0.18039216, 0.1254902 , 0.08627451,\n",
              "       0.05490196, 0.02352941, 0.1882353 , 0.49411765, 0.4509804 ,\n",
              "       0.27058825, 0.3137255 , 0.29803923], dtype=float32)"
            ]
          },
          "metadata": {},
          "execution_count": 70
        }
      ]
    },
    {
      "cell_type": "code",
      "metadata": {
        "colab": {
          "base_uri": "https://localhost:8080/"
        },
        "id": "0M405oPjJfC9",
        "outputId": "480d111b-6915-42ba-f6a0-340c0293218b"
      },
      "source": [
        "train_labels[:10]"
      ],
      "execution_count": null,
      "outputs": [
        {
          "output_type": "execute_result",
          "data": {
            "text/plain": [
              "array([0., 0., 0., 1., 0., 1., 0., 0., 0., 0.], dtype=float32)"
            ]
          },
          "metadata": {},
          "execution_count": 71
        }
      ]
    },
    {
      "cell_type": "code",
      "metadata": {
        "colab": {
          "base_uri": "https://localhost:8080/"
        },
        "id": "RYOSmaO_JjRy",
        "outputId": "58de92c6-9c18-48cb-9e39-2364af7a62bf"
      },
      "source": [
        "test_labels[:10]"
      ],
      "execution_count": null,
      "outputs": [
        {
          "output_type": "execute_result",
          "data": {
            "text/plain": [
              "array([1., 1., 0., 1., 0., 1., 1., 1., 1., 1.], dtype=float32)"
            ]
          },
          "metadata": {},
          "execution_count": 72
        }
      ]
    },
    {
      "cell_type": "markdown",
      "metadata": {
        "id": "XP0yw-b5VoNy"
      },
      "source": [
        "# Flattening matrixes in train_images"
      ]
    },
    {
      "cell_type": "markdown",
      "metadata": {
        "id": "PSzzfTTmZLEN"
      },
      "source": [
        "Flatten function"
      ]
    },
    {
      "cell_type": "code",
      "metadata": {
        "id": "sLJr5DLGVusi"
      },
      "source": [
        "import numpy as np\n",
        "  \n",
        "train_images_flatten = []\n",
        "test_images_flatten = []\n",
        "\n",
        "for i in range(len(train_images)):\n",
        "  train_images_flatten.append(train_images[i].flatten())\n",
        "\n",
        "for i in range(len(test_images)):\n",
        "  test_images_flatten.append(test_images[i].flatten())"
      ],
      "execution_count": null,
      "outputs": []
    },
    {
      "cell_type": "markdown",
      "metadata": {
        "id": "9-usHFN4ZMSw"
      },
      "source": [
        "Let's check matrices' elements equal before and after flatten function"
      ]
    },
    {
      "cell_type": "code",
      "metadata": {
        "colab": {
          "base_uri": "https://localhost:8080/"
        },
        "id": "1jDlHYb6WGW3",
        "outputId": "93477079-cde1-4bfb-ccab-30c26e4eac33"
      },
      "source": [
        "rows_num = len(train_images[0])\n",
        "cols_num = len(train_images[0][0])\n",
        "cols_num * rows_num"
      ],
      "execution_count": null,
      "outputs": [
        {
          "output_type": "execute_result",
          "data": {
            "text/plain": [
              "2304"
            ]
          },
          "metadata": {},
          "execution_count": 74
        }
      ]
    },
    {
      "cell_type": "code",
      "metadata": {
        "colab": {
          "base_uri": "https://localhost:8080/"
        },
        "id": "hFa8UA4qY8B4",
        "outputId": "2964c1da-db08-43eb-ab5c-8813d01c7684"
      },
      "source": [
        "len(train_images_flatten[0])"
      ],
      "execution_count": null,
      "outputs": [
        {
          "output_type": "execute_result",
          "data": {
            "text/plain": [
              "2304"
            ]
          },
          "metadata": {},
          "execution_count": 75
        }
      ]
    },
    {
      "cell_type": "markdown",
      "metadata": {
        "id": "YN8EFO-cZjxg"
      },
      "source": [
        "Now let's check accordance of image count in before flatten list and after flatten list"
      ]
    },
    {
      "cell_type": "code",
      "metadata": {
        "colab": {
          "base_uri": "https://localhost:8080/"
        },
        "id": "1I7MYJVfZD50",
        "outputId": "36012439-d8ea-4199-d447-6b2d125c04a9"
      },
      "source": [
        "len(train_images)"
      ],
      "execution_count": null,
      "outputs": [
        {
          "output_type": "execute_result",
          "data": {
            "text/plain": [
              "4940"
            ]
          },
          "metadata": {},
          "execution_count": 76
        }
      ]
    },
    {
      "cell_type": "code",
      "metadata": {
        "colab": {
          "base_uri": "https://localhost:8080/"
        },
        "id": "j7vf1GhYZGnn",
        "outputId": "45f4c734-afab-4217-cb88-a7101689deb1"
      },
      "source": [
        "len(train_images_flatten)"
      ],
      "execution_count": null,
      "outputs": [
        {
          "output_type": "execute_result",
          "data": {
            "text/plain": [
              "4940"
            ]
          },
          "metadata": {},
          "execution_count": 77
        }
      ]
    },
    {
      "cell_type": "code",
      "metadata": {
        "colab": {
          "base_uri": "https://localhost:8080/"
        },
        "id": "orZmWRF9Itvg",
        "outputId": "35c419f7-a950-43a0-ae12-6659cb9c468e"
      },
      "source": [
        "len(test_images)"
      ],
      "execution_count": null,
      "outputs": [
        {
          "output_type": "execute_result",
          "data": {
            "text/plain": [
              "1236"
            ]
          },
          "metadata": {},
          "execution_count": 78
        }
      ]
    },
    {
      "cell_type": "code",
      "metadata": {
        "colab": {
          "base_uri": "https://localhost:8080/"
        },
        "id": "dflNv-1KIv1w",
        "outputId": "c829f6e8-29d2-4be8-e29b-f6ec82ecb380"
      },
      "source": [
        "len(test_images_flatten)"
      ],
      "execution_count": null,
      "outputs": [
        {
          "output_type": "execute_result",
          "data": {
            "text/plain": [
              "1236"
            ]
          },
          "metadata": {},
          "execution_count": 79
        }
      ]
    },
    {
      "cell_type": "markdown",
      "metadata": {
        "id": "r0RKQQr9dRqn"
      },
      "source": [
        "# Random Forest Classifier"
      ]
    },
    {
      "cell_type": "markdown",
      "metadata": {
        "id": "peNozvO5cMC3"
      },
      "source": [
        "## Ensemble learning"
      ]
    },
    {
      "cell_type": "markdown",
      "metadata": {
        "id": "dOvTtD88cOaN"
      },
      "source": [
        "There are two ensemble learning methods\n",
        "\n",
        "1. average method\n",
        "* We define estimators for several models, whether it be the same model rerunned with different hyperparameters several times or totaly different models. Then we count average of all outputted estiamtors. This average will be better than each one of single estimator because the variance of an average is far more reduced that in any of calculated estimators.\n",
        "\n",
        "* good example of average method is random forest, which generates output of several decision trees and then count average of each decision tree. This average is final solution. That's why it's called random forrest.\n",
        "\n",
        "2. boosting method\n",
        "* First we produce first estimator H1 which is the best fit according to the accuracy. Then we find errors in predicting the class. After that we weights to those errors creating H2 estimator. We are aggregating those samples that has H1 prediction different thatn H2 and by this we create H3 estimator.\n",
        "\n",
        "* Example is Ada boost"
      ]
    },
    {
      "cell_type": "markdown",
      "metadata": {
        "id": "d6loOWqmsAbl"
      },
      "source": [
        "In this project we will use Random Forrest classifier"
      ]
    },
    {
      "cell_type": "markdown",
      "metadata": {
        "id": "huYP46sMRNsj"
      },
      "source": [
        "## Best Parameters"
      ]
    },
    {
      "cell_type": "markdown",
      "metadata": {
        "id": "148WpLnwRk7g"
      },
      "source": [
        "define hyperparameters to tune"
      ]
    },
    {
      "cell_type": "code",
      "metadata": {
        "id": "MIsZNblCRQee"
      },
      "source": [
        "from sklearn.ensemble import RandomForestClassifier\n",
        "\n",
        "rfc = RandomForestClassifier()\n",
        "\n",
        "parameters = {\n",
        "    \"n_estimators\":[5,10,20,100],\n",
        "    \"max_depth\":[8,16,20,32,None],\n",
        "    'criterion':['entropy', 'gini']\n",
        "}"
      ],
      "execution_count": null,
      "outputs": []
    },
    {
      "cell_type": "markdown",
      "metadata": {
        "id": "iZZioqN9RqlC"
      },
      "source": [
        "launch grid search"
      ]
    },
    {
      "cell_type": "code",
      "metadata": {
        "colab": {
          "base_uri": "https://localhost:8080/"
        },
        "id": "f2-kzlTaRrGC",
        "outputId": "b5d7c998-8bc2-4ff7-b72d-383b397fbf8d"
      },
      "source": [
        "from sklearn.model_selection import GridSearchCV\n",
        "cv = GridSearchCV(rfc,parameters,cv=5)\n",
        "cv.fit(train_images_flatten,train_labels.ravel())"
      ],
      "execution_count": null,
      "outputs": [
        {
          "data": {
            "text/plain": [
              "GridSearchCV(cv=5, estimator=RandomForestClassifier(),\n",
              "             param_grid={'criterion': ['entropy', 'gini'],\n",
              "                         'max_depth': [8, 16, 20, 32, None],\n",
              "                         'n_estimators': [5, 10, 20, 100]})"
            ]
          },
          "execution_count": 30,
          "metadata": {},
          "output_type": "execute_result"
        }
      ]
    },
    {
      "cell_type": "code",
      "metadata": {
        "colab": {
          "base_uri": "https://localhost:8080/"
        },
        "id": "1mf2xacnSWlX",
        "outputId": "abb6b25f-5d67-46a3-db45-5eead4743b36"
      },
      "source": [
        "print(f'Best parameters are: {cv.best_params_}\\nBest score is: {round(cv.best_score_,4)*100}%')"
      ],
      "execution_count": null,
      "outputs": [
        {
          "name": "stdout",
          "output_type": "stream",
          "text": [
            "Best parameters are: {'criterion': 'entropy', 'max_depth': None, 'n_estimators': 100}\n",
            "Best score is: 70.83%\n"
          ]
        }
      ]
    },
    {
      "cell_type": "markdown",
      "metadata": {
        "id": "EcqZYddjJnbc"
      },
      "source": [
        "## Training"
      ]
    },
    {
      "cell_type": "code",
      "metadata": {
        "colab": {
          "base_uri": "https://localhost:8080/"
        },
        "id": "sz1YQ26bUNED",
        "outputId": "6c6f661d-ac64-43c0-9ef3-6406fb36fe40"
      },
      "source": [
        "# RFC instances\n",
        "rfc_gini = RandomForestClassifier(max_depth=None, random_state=0, n_estimators=100, criterion = 'gini')\n",
        "rfc_entropy = RandomForestClassifier(max_depth=None, random_state=0, n_estimators=100, criterion = 'entropy')\n",
        "\n",
        "# training\n",
        "rfc_gini.fit(train_images_flatten, train_labels)\n",
        "rfc_entropy.fit(train_images_flatten, train_labels)"
      ],
      "execution_count": null,
      "outputs": [
        {
          "data": {
            "text/plain": [
              "RandomForestClassifier(criterion='entropy', random_state=0)"
            ]
          },
          "execution_count": 37,
          "metadata": {},
          "output_type": "execute_result"
        }
      ]
    },
    {
      "cell_type": "markdown",
      "metadata": {
        "id": "hMYJvSheIOhr"
      },
      "source": [
        "## Predict"
      ]
    },
    {
      "cell_type": "code",
      "metadata": {
        "id": "-tm3jOt-IP9N"
      },
      "source": [
        "predictions_gini = rfc_gini.predict(test_images_flatten)\n",
        "predictions_entropy = rfc_entropy.predict(test_images_flatten)"
      ],
      "execution_count": null,
      "outputs": []
    },
    {
      "cell_type": "markdown",
      "metadata": {
        "id": "qzXcmm1_HSga"
      },
      "source": [
        "## Testing"
      ]
    },
    {
      "cell_type": "code",
      "metadata": {
        "colab": {
          "base_uri": "https://localhost:8080/"
        },
        "id": "hmlpEEtbHQav",
        "outputId": "374e97da-20a5-4a3b-96ff-60085612871b"
      },
      "source": [
        "from sklearn.metrics import accuracy_score as acc\n",
        "from sklearn.metrics import mean_absolute_error as mae\n",
        "\n",
        "print('rfc accuracy by gini: {}%'.format(round(acc(test_labels, predictions_gini),4)*100))\n",
        "print('rfc mean absolute error by gini: {}%'.format(round(mae(test_labels, predictions_gini),4)*100))\n",
        "print('\\n')\n",
        "print('rfc accuracy by entropy: {}%'.format(round(acc(test_labels, predictions_entropy),4)*100))\n",
        "print('rfc mean absolute error by entropy: {}%'.format(round(mae(test_labels, predictions_entropy),4)*100))"
      ],
      "execution_count": null,
      "outputs": [
        {
          "name": "stdout",
          "output_type": "stream",
          "text": [
            "accuracy by gini: 72.65%\n",
            "mean absolute error by gini: 27.3499995470047%\n",
            "\n",
            "\n",
            "accuracy by entropy: 73.54%\n",
            "mean absolute error by entropy: 26.460000872612%\n"
          ]
        }
      ]
    },
    {
      "cell_type": "markdown",
      "metadata": {
        "id": "nu-JGiJvgHKN"
      },
      "source": [
        "As we can see Entropy is better than gini in out example, thus we will use that one."
      ]
    },
    {
      "cell_type": "markdown",
      "metadata": {
        "id": "ihu-EkD8glqf"
      },
      "source": [
        "## ROC curve"
      ]
    },
    {
      "cell_type": "code",
      "metadata": {
        "colab": {
          "base_uri": "https://localhost:8080/"
        },
        "id": "ZGegxFOggmMp",
        "outputId": "a17f8c14-99a6-4312-8e1e-7cf501baede7"
      },
      "source": [
        "y_pred_proba = rfc_entropy.predict_proba(test_images_flatten)[:,1]\n",
        "y_pred_proba"
      ],
      "execution_count": null,
      "outputs": [
        {
          "data": {
            "text/plain": [
              "array([0.58, 0.75, 0.31, ..., 0.59, 0.55, 0.45])"
            ]
          },
          "execution_count": 44,
          "metadata": {},
          "output_type": "execute_result"
        }
      ]
    },
    {
      "cell_type": "code",
      "metadata": {
        "colab": {
          "base_uri": "https://localhost:8080/"
        },
        "id": "YJ1dzrSOiroF",
        "outputId": "7d1cbdbf-2b1a-466c-bfc0-391ceb38cc6c"
      },
      "source": [
        "# pip install plot_metric"
      ],
      "execution_count": null,
      "outputs": [
        {
          "name": "stdout",
          "output_type": "stream",
          "text": [
            "Collecting plot_metric\n",
            "  Downloading plot_metric-0.0.6-py3-none-any.whl (13 kB)\n",
            "Requirement already satisfied: pandas>=0.23.4 in /usr/local/lib/python3.7/dist-packages (from plot_metric) (1.1.5)\n",
            "Requirement already satisfied: matplotlib>=3.0.2 in /usr/local/lib/python3.7/dist-packages (from plot_metric) (3.2.2)\n",
            "Requirement already satisfied: seaborn>=0.9.0 in /usr/local/lib/python3.7/dist-packages (from plot_metric) (0.11.2)\n",
            "Requirement already satisfied: scipy>=1.1.0 in /usr/local/lib/python3.7/dist-packages (from plot_metric) (1.4.1)\n",
            "Requirement already satisfied: scikit-learn>=0.21.2 in /usr/local/lib/python3.7/dist-packages (from plot_metric) (1.0.1)\n",
            "Requirement already satisfied: colorlover>=0.3.0 in /usr/local/lib/python3.7/dist-packages (from plot_metric) (0.3.0)\n",
            "Requirement already satisfied: numpy>=1.15.4 in /usr/local/lib/python3.7/dist-packages (from plot_metric) (1.19.5)\n",
            "Requirement already satisfied: python-dateutil>=2.1 in /usr/local/lib/python3.7/dist-packages (from matplotlib>=3.0.2->plot_metric) (2.8.2)\n",
            "Requirement already satisfied: pyparsing!=2.0.4,!=2.1.2,!=2.1.6,>=2.0.1 in /usr/local/lib/python3.7/dist-packages (from matplotlib>=3.0.2->plot_metric) (3.0.6)\n",
            "Requirement already satisfied: kiwisolver>=1.0.1 in /usr/local/lib/python3.7/dist-packages (from matplotlib>=3.0.2->plot_metric) (1.3.2)\n",
            "Requirement already satisfied: cycler>=0.10 in /usr/local/lib/python3.7/dist-packages (from matplotlib>=3.0.2->plot_metric) (0.11.0)\n",
            "Requirement already satisfied: pytz>=2017.2 in /usr/local/lib/python3.7/dist-packages (from pandas>=0.23.4->plot_metric) (2018.9)\n",
            "Requirement already satisfied: six>=1.5 in /usr/local/lib/python3.7/dist-packages (from python-dateutil>=2.1->matplotlib>=3.0.2->plot_metric) (1.15.0)\n",
            "Requirement already satisfied: threadpoolctl>=2.0.0 in /usr/local/lib/python3.7/dist-packages (from scikit-learn>=0.21.2->plot_metric) (3.0.0)\n",
            "Requirement already satisfied: joblib>=0.11 in /usr/local/lib/python3.7/dist-packages (from scikit-learn>=0.21.2->plot_metric) (1.1.0)\n",
            "Installing collected packages: plot-metric\n",
            "Successfully installed plot-metric-0.0.6\n"
          ]
        }
      ]
    },
    {
      "cell_type": "code",
      "metadata": {
        "colab": {
          "base_uri": "https://localhost:8080/",
          "height": 621
        },
        "id": "MTEiCx5Tieca",
        "outputId": "1d0d5fcb-adc5-4f2b-bb3a-7f5c0e6fc833"
      },
      "source": [
        "from plot_metric.functions import BinaryClassification\n",
        "# Visualisation with plot_metric\n",
        "bc = BinaryClassification(test_labels, y_pred_proba, labels=[\"Class 1\", \"Class 2\"])\n",
        "\n",
        "# Figures\n",
        "plt.figure(figsize=(10,10))\n",
        "bc.plot_roc_curve()\n",
        "plt.show()"
      ],
      "execution_count": null,
      "outputs": [
        {
          "data": {
            "image/png": "[encoded data removed]",
            "text/plain": [
              "<Figure size 720x720 with 1 Axes>"
            ]
          },
          "metadata": {},
          "output_type": "display_data"
        }
      ]
    },
    {
      "cell_type": "markdown",
      "metadata": {
        "id": "Fe0F_mO25u2p"
      },
      "source": [
        "# Decission Tree"
      ]
    },
    {
      "cell_type": "markdown",
      "metadata": {
        "id": "tIcEtcFMmL4e"
      },
      "source": [
        "## Best Parameters"
      ]
    },
    {
      "cell_type": "code",
      "metadata": {
        "colab": {
          "base_uri": "https://localhost:8080/"
        },
        "id": "h3-xOa6C5vPu",
        "outputId": "e802670c-576b-41f8-a398-678f5f0868ec"
      },
      "source": [
        "from sklearn.tree import DecisionTreeClassifier\n",
        "\n",
        "dtc = DecisionTreeClassifier()\n",
        "\n",
        "parameters2 = {\n",
        "    \"max_depth\":[8,16,20,32,None],\n",
        "    'criterion':['entropy', 'gini']\n",
        "}\n",
        "\n",
        "cv = GridSearchCV(dtc,parameters2,cv=5)\n",
        "cv.fit(train_images_flatten,train_labels.ravel())"
      ],
      "execution_count": null,
      "outputs": [
        {
          "data": {
            "text/plain": [
              "GridSearchCV(cv=5, estimator=DecisionTreeClassifier(),\n",
              "             param_grid={'criterion': ['entropy', 'gini'],\n",
              "                         'max_depth': [8, 16, 20, 32, None]})"
            ]
          },
          "execution_count": 36,
          "metadata": {},
          "output_type": "execute_result"
        }
      ]
    },
    {
      "cell_type": "code",
      "metadata": {
        "colab": {
          "base_uri": "https://localhost:8080/"
        },
        "id": "Pq-dtoQtkrRy",
        "outputId": "f1b91547-3733-4c06-9693-e1e9eeb3f99f"
      },
      "source": [
        "print(f'Best parameters are: {cv.best_params_}\\nBest score is: {round(cv.best_score_,2)*100}%')"
      ],
      "execution_count": null,
      "outputs": [
        {
          "name": "stdout",
          "output_type": "stream",
          "text": [
            "Best parameters are: {'criterion': 'gini', 'max_depth': 8}\n",
            "Best score is: 62.0%\n"
          ]
        }
      ]
    },
    {
      "cell_type": "markdown",
      "metadata": {
        "id": "qffSWZs4kySl"
      },
      "source": [
        "As we can see decission tree classifier is about 10% worst in accuracy than random forest. However let's check it by ourselves."
      ]
    },
    {
      "cell_type": "markdown",
      "metadata": {
        "id": "M899wCM6mPFj"
      },
      "source": [
        "## Training"
      ]
    },
    {
      "cell_type": "code",
      "metadata": {
        "colab": {
          "base_uri": "https://localhost:8080/"
        },
        "id": "kOaMSr3LkqV4",
        "outputId": "b890bc61-f2a3-4cce-95b6-cdc27c117f1f"
      },
      "source": [
        "# DTC instances\n",
        "dtc_gini = DecisionTreeClassifier(max_depth=8, random_state=0, criterion = 'gini')\n",
        "dtc_entropy = RandomForestClassifier(max_depth=8, random_state=0, criterion = 'entropy')\n",
        "\n",
        "# training\n",
        "dtc_gini.fit(train_images_flatten, train_labels)\n",
        "dtc_entropy.fit(train_images_flatten, train_labels)"
      ],
      "execution_count": null,
      "outputs": [
        {
          "data": {
            "text/plain": [
              "RandomForestClassifier(criterion='entropy', max_depth=8, random_state=0)"
            ]
          },
          "execution_count": 41,
          "metadata": {},
          "output_type": "execute_result"
        }
      ]
    },
    {
      "cell_type": "markdown",
      "metadata": {
        "id": "o4HByB4tmRg5"
      },
      "source": [
        "## Predict"
      ]
    },
    {
      "cell_type": "code",
      "metadata": {
        "id": "Iz4N6abjkouW"
      },
      "source": [
        "dtc_predictions_gini = dtc_gini.predict(test_images_flatten)\n",
        "dtc_predictions_entropy = dtc_entropy.predict(test_images_flatten)"
      ],
      "execution_count": null,
      "outputs": []
    },
    {
      "cell_type": "markdown",
      "metadata": {
        "id": "_YECDCSKmS7V"
      },
      "source": [
        "## Testing"
      ]
    },
    {
      "cell_type": "code",
      "metadata": {
        "colab": {
          "base_uri": "https://localhost:8080/"
        },
        "id": "tnmDzhqyihO8",
        "outputId": "b0ab75ed-39ac-4436-f83a-35526939cb8c"
      },
      "source": [
        "print('dtc accuracy by gini: {}%'.format(round(acc(test_labels, dtc_predictions_gini),4)*100))\n",
        "print('dtc mean absolute error by gini: {}%'.format(round(mae(test_labels, dtc_predictions_gini),4)*100))\n",
        "print('\\n')\n",
        "print('dtc accuracy by entropy: {}%'.format(round(acc(test_labels, dtc_predictions_entropy),4)*100))\n",
        "print('dtc mean absolute error by entropy: {}%'.format(round(mae(test_labels, dtc_predictions_entropy),4)*100))"
      ],
      "execution_count": null,
      "outputs": [
        {
          "name": "stdout",
          "output_type": "stream",
          "text": [
            "dtc accuracy by gini: 62.46000000000001%\n",
            "dtc mean absolute error by gini: 37.540000677108765%\n",
            "\n",
            "\n",
            "dtc accuracy by entropy: 70.87%\n",
            "dtc mean absolute error by entropy: 29.12999987602234%\n"
          ]
        }
      ]
    },
    {
      "cell_type": "markdown",
      "metadata": {
        "id": "ypXZEmiXlsnj"
      },
      "source": [
        "GridSearch didn't perform well as we can see oposite what GridSearch deducted entripy performed better than gini. And we are about only 3% worst than Random Forest Classifier with entropy criterion."
      ]
    },
    {
      "cell_type": "markdown",
      "metadata": {
        "id": "NaN-mjnQmFOJ"
      },
      "source": [
        "However, as we now know that the RFC is better let's proceed with this one"
      ]
    },
    {
      "cell_type": "markdown",
      "metadata": {
        "id": "LHBZAVBdaY_F"
      },
      "source": [
        "# Sequential model (deep learning)"
      ]
    },
    {
      "cell_type": "markdown",
      "metadata": {
        "id": "SXLrhB53mVAQ"
      },
      "source": [
        "## Reshape"
      ]
    },
    {
      "cell_type": "code",
      "metadata": {
        "id": "_3hTwLbG-DFP"
      },
      "source": [
        "train_images_flatten_dl = np.array(train_images_flatten)\n",
        "test_images_flatten_dl = np.array(test_images_flatten)\n",
        "train_labels_dl = np.array(train_labels)\n",
        "test_labels_dl = np.array(test_labels)"
      ],
      "execution_count": null,
      "outputs": []
    },
    {
      "cell_type": "code",
      "metadata": {
        "colab": {
          "base_uri": "https://localhost:8080/"
        },
        "id": "5v5eKAoJBrVf",
        "outputId": "73677606-46c0-4ff3-ef88-29c5de0cd8bd"
      },
      "source": [
        "print(train_images_flatten_dl.shape)\n",
        "print(train_labels_dl.shape)\n",
        "print(test_images_flatten_dl.shape)\n",
        "print(test_labels_dl.shape)"
      ],
      "execution_count": null,
      "outputs": [
        {
          "output_type": "stream",
          "name": "stdout",
          "text": [
            "(4940, 2304)\n",
            "(4940,)\n",
            "(1236, 2304)\n",
            "(1236,)\n"
          ]
        }
      ]
    },
    {
      "cell_type": "code",
      "metadata": {
        "id": "FRMfeai1EVuj"
      },
      "source": [
        "train_labels_dl = train_labels_dl.reshape(-1,1)\n",
        "test_labels_dl = test_labels_dl.reshape(-1,1)"
      ],
      "execution_count": null,
      "outputs": []
    },
    {
      "cell_type": "code",
      "metadata": {
        "id": "Q4L-XQ2-Ef7T"
      },
      "source": [
        "train_images_flatten_dl = np.stack(train_images_flatten_dl)\n",
        "test_images_flatten_dl = np.stack(test_images_flatten_dl)\n",
        "train_images_flatten_dl = train_images_flatten_dl.reshape(4940, 48, 48, 1)\n",
        "test_images_flatten_dl = test_images_flatten_dl.reshape(1236, 48, 48, 1)"
      ],
      "execution_count": null,
      "outputs": []
    },
    {
      "cell_type": "code",
      "metadata": {
        "colab": {
          "base_uri": "https://localhost:8080/"
        },
        "id": "weTeLZHkE4Da",
        "outputId": "b252a4c3-2242-4cee-b647-d5b56e28df4d"
      },
      "source": [
        "print(train_images_flatten_dl.shape)\n",
        "print(train_labels_dl.shape)\n",
        "print(test_images_flatten_dl.shape)\n",
        "print(test_labels_dl.shape)"
      ],
      "execution_count": null,
      "outputs": [
        {
          "output_type": "stream",
          "name": "stdout",
          "text": [
            "(4940, 48, 48, 1)\n",
            "(4940, 1)\n",
            "(1236, 48, 48, 1)\n",
            "(1236, 1)\n"
          ]
        }
      ]
    },
    {
      "cell_type": "markdown",
      "metadata": {
        "id": "0bOu9zvUmXAz"
      },
      "source": [
        "## Training"
      ]
    },
    {
      "cell_type": "code",
      "metadata": {
        "colab": {
          "base_uri": "https://localhost:8080/"
        },
        "id": "BekX8-o4aePD",
        "outputId": "662929db-4ba1-474c-f1b7-37fde21eb2ef"
      },
      "source": [
        "import tensorflow as tf\n",
        "from tensorflow import keras\n",
        "from tensorflow.keras import layers\n",
        "\n",
        "model = keras.models.Sequential()\n",
        "\n",
        "model.add(keras.layers.Conv2D(filters=16,kernel_size=5,strides=2,padding=\"same\",input_shape=(48, 48,1), activation=\"relu\"))\n",
        "model.add(keras.layers.Dropout(.2)) #to avoid overfitting\n",
        "model.add(keras.layers.BatchNormalization()) # to speed up learing\n",
        "model.add(keras.layers.Conv2D(filters=32,kernel_size=5,strides=2,padding=\"same\", activation=\"relu\"))\n",
        "model.add(keras.layers.Dropout(.2)) #to avoid overfitting\n",
        "model.add(keras.layers.BatchNormalization())# to speed up learing\n",
        "model.add(keras.layers.Conv2D(filters=64,kernel_size=3,strides=2,padding=\"same\", activation=\"relu\"))\n",
        "model.add(keras.layers.Flatten(input_shape=(48, 48)))\n",
        "# Hidden layer\n",
        "model.add(keras.layers.Dense(units = 256,\n",
        "                            activation='relu'))\n",
        "\n",
        "model.add(keras.layers.Dropout(.3)) #to avoid overfitting\n",
        "model.add(keras.layers.BatchNormalization())# to speed up learing\n",
        "model.add(keras.layers.Dense(units = 128,\n",
        "                            activation='relu'))\n",
        "\n",
        "model.add(keras.layers.Dropout(.3)) #to avoid overfitting\n",
        "model.add(keras.layers.Dense(units = 2,\n",
        "                            activation='sigmoid'))\n",
        "\n",
        "model.summary()\n",
        "\n",
        "model.compile(\n",
        "    optimizer = 'SGD',\n",
        "    loss = keras.losses.SparseCategoricalCrossentropy(),\n",
        "    metrics = [keras.metrics.SparseCategoricalAccuracy()]\n",
        ")\n",
        "\n",
        "earlystop = keras.callbacks.EarlyStopping(\n",
        "    monitor='val_loss', patience=5, verbose=1,\n",
        "    mode='auto', restore_best_weights=True\n",
        ")\n",
        "\n",
        "history = model.fit(\n",
        "    train_images_flatten_dl,\n",
        "    train_labels_dl,\n",
        "    batch_size = 32,\n",
        "    epochs = 100,\n",
        "    validation_data = (test_images_flatten_dl, test_labels_dl),\n",
        "    callbacks=[earlystop] #to predvent overfitting\n",
        ")"
      ],
      "execution_count": null,
      "outputs": [
        {
          "output_type": "stream",
          "name": "stdout",
          "text": [
            "Model: \"sequential_14\"\n",
            "_________________________________________________________________\n",
            " Layer (type)                Output Shape              Param #   \n",
            "=================================================================\n",
            " conv2d_43 (Conv2D)          (None, 24, 24, 16)        416       \n",
            "                                                                 \n",
            " dropout_8 (Dropout)         (None, 24, 24, 16)        0         \n",
            "                                                                 \n",
            " batch_normalization_6 (Batc  (None, 24, 24, 16)       64        \n",
            " hNormalization)                                                 \n",
            "                                                                 \n",
            " conv2d_44 (Conv2D)          (None, 12, 12, 32)        12832     \n",
            "                                                                 \n",
            " dropout_9 (Dropout)         (None, 12, 12, 32)        0         \n",
            "                                                                 \n",
            " batch_normalization_7 (Batc  (None, 12, 12, 32)       128       \n",
            " hNormalization)                                                 \n",
            "                                                                 \n",
            " conv2d_45 (Conv2D)          (None, 6, 6, 64)          18496     \n",
            "                                                                 \n",
            " flatten_10 (Flatten)        (None, 2304)              0         \n",
            "                                                                 \n",
            " dense_30 (Dense)            (None, 256)               590080    \n",
            "                                                                 \n",
            " dropout_10 (Dropout)        (None, 256)               0         \n",
            "                                                                 \n",
            " batch_normalization_8 (Batc  (None, 256)              1024      \n",
            " hNormalization)                                                 \n",
            "                                                                 \n",
            " dense_31 (Dense)            (None, 128)               32896     \n",
            "                                                                 \n",
            " dropout_11 (Dropout)        (None, 128)               0         \n",
            "                                                                 \n",
            " dense_32 (Dense)            (None, 2)                 258       \n",
            "                                                                 \n",
            "=================================================================\n",
            "Total params: 656,194\n",
            "Trainable params: 655,586\n",
            "Non-trainable params: 608\n",
            "_________________________________________________________________\n",
            "Epoch 1/100\n",
            "155/155 [==============================] - 10s 60ms/step - loss: 0.8711 - sparse_categorical_accuracy: 0.5399 - val_loss: 0.6790 - val_sparse_categorical_accuracy: 0.5574\n",
            "Epoch 2/100\n",
            "155/155 [==============================] - 9s 58ms/step - loss: 0.7391 - sparse_categorical_accuracy: 0.5745 - val_loss: 0.6630 - val_sparse_categorical_accuracy: 0.5744\n",
            "Epoch 3/100\n",
            "155/155 [==============================] - 9s 58ms/step - loss: 0.6987 - sparse_categorical_accuracy: 0.5860 - val_loss: 0.6261 - val_sparse_categorical_accuracy: 0.6416\n",
            "Epoch 4/100\n",
            "155/155 [==============================] - 9s 58ms/step - loss: 0.6662 - sparse_categorical_accuracy: 0.6099 - val_loss: 0.6119 - val_sparse_categorical_accuracy: 0.6699\n",
            "Epoch 5/100\n",
            "155/155 [==============================] - 9s 58ms/step - loss: 0.6387 - sparse_categorical_accuracy: 0.6354 - val_loss: 0.6042 - val_sparse_categorical_accuracy: 0.6934\n",
            "Epoch 6/100\n",
            "155/155 [==============================] - 9s 59ms/step - loss: 0.6339 - sparse_categorical_accuracy: 0.6421 - val_loss: 0.6026 - val_sparse_categorical_accuracy: 0.6659\n",
            "Epoch 7/100\n",
            "155/155 [==============================] - 9s 59ms/step - loss: 0.6187 - sparse_categorical_accuracy: 0.6597 - val_loss: 0.5856 - val_sparse_categorical_accuracy: 0.6788\n",
            "Epoch 8/100\n",
            "155/155 [==============================] - 9s 58ms/step - loss: 0.6055 - sparse_categorical_accuracy: 0.6713 - val_loss: 0.5803 - val_sparse_categorical_accuracy: 0.6845\n",
            "Epoch 9/100\n",
            "155/155 [==============================] - 9s 58ms/step - loss: 0.5985 - sparse_categorical_accuracy: 0.6806 - val_loss: 0.5725 - val_sparse_categorical_accuracy: 0.7047\n",
            "Epoch 10/100\n",
            "155/155 [==============================] - 9s 59ms/step - loss: 0.5894 - sparse_categorical_accuracy: 0.6919 - val_loss: 0.5805 - val_sparse_categorical_accuracy: 0.6812\n",
            "Epoch 11/100\n",
            "155/155 [==============================] - 9s 57ms/step - loss: 0.5784 - sparse_categorical_accuracy: 0.6949 - val_loss: 0.5513 - val_sparse_categorical_accuracy: 0.7330\n",
            "Epoch 12/100\n",
            "155/155 [==============================] - 9s 58ms/step - loss: 0.5682 - sparse_categorical_accuracy: 0.7063 - val_loss: 0.5504 - val_sparse_categorical_accuracy: 0.7330\n",
            "Epoch 13/100\n",
            "155/155 [==============================] - 9s 58ms/step - loss: 0.5619 - sparse_categorical_accuracy: 0.7079 - val_loss: 0.5585 - val_sparse_categorical_accuracy: 0.7225\n",
            "Epoch 14/100\n",
            "155/155 [==============================] - 9s 59ms/step - loss: 0.5582 - sparse_categorical_accuracy: 0.7123 - val_loss: 0.5452 - val_sparse_categorical_accuracy: 0.7225\n",
            "Epoch 15/100\n",
            "155/155 [==============================] - 9s 59ms/step - loss: 0.5552 - sparse_categorical_accuracy: 0.7130 - val_loss: 0.5421 - val_sparse_categorical_accuracy: 0.7403\n",
            "Epoch 16/100\n",
            "155/155 [==============================] - 9s 58ms/step - loss: 0.5468 - sparse_categorical_accuracy: 0.7206 - val_loss: 0.5329 - val_sparse_categorical_accuracy: 0.7443\n",
            "Epoch 17/100\n",
            "155/155 [==============================] - 9s 59ms/step - loss: 0.5359 - sparse_categorical_accuracy: 0.7271 - val_loss: 0.5387 - val_sparse_categorical_accuracy: 0.7306\n",
            "Epoch 18/100\n",
            "155/155 [==============================] - 9s 58ms/step - loss: 0.5338 - sparse_categorical_accuracy: 0.7283 - val_loss: 0.5258 - val_sparse_categorical_accuracy: 0.7403\n",
            "Epoch 19/100\n",
            "155/155 [==============================] - 9s 59ms/step - loss: 0.5241 - sparse_categorical_accuracy: 0.7328 - val_loss: 0.5269 - val_sparse_categorical_accuracy: 0.7379\n",
            "Epoch 20/100\n",
            "155/155 [==============================] - 9s 59ms/step - loss: 0.5202 - sparse_categorical_accuracy: 0.7360 - val_loss: 0.5346 - val_sparse_categorical_accuracy: 0.7354\n",
            "Epoch 21/100\n",
            "155/155 [==============================] - 9s 58ms/step - loss: 0.5199 - sparse_categorical_accuracy: 0.7326 - val_loss: 0.5319 - val_sparse_categorical_accuracy: 0.7354\n",
            "Epoch 22/100\n",
            "155/155 [==============================] - 9s 58ms/step - loss: 0.5170 - sparse_categorical_accuracy: 0.7411 - val_loss: 0.5251 - val_sparse_categorical_accuracy: 0.7411\n",
            "Epoch 23/100\n",
            "155/155 [==============================] - 9s 58ms/step - loss: 0.5112 - sparse_categorical_accuracy: 0.7494 - val_loss: 0.5248 - val_sparse_categorical_accuracy: 0.7451\n",
            "Epoch 24/100\n",
            "155/155 [==============================] - 9s 58ms/step - loss: 0.5028 - sparse_categorical_accuracy: 0.7372 - val_loss: 0.5112 - val_sparse_categorical_accuracy: 0.7532\n",
            "Epoch 25/100\n",
            "155/155 [==============================] - 9s 59ms/step - loss: 0.4997 - sparse_categorical_accuracy: 0.7482 - val_loss: 0.5393 - val_sparse_categorical_accuracy: 0.7379\n",
            "Epoch 26/100\n",
            "155/155 [==============================] - 9s 58ms/step - loss: 0.5005 - sparse_categorical_accuracy: 0.7470 - val_loss: 0.5093 - val_sparse_categorical_accuracy: 0.7605\n",
            "Epoch 27/100\n",
            "155/155 [==============================] - 9s 59ms/step - loss: 0.4822 - sparse_categorical_accuracy: 0.7617 - val_loss: 0.5116 - val_sparse_categorical_accuracy: 0.7532\n",
            "Epoch 28/100\n",
            "155/155 [==============================] - 9s 59ms/step - loss: 0.4965 - sparse_categorical_accuracy: 0.7575 - val_loss: 0.5306 - val_sparse_categorical_accuracy: 0.7451\n",
            "Epoch 29/100\n",
            "155/155 [==============================] - 9s 58ms/step - loss: 0.4795 - sparse_categorical_accuracy: 0.7642 - val_loss: 0.5363 - val_sparse_categorical_accuracy: 0.7322\n",
            "Epoch 30/100\n",
            "155/155 [==============================] - 9s 58ms/step - loss: 0.4725 - sparse_categorical_accuracy: 0.7634 - val_loss: 0.5324 - val_sparse_categorical_accuracy: 0.7419\n",
            "Epoch 31/100\n",
            "154/155 [============================>.] - ETA: 0s - loss: 0.4666 - sparse_categorical_accuracy: 0.7715Restoring model weights from the end of the best epoch: 26.\n",
            "155/155 [==============================] - 9s 59ms/step - loss: 0.4671 - sparse_categorical_accuracy: 0.7711 - val_loss: 0.5298 - val_sparse_categorical_accuracy: 0.7314\n",
            "Epoch 00031: early stopping\n"
          ]
        }
      ]
    },
    {
      "cell_type": "markdown",
      "metadata": {
        "id": "arrutir-nGFN"
      },
      "source": [
        "Model stopped due to overfitting \n",
        "\n",
        "sparse_categorical_accuracy: 0.7711 - val_loss: 0.5298 - val_sparse_categorical_accuracy: 0.7314"
      ]
    },
    {
      "cell_type": "markdown",
      "metadata": {
        "id": "o6KmXXQitpkL"
      },
      "source": [
        "## Model loss plot"
      ]
    },
    {
      "cell_type": "code",
      "metadata": {
        "colab": {
          "base_uri": "https://localhost:8080/",
          "height": 295
        },
        "id": "Pvf1b9httnGL",
        "outputId": "066dc014-87b5-4f1e-f9f9-3a4f9fbca178"
      },
      "source": [
        "plt.plot(history.history['loss'][1:])\n",
        "plt.plot(history.history['val_loss'][1:])\n",
        "plt.title('model loss')\n",
        "plt.ylabel('loss')\n",
        "plt.xlabel('epoch')\n",
        "plt.legend(['train', 'val'], loc='upper left')\n",
        "plt.show()"
      ],
      "execution_count": null,
      "outputs": [
        {
          "output_type": "display_data",
          "data": {
            "image/png": "[encoded data removed]",
            "text/plain": [
              "<Figure size 432x288 with 1 Axes>"
            ]
          },
          "metadata": {
            "needs_background": "light"
          }
        }
      ]
    },
    {
      "cell_type": "markdown",
      "metadata": {
        "id": "SWIXODVmtxnE"
      },
      "source": [
        "## Model evaluation"
      ]
    },
    {
      "cell_type": "code",
      "metadata": {
        "colab": {
          "base_uri": "https://localhost:8080/"
        },
        "id": "jv093SKrtzPL",
        "outputId": "c5d629fa-10ab-4ef4-d341-ac901f92646f"
      },
      "source": [
        "test_loss, test_acc = model.evaluate(test_images_flatten_dl, test_labels_dl)\n",
        "print(\"final accuracy : \",test_acc)"
      ],
      "execution_count": null,
      "outputs": [
        {
          "output_type": "stream",
          "name": "stdout",
          "text": [
            "39/39 [==============================] - 1s 14ms/step - loss: 0.5093 - sparse_categorical_accuracy: 0.7605\n",
            "final accuracy :  0.7605177760124207\n"
          ]
        }
      ]
    },
    {
      "cell_type": "markdown",
      "metadata": {
        "id": "8iifZKr5gCJi"
      },
      "source": [
        "# Entropy"
      ]
    },
    {
      "cell_type": "markdown",
      "metadata": {
        "id": "iP7qAEP1uVTB"
      },
      "source": [
        "\n",
        "\n",
        "surprise = log( 1 / p(x) )\n",
        "\n",
        "surprise to poprostu \"wskaźnik zaskoczenia\". Jeżeli mamy w pudełku 9 czerwonych piłek i 1 żółtą prawdopodobieństwo wylosowania czerwonej kuli to 0.9, zaś żółtej 0.1. Kiedy jednak mówimy o surprise moglibyśmy wziąć odwrotność prawdopodobieństwa. Wówczas surprise wylosowania czerwonej kuli byłby równy 10/9 zaś żółtej kuli aż 10. Wylosowanie żółtej kuli znacznie bardziej by nas zaskoczyło niż wylosowanie czerwonej kuli. Zatem powodem, dla którego surprise = log(1/p(x)) a nie 1/p(x) jest to, że gdybyśmy mieli 10 kul czerwonych i 0 żółtych, surprise wylosowania kuli czerwonej wynosiłby 1/1 czyli 1, czyli tyle samo ile wynosi prawdopodobieństwo. Stąd stosowany jest logarytm.\n",
        "\n",
        "Entropia jest to nic innego niż wartość oczekiwana z wskaźnika surprise. \n",
        "\n",
        "E(surprise) = Entropia\n",
        "\n",
        "* cz - 9\n",
        "* p(cz) = 0.9\n",
        "* surprise(cz) = 0.15\n",
        "\n",
        "* ż - 1\n",
        "* p(ż) = 0.1\n",
        "* surprise(ż) = log2(0.1) = 3.32\n",
        "\n",
        "Zatem wartość oczekiwana surprise dla całego zdarzenia losowania to\n",
        "\n",
        "0.9x0.15+0.1x3.32 = 0.47\n",
        "\n",
        "Innymi słowy oznacza to, że przy każdym losowaniu (ze zwracaniem) oczekujemy surprise równego 0.47.\n",
        "\n",
        "Zatem podsumowując entropia to\n",
        "\n",
        "E(surprise) = p(cz) * log2( 1 / p(cz) ) + p(ż) * log2( 1 / p(ż) )\n",
        "\n",
        "jeżeli chcemy uogólnić wzór do użycia dla każdej ilości możliwych zdarzeń wstawiając sigma, oraz używając właściwości logarytmów log(1/p) = log(1) - log(p) = 0 - log(p), wreszcie wymnażając i wyciągając minus przed sigmę otrzymamy poniższy wzór zapresentowany przez Caluda Shannona:"
      ]
    },
    {
      "cell_type": "markdown",
      "metadata": {
        "id": "G47bFfEyZQI5"
      },
      "source": [
        "![Screenshot 2021-11-21 at 22.27.18.png](data:image/png;base64,iVBORw0KGgoAAAANSUhEUgAABrYAAADgCAYAAABGklatAAABDWlDQ1BJQ0MgUHJvZmlsZQAAKJFjYGCSSCwoyGESYGDIzSspCnJ3UoiIjFJgf8rAzSDKIMYgzSCUmFxc4BgQ4MMABDAaFXy7xsAIoi/rgszClMcLuFJSi5OB9B8gTkkuKCphYGBMALKVy0sKQOwWIFskKRvMngFiFwEdCGSvAbHTIewDYDUQ9hWwmpAgZyD7BZDNlwRh/wCx08FsJg4QG2ov2A2OQHenKgB9T6LjCYGS1IoSEO2cX1BZlJmeUaIAsckzL1lPR8HIwMiQgQEU3hDVnwPB4cgodgYhhgAIscq9wJgIYmBg2YkQCwP6b40+A4MsM0JMTYmBQaiegWFjQXJpURnUGEbGswwMhPgAZzVLkr/DzEEAAACKZVhJZk1NACoAAAAIAAQBGgAFAAAAAQAAAD4BGwAFAAAAAQAAAEYBKAADAAAAAQACAACHaQAEAAAAAQAAAE4AAAAAAAAAkAAAAAEAAACQAAAAAQADkoYABwAAABIAAAB4oAIABAAAAAEAAAa2oAMABAAAAAEAAADgAAAAAEFTQ0lJAAAAU2NyZWVuc2hvdBaNlrMAAAAJcEhZcwAAFiUAABYlAUlSJPAAAAHXaVRYdFhNTDpjb20uYWRvYmUueG1wAAAAAAA8eDp4bXBtZXRhIHhtbG5zOng9ImFkb2JlOm5zOm1ldGEvIiB4OnhtcHRrPSJYTVAgQ29yZSA1LjQuMCI+CiAgIDxyZGY6UkRGIHhtbG5zOnJkZj0iaHR0cDovL3d3dy53My5vcmcvMTk5OS8wMi8yMi1yZGYtc3ludGF4LW5zIyI+CiAgICAgIDxyZGY6RGVzY3JpcHRpb24gcmRmOmFib3V0PSIiCiAgICAgICAgICAgIHhtbG5zOmV4aWY9Imh0dHA6Ly9ucy5hZG9iZS5jb20vZXhpZi8xLjAvIj4KICAgICAgICAgPGV4aWY6UGl4ZWxYRGltZW5zaW9uPjE3MTg8L2V4aWY6UGl4ZWxYRGltZW5zaW9uPgogICAgICAgICA8ZXhpZjpVc2VyQ29tbWVudD5TY3JlZW5zaG90PC9leGlmOlVzZXJDb21tZW50PgogICAgICAgICA8ZXhpZjpQaXhlbFlEaW1lbnNpb24+MjI0PC9leGlmOlBpeGVsWURpbWVuc2lvbj4KICAgICAgPC9yZGY6RGVzY3JpcHRpb24+CiAgIDwvcmRmOlJERj4KPC94OnhtcG1ldGE+CqzecW8AAAAcaURPVAAAAAIAAAAAAAAAcAAAACgAAABwAAAAcAAAaG5R5veMAABAAElEQVR4AeydB/jVRPb+j/pTVFSwrA0rAnZXUVZBERt2wIIFu1iwrorYu6IiogL2gmJDLGBB7KIiiIoFC4qCiKhYAHsBy+Z/3uxO/imTe5N7c/t7nuf7TTKZTPkkN5mZM3POAo6KUEiABEiABEiABEiABEiABEiABEiABEiABEiABEiABEiABEiABEigygksQMVWld8hFo8ESIAESIAESIAESIAESIAESIAESIAESIAESIAESIAESIAESMAlQMUWHwQSIAESIAESIAESIAESIAESIAESIAESIAESIAESIAESIAESIIGaIEDFVk3cJhaSBEiABEiABEiABEiABEiABEiABEiABEiABEiABEiABEiABEiAii0+AyRAAiRAAiRAAiRAAiRAAiRAAiRAAiRAAiRAAiRAAiRAAiRAAjVBgIqtmrhNLCQJkAAJkAAJkAAJkAAJkAAJkAAJkAAJkAAJkAAJkAAJkAAJkAAVW3wGSIAESIAESIAESIAESIAESIAESIAESIAESIAESIAESIAESIAEaoIAFVs1cZtYSBIgARIgARIgARIgARIgARIgARIgARIgARIgARIgARIgARIgASq2+AyQAAmQAAmQAAmQAAmQAAmQAAmQAAmQAAmQAAmQAAmQAAmQAAnUBAEqtmriNrGQJEACJEACJEACJEACJEACJEACJEACJEACJEACJEACJEACJEACVGzxGSABEiABEiABEiABEiABEiABEiABEiABEiABEiABEiABEiABEqgJAlRs1cRtYiFJgARIgARIgARIgARIgARIgARIgARIgARIgARIgARIgARIgASo2OIzQAIkQAIkQAIkQAIkQAIkQAIkQAIkQAIkQAIkQAIkQAIkQAIkUBMEqNiqidvEQpIACZAACZAACZAACZAACZAACZAACZAACZAACZAACZAACZAACVCxxWeABEiABEiABEiABEiABEiABEiABEiABEiABEiABEiABEiABEigJghQsVUTt4mFJAESIAESIAESIAESIAESIAESIAESIAESIAESIAESIAESIAESoGKLzwAJkAAJkEBJCMyYMUN++eUXad26tTRp0iRvHt988418/vnnsuSSS0qLFi1kiSWWyHsNI5AACZAACZAACZAACZAACVSeANrys2bNkjZt2kjTpk3zFmju3Lkyc+ZMWWSRRWTllVeWpZdeOu81jEACJEACJEACJEAChgAVW4YEtyRAAiRAApkQePfdd+XMM8+Up556ShzHkWWXXVb2228/6dOnj6y55pqBPN566y25/fbb5dlnn5WPP/7YO7fQQgvJbrvtJmeddZZsscUWXjh3SIAESIAESIAESIAESIAEqocAlFNnn3223H///fLXX3+5Sq0999xTTj31VNl4440DBf3kk0/klltukWeeeUbQZ/jPf/7jnl9ggQWkY8eOcsYZZ8iuu+4auIYHJEACJEACJEACJGAjQMWWjQrDSIAESIAECiIwadIk6dy5s8yZM0fWX399wcxN7ENWXXVVGTNmjLRq1Up+/fVXueCCC2TQoEFuB3jBBReU1VZbTVZccUV5//333ZVeuAbhN9xwg/Tq1QuHFBIgARIgARIgARIgARIggSoh8MUXX8h2220nU6dOdSewQbEFCwyQZs2ayejRo2XLLbd02/sDBw6Uiy66yGvnw0ID2v9TpkyR77//3qsRlFv9+vXzjrlDAiRAAiRAAiRAAjYCVGzZqDCMBEiABEggNYE//vjDnZX54YcfysknnyxXX321PPHEE7L77rt7ae2yyy5y1113yR577CHjx493lV0HH3ywHHTQQbLuuuu68WDCZKeddnIVXAhYbLHF5PXXX5cNNtjAS4c7JEACJEACJEACJEACJEAClSWAtj2sNOy9995yzz33uEqq9u3by7x589yCrb322gILDYcccoiMGDFClltuOenRo4cceOCBsvnmm7txfv75Z/d6WHCAYPXW448/zpVbLg3+IwESIAESIAESiCNAxVYcGYaTAAmQAAmkInD33Xe7ndZ27drJa6+95nZKkcCiiy4q8+fPd9OCr62NNtpIJk6cKN27d5ehQ4dabfBjRucpp5zi5X/UUUe5Zku8AO6QAAmQAAmQAAmQAAmQAAlUjAAmqW211VaufyysuoKfXMiGG27oTVDDcYcOHeSVV15x4z744IOuhQaE+2XUqFHStWtXLwirwJ5//nnvmDskQAIkQAIkQAIkECZAxVaYCI9JgARIgAQKItCpUycZO3asuyILq7AgUGjBefTff/8dSBOzNO+8806BLy2bYJZmly5dvFNt27aVN9980zvmDgmQAAmQAAmQAAmQAAmQQOUI9OzZU+644w658MILXRPjpiStW7eWadOmmUN3u80228hjjz3mKb8CJ/UAFh/WW289L7h58+YB84TeCe6QAAmQAAmQAAmQwP8IULHFR4EESIAESKBoArCrv84667id1S+//NJbhQUTgsbMiMkEdvYxAxOrt+IESq/DDjvMO73ZZpu5q7y8AO6QAAmQAAmQAAmQAAmQAAlUhAD85a6yyiry448/ukopmByEzJ07V1ZaaSX5888/vXKttdZa8uqrr7pmCL3A0M64ceOkY8eOXujSSy8t3333nXfMHRIgARIgARIgARIIE6BiK0yExyRAAiRAAqkJGNOBWGWF2ZhGBg0a5PrbMsdQZmHl1frrr2+CrNvzzz9fLrnkEu8cTJM8+uij3jF3SIAESIAESIAESIAESIAEKkMA7f1u3bq5bfr333/fK0TY6gJOjB49Oq+/rPCkNvQV/Ol6GXCHBEiABEiABEiABP5HgIotPgokQAIkQAJFE4APrNtuu02g4DrppJO89Pbbbz954IEHvONevXrJTTfd5B3H7cAB9ciRI73TvXv3lquuuso75g4JkAAJkAAJkAAJkAAJkEBlCPTr10/OOussOfHEE2Xw4MFeIc4++2y5/PLLvePOnTvLM8884x3H7Zx22mkyYMAA7zSUZo888oh3zB0SIAESIAESIAESCBOgYitMhMckQAIkQAKpCcyZM0d++uknWWONNWTBBRd0r3ccR1ZbbTX54osvvPRGjBghe+21l3ds27FdN3ToUDn00ENt0RlGAiRAAiRAAg1BYNKkSTJq1CjXXBf81VBIgARIoFIEfv75Z/nqq69kzTXXlIUXXtgrBt5NL730knfcv39/gdIqn4SvO++88+Tiiy/OdxnPkwAJkAAJkAAJNDABKrYa+Oaz6iRAAiRQSgIwH7Lhhht6WSy00EIC/1srrLCCF2bbwcDdJptsEjj10UcfSZs2bQJhPCABEiABEiCBRiFwxx13uCuiMZjcunVr+fjjjxul6qwnCZBAjRD45Zdf3Hb+b7/95pV4/Pjx0qFDB+/YtvPDDz/IyiuvLL///rt3+oknnpBddtnFO+YOCZAACZAACZAACYQJULEVJsJjEiABEiCBTAjceOONctxxx3lpQVn11ltvecdxOzBfAjMmRmhj35DglgRIgARIoNEITJkyRfr27SvDhg0TrGiGULHVaE8B60sCtUEAJgd32mknr7BLL720fPPNN4EVXd5J3879998v+++/vxey1FJLyaxZs6Rp06ZeGHdIgARIgARIgARIIEyAiq0wER6TAAmQAAlkQuCAAw6Q++67z0srbIPfOxHaadeunbzxxhte6Jlnnhmw1e+d4A4JkAAJkAAJ1CEBrHaAb5nhw4e7vmnmz58fqCUVWwEcPCABEqgSAueee65ceumlXml23XVXGT16tHcctwOlFpRbRvbZZ5+Aj14Tzi0JkAAJkAAJkAAJ+AlQseWnwX0SIAESIIFMCNj8ZKHDuu++++ZMHyu6Nt10Uy/OAgssIDBNuNFGG3lh3CEBEiABEiCBeiCAbyVM7U6ePNk1LYjVWR988IFgC5NecULFVhwZhpMACVSSQKdOnWTs2LFeES677DI566yzvGPbzuzZs10/Xb/++qt3euTIkbLnnnt6x9whARIgARIgARIgARsBKrZsVBhGAiRAAiRQFIG3335b2rZt66Wx4IILyhdffCErrbSSF2bb6d27t1xzzTXeqa233jrggNo7wR0SIAESIAESqGEC6623nnz++ec5FVhx1aNiK44Mw0mABCpFAH6y0M6fN2+eVwQouTp27Ogd23auv/56OeGEE7xTq6++ukydOjWv+ULvAu6QAAmQAAmQAAk0LAEqthr21rPiJEACJFA6AlBOQUllBCuu3nnnHXNo3f7999/SsmVLmTlzpnf+tttukyOOOMI7njNnjtx9993Svn172WKLLbxw7pAACZAACZBALRFYbbXVXMVWXJmxYnnJJZeUn376KRKFiq0IEgaQAAlUmMBjjz0m3bp180oBP1nffvutNGnSxAuz7Wy33XbywgsveKewwgsrvYzANOvQoUPdVV277LKLCeaWBEiABEiABEiABISKLT4EJEACJEACmRPYa6+95OGHH/bSPfbYY+WGG27wjm0748aNC8zqXHzxxd1Bv2WWWcaLft5550nfvn3l3//+twwaNMgL5w4JkAAJkAAJ1BIBm2KrRYsW7qSNrbbaSmDS6/bbb5frrrsuUi0qtiJIGEACJFBhAqeddpoMGDDAK8WOO+4oTz/9tHds2/n6668F78I///zTOw2z5Jtssol3DKXW4YcfLrvttps8/vjjXjh3SIAESIAESIAESICKLT4DJEACJEACmRLAyquVV17ZnaVpEh42bJj06NHDHFq3F154oVx00UXeuXAHFr5INthgA9f/yPjx46VDhw5eXO6QAAmQAAmQQC0RuOeee1yTXcsvv7xAobXKKqvICiusEKjCiSeeSMVWgAgPSIAEqpUArCm8+uqrXvEwEe2cc87xjm07sMJwyCGHeKfWWWcd+fDDD71j7HTt2lVGjRrlWmw46KCDAud4QAIkQAIkQAIk0NgEqNhq7PvP2pMACZBA5gQmTZoUmGm50EILuf61VlxxxZx5bb/99jJmzBgvzlVXXRUwZ/jII4+4jqQxixOzOSkkQAIkQAIkUM8EqNiq57vLupFA/RD48ccfXcX8/PnzvUq9/PLLgtWnueToo4+WW2+91Yty/PHHB5T57777rmy66abSvHlzmTFjhjRt2tSLyx0SIAESIAESIAESoGKLzwAJkAAJkECmBG6++WY55phjvDTbtWsnr7/+uncct7PccsvJ3LlzvdMTJkzw/Gj98ccfstlmm8l7770ngwcPFgz2UUiABEiABEignglQsVXPd5d1I4H6IfDcc89J586dvQqhTT9r1ixZeOGFvTDbzuabbx7oI9x7771ywAEHeFG7dOnimh88+eSTBf57KSRAAiRAAiRAAiTgJ0DFlp8G90mABEiABIomcOSRR8qQIUO8dMJOoL0ToZ2NN95Y3nnnHTd0iSWWkDlz5ngOpzGDEz66YH4QDqYXWWSR0NU8JAESIAESIIH6IgB/ktdee22kUvSxFUHCABIggQoSuPzyy+Xss8/2SrDvvvvK/fff7x3H7ey9994ycuRI7zTMEMIcIQSWG/r06SMtW7aU1157TaAso5AACZAACZAACZCAnwAVW34a3CcBEiABEiiaAEwFwhyhkRdffFE6depkDmO3V199tZx66qnueZgvhANqdGavvPJKGTdunGAgDzNC4WSaQgIkQAIkQAL1TiBOsdWqVSuZOnVqvVef9SMBEqgRAvvss4889NBDXmkxwa1nz57ecdyOMTNuzqMfsOuuu8rAgQPdlVrLLrusPP3009K2bVsThVsSIAESIAESIAES8AhQseWh4A4JkAAJkEAWBJZffnmZPXu2mxSUUZMnT85rigSRYZcfDqKfeeaZSDHWW289GT16tKyxxhqRcwwgARIgARIggXokQMVWPd5V1okE6o9A+/bt5dVXX3UrBn9YU6ZMcX1uJanpUUcdJbfddlsk6korrSSPPfaYa4o8cpIBJEACJEACJEACJKAEqNjiY0ACJEACJJApgVGjRslNN90kLVq0kJNOOknWX3/9xOnDl9awYcPkzTfflOnTp8sGG2wg22+/vXTs2FEWW2yxxOkwIgmQAAmQAAnUOgEqtmr9DrL8JNAYBKDU6t+/vyy++OLSq1cvt92etOaO4whWbsE6w8cffyxrrrmm2/bfZpttpFmzZkmTYTwSIAESIAESIIEGJEDFVgPedFaZBEiABEiABEiABEiABEiguglQsVXd94elIwESIAESIAESIAESIAESqBwBKrYqx545kwAJkAAJkAAJkAAJkAAJkICVAFY9Dx48OHKOPrYiSBhAAiRAAiRAAiRAAiRAAiTQYASo2GqwG87qkgAJkAAJkAAJkAAJkAAJVD8BKraq/x6xhCRAAiRAAiRAAiRAAiRAApUhQMVWZbgzVxIgARIgARIgARIgARIgARKIJUDFViwaniABEiABEiABEiABEiABEmhwAlRsNfgDwOqTAAmQAAmQAAmQAAmQAAlUHwEqtqrvnrBEJEACJEACJEACJEACJEAC1UGAiq3quA8sBQmQAAmQAAmQAAmQAAmQAAl4BKjY8lBwhwRIgARIgARIgARIgARIgAQCBKjYCuDgAQmQAAmQAAmQAAmQAAmQAAlUnsDJJ58sgwYNihSkVatWMnXq1Eg4A0iABEiABEiABEiABEiABEigUQhQsdUod5r1JAESIAESIAESIAESIAESqBkCVGzVzK1iQUmABEiABEiABEiABEiABMpMgIqtMgNndiRAAiRAAiRAAiRAAiRAAiSQj0CcYmuttdaSadOm5buc50mABEiABEiABEiABEiABEigbglQsVW3t5YVIwESIAESIAESIAESIAESqFUCcYqtli1byieffFKr1WK5SYAESIAESIAESIAESIAESKBoAlRsFY2QCZAACZAACZAACZAACZAACZBAtgTiFFtrrrmmTJ8+PdvMmBoJkAAJkAAJkAAJkAAJkAAJ1BABKrZq6GaxqCRAAiRAAiRAAiRAAiRAAo1BgIqtxrjPrCUJkAAJkAAJkAAJkAAJkEB6AlRspWfGK0iABEiABEiABEiABEiABEigpASo2CopXiZOAiRAAiRAAiRAAiRAAiRQwwSo2Krhm8eikwAJkMAvv/wizz//vDiO4/795z//caHgGGLC/du04Vmm5RYq5t8CCywQc0Yk17nYi3wnCrl+xRVXlP3339+XCndJgARIgARIoHwETjnlFBk4cGAkwzXWWEM+/fTTSDgDSIAE6p8A2uWjRo0StPmLad+DlP96/37cubThSDOX5Guf5ztfTNq2axdbbDHp1auX7RTDSIAESIAESIAEqpAAFVtVeFNYJBIgARJISmD48OHSo0ePpNEZLwWBRRddVD7++GNZddVVU1zFqCRAAiRAAiSQDYE4xdbqq68uM2bMyCYTpkICJFBTBF5//XXZfPPNa6rMtVTYl19+WbbaaqtaKjLLSgIkQAIkQAINS4CKrYa99aw4CZBAPRAYPHiwnHTSSfVQlaqsw3nnnScXX3xxVZaNhSIBEiABEqhvAnGKrdVWW00+++yz+q48a0cCJGAl8Pjjj0uXLl2s5xhYPIEDDjhA7r333uITYgokQAIkQAIkQAIlJ0DFVskRMwMSIAESKB0BmCLp2rVr6TJo8JRbtGghU6dOFZgmoZAACZAACZBAOQnEKbawknjmzJnlLArzIgESqBIC77//vrRt21b+/PPPKilRfRUDFhs++ugjwQQCCgmQAAmQAAmQQHUToGKruu8PS0cCJEACeQkcdNBBqWcWLr300jJmzBhp2bKla18fmcTZ1vefM/vYQsw1Zt8NTPjvr7/+kj/++EPCW4T9/fff7jl02v1/P//8s8yePTvw9+2338qcOXPcMKSVtQwZMkR69uyZdbJMjwRIgARIgARyEujdu7dcc801kThUbEWQMIAEGooALAr07ds3VZ0XXnhh1zdX+/btI21/JBRu04ePTWZx4eZ8rq1p35u2v2nj29r+po8Af8KmnY8+gGn3m+38+fNzZVnQuXPPPVcuueSSgq7lRSRAAiRAAiRAAuUjQMVW+VgzJxIgARIoCYHvvvtOOnTo4M4uTJPBlltuKc8//7w0adIkzWVVGxdKr/fee0+mTZvmsnj33XflzTfflK+++qqoMsOPwauvvlpUGryYBEiABEiABNISiFNsrbLKKvL555+nTY7xSYAE6oQAFEKdO3eWl156KVWN1lprLZkwYYL84x//SHVdtUaGUgttf/jExd/kyZPdtv+nn35aVJFXXnll12LD4osvXlQ6vJgESIAESIAESKC0BKjYKi1fpk4CJEACZSEwfvx42WGHHWTevHmp8jvttNOkf//+qa6ppciYVfrWW28JHEGD0bhx4+Trr79OXQWsbtt2221TX8cLSIAESIAESKBQAnGKLZjJ/eKLLwpNlteRAAnUAYHp06fLFlts4VosSFOd7t27y4MPPpjmkpqL++GHH8rYsWPddj/a/jNmzEhdh1tvvVWOPPLI1NfxAhIgARIgARIggfIRoGKrfKyZEwmQAAmUlEC/fv3krLPOSpXHQgstJI888ojsvvvuqa6r1cgwffLss8/Kww8/LI8++qhrziRJXfbbbz8ZPnx4kqiMQwIkQAIkQAKZEIhTbGE1wZdffplJHkyEBEigdgncf//90qNHD8+0YNKaDB48WE488cSk0Ws6Hia5QbmFtv/IkSPls88+S1Sfdu3ayeuvv54oLiORAAmQAAmQAAlUhgAVW5XhzlxJgARIIHMCsFvfpUsXefLJJ1OljZnfMLUH00aNJL/++qtgNib8l8ycOTNn1WGu8YMPPnB9kuWMyJMkQAIkQAIkkBGBOMXWSiutJLNmzcooFyZDAiRQywSOP/54ueGGG1JVYYkllpAXXnhBNttss1TX1XpkTHC79957ZcCAAfL+++/nrQ5Mtm+33XZ54zECCZAACZAACZBAZQhQsVUZ7syVBEiABEpCAKaJYJYk7UzunXbaSUaPHi1YwdVo8tNPP7nKLSi4fvzxx9jqn3nmmXL55ZfHnucJEiABEiABEsiSwKmnnipXX311JMkVV1yxaP+RkUQZQAIkUJMEMFGrY8eO8vbbb6cq/4Ybbuia6m7WrFmq6+ohMnyU3XLLLW67Plefad999xWsiqOQAAmQAAmQAAlUJwEqtqrzvrBUJEACJFAwgVGjRsmee+4pWMGVRi655BI599xz01xSV3Fhf//000+Xhx56yGrSBTPkp06dKk2bNq2rerMyJEACJEAC1UkgTrG1wgorFOQvsjpryVKRAAkUS+Cdd95xlVs///xzqqR69uwpQ4YMSXVNPUWeO3eunH/++a6SC6u5wgKLDZMnT5a11lorfIrHJEACJEACJEACVUCAiq0quAksAgmQAAlkTeC0005zzWykSRedt6eeekq22WabNJfVXdxhw4bJKaecYvW/dfPNN8vRRx9dd3VmhUiABEiABKqPABVb1XdPWCISqFYCN954oxx33HGpirfAAgvI0KFD5ZBDDkl1Xb1FhsnBY445RqZNmxap2hlnnCHwY0whARIgARIgARKoPgJUbFXfPWGJSIAESKBoAvPnz5dtt91WJkyYkCqtVq1aySuvvCL/+Mc/Ul1Xb5HRsT3wwAMjTqPpSLre7jTrQwIkQALVSyBOsbX88svLN998U70FZ8lIgAQqQmC//faTBx54IFXeSy+9tIwfP17WXXfdVNfVW+TZs2fL4Ycf7ppm99cNpl9hsQF+ySgkQAIkQAIkQALVRYCKreq6HywNCZAACWRGYMqUKdKhQwf5/vvvU6W5zz77pO4Up8qgRiLD31aPHj3kySefDJT42WeflR122CEQxgMSIAESIAESyJoAFVtZE2V6JFDfBObMmSPt27e3rjzKVXP45x0zZowstthiuaLV/TmYI8TKrbB5RlpsqPtbzwqSAAmQAAnUKAEqtmr0xjV6sb/66isXAXzeUKIEwAcrdlZddVVZaKGFohEY0jAE7rzzTjnssMNS13fw4MFy4oknpr6u3i747bffpFu3bvLcc895VaMjaQ9F4p3PP/9cFl100YZfCZgU2Lx58wTv8SWXXFKWW265pJcxHgmQQJ0R6NOnj1x11VWRWmFV9bfffhsJZwAJkAAJvPTSS7LTTju5fcE0NGCG++qrr05zSV3GdRxH4HsMJhqNbLbZZjJx4kRzyG0CAl9//bXrs5jjNQlgaRQoVdFfgnIZqwQpJEAClSPw5ZdfysILLyywkEDJT+D33393ff8utdRSsuyyy+a/IOsY+uGmkEBNEbjiiiucRRZZxFGFjXPXXXfVVNnLUdjPPvvM5aPvCqd79+7OTz/9VI5smUcVE1CzGg6ehzR/am7DeeONN6q4VuUrmpomcTbYYAOPn/oic9RUYfkKUMM5/fHHH85JJ53kqA8HRztqjg621HBtyld0HVxyn7dmzZo5Dz/8cPkyZk4kQAJVReCEE07wvj3+b/gyyyzj/Oc//6mqsrIwJEAC1UPg4osvtr47/O+R8D761o888kj1VKKCJdEJRo5aZwgwfOaZZypYotrK+sorr/TGa3SSZW0VvkKlve6669znDeNc2KeQAAmUn8Cff/7pqK96Z8EFF3THLvjeT3YPevXq5b6/VKnlPPHEE8kuyjAWV2xpi45SOwROPvlkGTRokFvgf/7znwJHrxXRCFcxMn0/uL6B7rvvPreUMEcxYsQI4WypKr5pJS7aDz/8IFtuuaV88MEHqXLaaKONZNy4ce6qkVQX1mHkd999V7beemuBeUIIHUnnv8mq1JIDDjjAff8gNmYPP/roo6KKwfwXN3iMN9980zV3id8uZovpAIGogrDBqbD6JFBfBH7++WfRyUfuLG1TM8zYxkphnaQkL774omD1tHayzenAdpdddpGuXbvKWmut5fp+wbsVK2Ox1YExd8uZpgFkPCCBhiHw999/y8477xywOJCk8ugvwj/v6quvniR6XcfBiiP0o2fMmOHWk6bak93u3r17yzXXXONGRl8S4zW0PpCfHVZrderUST799FPRCYGCFZQDBgxw9/NfzRgkQALFEkAb/OCDD5bhw4e7ScFfvSpp3LZ1sWnX+/WvvPKK2+ZA3wb9EPRfjj766LJVm4qtsqFmRsUSOOuss6Rfv35uMjCxhw5/y5Yti022Lq/HoAgGPMaOHevWb5NNNnH9BK2wwgp1WV9WKj+B1157Tbbbbjt3wCx/7P8f46ijjpJbbrnl/wc08N6NN94oxx13nEsAvyVdtUVH0jHPAxqGhx56qAwbNsyNgXcQfJNxIkIMMEvwqFGjRFfdChSE6OCic4vBAgoJkEB9EDj99NNdpXWparP++uvL+++/X6rkmS4JkECVE5g5c6bAd5Yx4Z+0uJ07d3b7jTRnL/L000/LbrvtJlAUYsIAJgliMgHFTuCcc86Ryy67zD25yiqryAsvvCCtWrWyR2ZohAAmtuH3Z/xj66ptd4AY/QAKCZBA6QjgHX/kkUd6Jmg33HBDVykP09+UZATuv/9+Oeigg9wJe2g/6MpT12dlsquLjJXh6i8mRQIlI3Duued6pgCaNm3q6CqSkuVVLwmrXVhHG94et80339z57rvv6qV6rEcBBNRPh/c86Kcj0T5MyN19990F5FZ/l8Dsk87c8bipI+n6q2QGNcIS/kMOOcTjpLN/nY8//jiDlBsvCfV14XGESYRaeeZggnLu3LmNd8NYYxJIQQCmTpJ+iwuJp4qtFKVhVBIggXokMHLkSNekUtp3yEUXXVSPOAqq0xFHHOG9q3VCQkFpNMJF5513nscJ4zUvv/xyI1Q78zriN/t///d/Hku1EpJ5HqVIUBUDjvr+LEXSTJMESkpAJ+Q6qtTyfnOqzHJ0EkNJ86zXxC+55BKPI95j5XIdxBVb2sqrVnnrrbcETuswQ0MfCoHWM25rm1GFGfP4w2xv/GFJ4KabbupubXXGbK7p06e7ecD0EWYl6UCamy+2Zt/kBa22DvS6M5iwNfsmP6QBc4EoczGiPw45//zzvSSg+T3++OO946x24IQbphdQT5QZf6iD4e5nH541AxYwFYM/1B/XwMksnH/Gib7M3KWtuEdID3khPv5gSgZbbRS65YEzvvnz54va+3bTxxbH+GvdurWss8461mywSmf77beXX3/91T1PU2BWTA0TiGdujz32kMceeyxVnbHKBsuL27Rpk+q6eoyMd0THjh3d9x5WIWFmXfh9UI/1TlonPGNY5TdkyBD3Erw31V+DO9s1aRqMFySAlW/aKHQD8V2GeYQ999wzGKlMR5h5+9FHHwlMJMIsJ8wN/PLLL+4W+wjDt/Sbb75xZ2xxtWeZbgyzqUkCXLFVk7eNhSaBmiPgN+WftPBobzz11FMCU0yNLl988YVgBSxMx2L2PsZL1Bdxo2MJ1L9v376iii0v7NprrxWsNqIURuDCCy8UVS57F8O0I37HlRD1uS0Yl0QbH+3/cNsfvwu0/WG6UydSu6tcKlFO5kkChRDA2AUs8tx0003u5RgLfuihhyrW1y6kDtV0DXjuu+++LkOUC2Pa6i/cdUlRynJSsVVKukWkDRNXG2+8saeQKCKpwKU9e/b0Bhz9J3Q2vay33nruYK0/vNh9KKCgiCpUMDiKQVL8QCAYzNNZLIUml/M65HPbbbfljJPmJEwBwiZrnDz44IPujz7ufNJwmJjAYHucwL6p3zcLTcvFkWqMcNPohHmSNAIfXbCRDgV5ows6Fm+//bar0IJ5wnXXXbfRkXj119W1cumll3rHsA+vq468Y+6kJ4CO5FZbbeWZFGvWrJnrMwOTJ8otaJe88847ibLltyYRJkZqYAJTpkyRTz75xJ0MhclN+AtPrDITrLDF99dMoMJkMjOhykxkM1uEYx8Dr/ANSSEBEmhsApggCd89EydOTAUCJvfQx6QpJpH+/fvL6NGj3bY/zO3BXBzlvwRuv/1214SXGa/BJEoMZFIKJ4BJ0zCBCVOYELQBMHbUrVu3whMt8Mq999478fgb3B5gvIBCArVCILyIotjx61qpdynLqVZbpEOHDgIdAwQ+FjE5doMNNihdtvoBolQhgYEDB3pL+PTuZ7avM2estb3hhhsyy8Nf3mOOOcaaX5JAbXw7WMZu0sOSUHWqmeTSguLAXJbJK4vtrrvumrMcflNdxeSnCrSc+ejgh6POxQN101lUOa/hyfomoI3kgImDpM8fzW/U93NRbO20Exswd6OTJRyd1VdssrxeCejAkqMreb33uK6edFRJXXY2a6+9tleGfO8NVWyVvXzMkARIgARIgARIIEpA/e05OjEm8TfcfOP32WefaGIMIYH/EVDLFY5OovCeK4zXfPbZZ+STAYEZM2Y4yy+/vMdWLag4kydPziDldEnsvPPOXhnMeyFuq4qtdIkzNglUkIBOVgiMiaklLEdXJVawRPWT9ZgxYxxVyHvvDlVqldQtDlbCUKqQwJ133ulA0aImrryHIe4DkiRcl1Q6Sy65pKPLiK21HTFihLP44otnkhfKo6b4nObNmzs6s9uaX75ANefn6Gz0QHmgfCuVQPmjDk4D+SXhGhdHzTc4Q4cOzVlcXVIe+LHHpZUv/IEHHsiZD06iYYTGkEkL9/rVV1/Nex0j1C+Bs88+23sezHORb6szyR00ACgkECYwZ86cwDsU3xw1YROOxuMiCIR/szoj1sG3q5yiqxMTvzdgq5xCAiRAAiRAAiRQHQTUMknib7i/T8AJkdVx/6qtFLo62PnXv/4VeKauv/76aitmTZcn/JvF+Ji6mChrnXTlWOAe+98N4X0qtsp6a5hZEQSgwFpzzTW9Zxvj7uquo4gUeWmYgFo58vjiXXHAAQeEo2R2TFOESrhaRe+ya8MWJsNg1/a9994TXbEkL730kmvD1lZu+GaCPeMddthBllpqKfcPfpqWWWYZUcVWTl8wWPIMk0cwVTZ16lT59NNP3b+7775bvv/+e1t2rpkTmLmDqROTnypN3OWGyLdQ3zMwX3jiiSd6eWIpozogdf1NeYEZ78BmMHxRwXzLd999J1hCCd733XefPPvsszlzg+1QlHGbbbZxWbRt2zaR7W3Y7H7xxRddG8owPxknYAlTVPClBbMQLVu2dLe4py1atIi7LBAeNkm44YYbun6TaCM8gKlhDmCqCP7X8LtKI6oAFlWKJn7u0qTNuLVLoE+fPnLVVVd5FdCGi9x7773eMXeKJ/Dbb7+5fjJhvsxIqXxOmvTDW3wX8a1Uh7oyadIk910QZ3JXFVty6623hpPgMQmQAAmQAAmQQIUIHHzwwXLPPfekyh39TYw/wLcshQQMAVViBfxotW/f3u1XGn/sJh63hRPAeCB8pPvHok499VQZMGBA4YmmvNL41oKPXZgjh39p+CDC2GFYaIowTITH1UpAJ4zK5Zdf7hUPJjfxXFOyI4B3B9oN0CsYueOOO+Swww4zh9ltM1ORMaGyEVClRkDzqU+Dd9y7d+/My7Hyyit76fvzwv7555+feX7qfNJdrWbywsx/tcmZeT5pEgzPRjJlM9thw4alSS4SFyvpbKvzVGnlqPNQ56uvvopckzYAq+DUP0rgXtK0XFqK9RVf7d46avM28EyYZzrXFjO3yr1SpL7I11dtYBZDlfvecwSTJKqor69KVklt1L6+xxm/UayMVh89FS2d2vsPlMm8O7hiq6K3hZmTAAmQAAmQQISATt50dKKk9bttvt+2LfqQNC8dwdmwAbDU4B8jqobxmnq9GW+88UbAyg/Me40dO7ai1cWYo+09wRVbFb0tzDwhAVXSBkyoYhxDJ20mvJrR0hCAFTP/uwLmVXVxR5okEsWlKcJEmKon0vTp060KEPOw6MzpTAurM8MDD6LJx2xhOzNrCX8oVXuedRap07v55ptzcujevXvqNP0XqOY6kj7MTH3zzTf+aEXv6yyEQD7w2VKouciiC8MEqoIAlLI2par5jcdt+/XrVxXlZyEqT2CvvfYKvFd0JmHlC1XHJdAV0gHelfZ/oau6A+Ux7wwqtur4IWTVSIAESIAEapbA+PHjA347zXc737ZXr141W2cWPFsCaOv7nxf0BSilI3DooYcGeGPSNUxBVkrwDvHff7NPxVal7gjzTUNg//33Dzy/avEszeWMm4KAruyMuBjC+yxroWIra6IlTm/48OGBH6H5iGALh7BZ29yNG7BCfmre0Jk3b16mNYam3D/zH766Jk6cmGkehSSGGWp+551+7thv0qSJ8+WXXxaStPPhhx+6LE2a8GPUv3//kqyIwSqbdu3aBZ6hrl27FlRuXlQ/BI4++ujAM2GexVxb/E7RqKU0NgH40fIrRvEdmjVrVmNDKXHtYf/b/9sE/+eff77EucYnH9dOoGIrnhnPkAAJkAAJkEAlCWCCmr8tkWQf7Q010V/JYjPvKiCAsQu/b3aM17z++utVULL6LQKsY2Cllv93esstt1SswlRsVQw9My6SACyBYYWp+S3B0oy6/ikyVV6ei0BYh4Fvhro2yXVJ6nNUbKVGVtkLwrNjzA8SW5gHy1rUf5b3o/fnhf1SKEQw89yfz+677551lQpOLxd7lFlttKZOG4pIv5lDdBgGDRqUOp00F4RXhyFPtZueJgnGrTMCP/30k/PPf/4z8Nvz/w7j9mHKBCZNKI1JADNwNt9888Bzo74RGxNGGWuNCQpqrzrAXf1qlrEEwaxGjBgRKIt5X1CxFeTEIxIgARIgARKoFgJow+26667W77f5jtu2//jHPxz1xV0t1WA5KkBgv/32Czw31TReUwEcZcsybCGjdevWmU8yT1qZt99+O/AMmHfFtttumzQJxiOBshNAH3qrrbYKPLuY4E0pLYG//vrLWXvttQPcs9YlULFV2nuYeephE0TmI4LtFVdckXl+6gQ08AD681OnlZnm98orrwS058hr5MiRmeZRTGJYTYbVVH4G/n38WNFJSCOHH354ID340yq1QJm24oorBvKtBnOPpa43089NQB3BBmwN+5/tXPuHHHJI7oR5tm4JqPPxwHsEs58mTZpUt/WtpophAoT/d4kJCpWytz9q1KhAWUy5qNiqpieGZSEBEiABEiCBIAH4uVhllVWs33DzLbdtO3Xq5MB3M6XxCEyYMCEyXoMJTpTSEwhbbMBvExOWKyEYF7O9G6jYqsTdYJ5JCYR9VaP/zNWmSekVF++yyy4LvDMwboTxx6yEiq2sSJYhnd9++81p2rRp4IHwf1CgGMpSfvjhh4BZQH9e2H/ttdeyzM4Jz0JZY401Kmo72FY5rIoLc/AfP/PMM7bLrGEwN+i/tpwrHY477rhA3osssojzySefWMvJwMYhcO211waeC//zmWt/yJAhjQOJNXUJYMZT27ZtA88LBjoo5SHw1VdfRfxjHHbYYeXJPJQLfHva3g9UbIVA8ZAESIAESIAEqozA448/7sAskO07nivsnHPOqbKasDjlIAC/4v7nYvXVV6+68ZpycKhEHvCptdpqqwX4Y9J7JWTKlCmBcphngoqtStwN5pmUwBZbbBF4bnFMKQ+B6dOnRxaJYEw6K6FiKyuSZUgH9kDNRyO8hVmArB1Ijh49Oja/Fi1aZOoDCraaw6uh+vTpUwaq6bIIa/nD96FHjx6JEoSdUX99DzzwQAdLNMsltnsLLTqFBPbdd9/Y3334eTfHzZs3d2D7m9I4BGzvkOuuu65xAFRBTXfcccfAbxX+zTAhpdwSp9g64ogjyl0U5kcCJEACJEACJJCSwBlnnBFoT5j2fa4t/P2kmdCZskiMXoUEMF4T9vMEVw2U8hE49thjA79VrHp4//33y1eA/+X00UcfBcph3hVUbJX9VjDDhASee+65yDN79dVXJ7ya0bIgEDYDucIKKzi///57Fkk7VGxlgrE8icCHk/lohLdZ26hEjTATK5yPOYZt5Szl9NNPj+RVKbNKueoF5WHLli0jZTVcFl10Uefrr7/OlYTz7LPPBky+YRXYvHnzcl6T9Um8QJZZZplAPTp06JB1NkyvBgnMnj3badOmTeDZMM93ri18LWFVKaUxCIQVoFj1CZM2lPIRuOqqqyK/U0yaKLdQsVVu4syPBEiABEiABLIjMH/+fCeXu4O49j+sq+Tr92ZXSqZUaQJnnnlmpN1JP93lvSsPP/xw5B4U4ue92FJTsVUsQV5fbgIHHXRQ4LeDlcpYRUQpH4GLL744cA/QtsCq8SyEiq0sKJYpjT333DPyIJiG5qWXXpp5KbbZZpvY/LKcmQ+/VGuuuWYgLyxrh6mrahT4wTLcbdsrr7wyttgwF+lXKEGZVIkZ9ihg2PQjXu40Rxh76xrqxMsvvxwxc2Z71sNhvXv3bihOjVrZOXPmRMzi0gxh+Z8G+DML/wYr4fOOiq3y33vmSAIkQAIkQAJZEpg6daqz/PLLR9oV4XZG+BjjE9XaZ8+ST6OnhXu81lprBZ4PmMVL61+80TkWW/8ff/wx0gfr2LFjscmmvp6KrdTIeEEFCWC8damllgq8v2iGsPw3ZPz48YF7gPZEVuYIqdgq//0sKEc0JlZaaaXIg2Aal1nPlvn+++9z+td65513CqqH7SKszDL1MNtK+QqxlS8cNmPGDKdJkyaRMpuyr7feetYG/sSJEx0st/THg5+USsngwYO9spgyIYxCAiDQr1+/yPNhnpO4LZSjcGxLqW8Cd911V+TZuOiii+q70lVau/AgA74xmHldTqFiq5y0mRcJkAAJkAAJlIbAAw884MC0WVw7Py584MCBpSkQU60aApj0GL7/lZhMVTVAKliQzp07B+4F3Ft89tlnZS0RFVtlxc3MiiQAiybh99fZZ59dZKq8PC0BTIQI6zSw8juLyTFUbKW9GxWK/8Ybb0R+jObHWQr/Wo8++mhsfnj4shQMiJq6mO2tt96aZRaZp7X33ntHymzKji38ofkFH/9VVlnFu2bVVVd1EFZJeeutt7zymLJ36dKlkkVi3lVEAB8YmMk0z0bSLfzvff7551VUExYlawKYeBB+HmBilVJ+AhhUCN8L2BAvp1CxVU7azIsESIAESIAESkfg+OOPj7Qrwu2M8PESSyzhYAInpX4J2ExI3XLLLfVb4SqumW3srNz3goqtKn5AWLQIgV69ekW+a1mZwItkxoCcBLp37x65F7BqVqxQsVUswTJdf+2110YeANOohAmArKVPnz6x+R188MGZZrfDDjtE8nr77bczzSPrxLAqxfC3bWHD1Qhsj6+77rpe/GWXXdaBorLSAsXFyiuv7JUL9WjWrBn9JFX6xlRR/l9++aUDJaztGc8Vtssuu9A0RRXdx6yLEl4ltNhiizk//fRT1tkwvQQEbrzxxsjvs9wz0OIUWz179kxQA0YhARIgARIgARKoFgK//vqrs+mmm0baFrna/Ti30UYbsS1YLTexBOUIrxLCPX/zzTdLkBOTzEfg6aefjvw+e/Toke+yTM9TsZUpTiZWYgLrr79+4Dez8MILO3CtQCk/AZuP8CzcKi2AquiHiVLlBA488EAZNmyYtZT6cIj6trGeKzSwffv28uqrr1ovv+mmm0S13tZzaQN///13WXHFFUUHRb1Ll156adEXjagpBC+s2nZ0GaWoskrUHrm1aIsvvrjoknBZdNFFZccdd5QJEya48Zo2bSq6Gk62335763XlDuzWrZuoki6Qra68EFU2BsJ40LgEnnzySenatav89ddfqSCoKUM544wzUl3DyHYCqoSumvfhxx9/LGuvvXagoJtssonoCtBAGA/KQ0AnSUi7du0CmamtfVETv4GwUh7gHbHrrrtGslDFlgwZMiQSXkwAmqy6IlTUJLC7/fnnn0VXiYoq4EV9dYpOzigm+bJcq6aeBfcNf/jdzJs3TzbYYAM5/PDDpU2bNmUpAzMhARIgARIggTgC7733nmy11VaB/nlcXH84xgcwTkApnkA1tf3VxLWoqWtR/05exZo3b+6O16gZei+MO+UhgPuA+4H7YkQtA8nMmTNlgQUWMEEl3dr6g8hw2223lTFjxmSet04Ud9v+GF/77rvvRM2ZCeq8+uqri1qvyjy/rBPUCQNumx9tf1UIy9y5c92xxP32208233zzrLOreHrV9P7C7wJ9RJTJiCq65P333zeH3JaRAMYo1Dd7IMedd95ZMJ5QjFCxVQy9Ml6r5v9cRYktSyigsnwhzp492/1Q/PHHH7bsZPLkyaJ+pKzn0gaqvWbZeuutA5dtueWWMm7cuEBYNR5ccsklcv7558cWbcCAAaK+z2TUqFFuHJ0ZIPfee6/ss88+sdeU+8QFF1wgalogkC2OzzvvvEAYDxqbwJlnnilXXHFFKgi6ikeef/55gZKcUhgB8LvttttEZ+aJ2k9338sY+NZVuqLLuCVXZ/LDDz9036O6tNtVrKNB/c9//lM23nhj9w/vXXUSnrpgd999t6j5u8B1ukJVEF4OwWQCfPNef/11UbM38sknnwgap1Du4DvYoUMH0ZWo1qKAAb4teC/j2wNG6vjaVSbstddeoiZmczK1JlrhQCic0aFTp7heSTCxAh3AJZdc0gsr5U6pFVuYSII8Ro8e7f4WPv30U2t1FllkEfcZgJJt//33F7SbSiF4btAxxdb8ffvtt+7vE3mik43JK2ikY3KLkW+++Ub69u0ramo5MBhhzuP3qGaMM2tfmXS5JQESIAESIIG0BPCtOvroo1NdhkH1++67TzBYSymMACa86Gp8UTNZgrEYtGkxKIvJqGjbYJJsnGDSz/jx490/tP/RFtxwww3ddj8moWGMBW2UtIK2MyZN+QX9O+RRDsHA9Guvveb+of2FsSi1HiH/+te/3D+UBcc2AUNci7Y//tQqkDupGv0ptTAi6MOgz1pr0rZtW7cu/nKjbujnlUPiFFvbbLON25bNogy4X5iAjX7wBx98AEtjkWQxER51Rtt/3333dZ/3SKQMAqBQQ//TtPtRni+++MJVsOE3hfY/+qD4nS611FJejpiAh0UI11xzjXWiAPpsqGO1THr3Cl7gDu6ZmsWUp556yp2UC+Vj69atvbELjIfGia4CDIxdYOEDxi7wh/cX3kFYEJFW7r//fvfd6b8O47HqU9IfVLL9adOmBd5f+O1gLB3vL4xd4P0FTjb57bff3Pc5uGLsAu8+TObE+2uPPfZwx5UxRlRL8ssvv7hjUFjgYgQLW9BPzvV8mLixW6zYolQ3gXfffRdvceuf/rgzN/k1YsQIa14oQ8uWLTOFNWjQoEheRxxxRKZ5lCoxHVxzmjRpEim/uVf6w/TOaUPfueGGG0pVlILThZNgU16z1dU5BafHC+uTgK4ocLQzFHlWzDMTt11nnXUcXZ1Qn1BKXCs44taB+ljm2223nXUJvXZoHe1UxF5n7hV8M958882pnXWecsopkbR1sL7ENBxHZ1U5O+20UyRvUx+zxXtXZwtHygOfgtoIzHk9uMH8Zq2J7bdZTj9bpTRFqB0jZ7PNNst538y992/h70MV8pm+f7RD68D0syqUE5VHO7oOzC3ArBPuh3ZaItehbeAvtw4G1trjx/KSAAmQAAnUKYEDDjgg8I3yf6/i9tG+1IG8OiVS2mo9+OCDrluAOLaqpHJ0QlekEDrI7ugELSfcpging7YR2uzo16WRwYMHR56Dcpibhs9muHfIVy/U85xzznH+/PPPQLVU0efooHGk7H4uMKGJsbZaE7gG8dcD++X0UR9nihB9qWJFJy86avEoUr9wfcPH6AMeddRRjiqcii2Cdz1+W2pRIeeYn78ceP+de+65ji4UcN555x1HLTJE6hF+nnVyZur+uFfAKtrBWGeusVGdVOuo8iJSYvSvVLEX4eTnin24c0EeuvIqkkauALUgFElbJ/HnuiSTc6oEdXbfffdI3uF6oV+Jd2xY8F5SBVjO63VltaNK1/ClVX+sispIvYr1s0UfW1V/2x33Bxz+AZhjOF/LWk499dTIg2byy9q/1pFHHhnJS02YZV2lkqWnmvJI+Q0r/xZOPqtR1NREpPzwqUQhgTABNGCXWWaZyPPif85t+4ceemg4KR7nIeB3CqwrPpwtttjCwSSGMF819+DobBc3NZ394px88smOztrx4qGBD5vSUILpbKnAOZMW3sHhjmCu4tl8Ig4fPjzXJUWf01Vrjq4+8uqFsuuMVQeKUzWLaFU0nHTSSY6uZnLzhlIB/gNNndGxx+AAGovYN+HY6mw7VxFRdKHLmIDtO6orhstWgmeeeSbA0PAsZtBDTXQ4uD7c+cN91xlu7jkojTAIBAWtztJ01CxOpByYjANfBMUIFFP4bdkUWjpT1J3wg2cpThGNZxR+6AwX/CYxAAOlHX7fJhxb1E9n5xVTXF5LAiRAAiRAApkQgA+SfJOC/N8ws4/BbV0pk0kZGiWRO++802unoy0PP2e6UivQRgBf+O02g8No515++eVu28GwR7sE9wxtf7Q3bAPN8IWs5uwSo4WywKRvtsi3lKIr1iJ9H9SlVatWrrLA1uZSywsO+kMQDAqrVQav3LgW7KDICrcXkeZXX31VyupknjZ80ph7YbbHHXdc5vnEJVgKxRb6tGeddVakPY17p6t2HHXN4j7vugLHueOOO1yFk61/DOUSfk/FCH5bGJP0t98NZ/RNMFkNz5KuuIrcB8TD+eWWW847pyu63L6EWmOxTnTDmFwtC1iZPhvul65EcnS1qVd/ww6TMdGvgmB72mmnOf7FAHj3oU+F9xfeY/5xDZOGWo5J9X3R1XyRctx1110lxY3nT1fuBfLFs4I+IcYvbH3KY4891hu7ePHFFwPjbugfQkmKd3p4TAT9Yl0ZWNL6ZJ24bdJMsYtAqNjK+i6VID3bjTc/bKx4ylpyzWyxzYQvJn8MIpq6mC0GqmpFUFZT7rjtCSecULXV/1Is+wAAKC5JREFUwYB2eGAX9cBqNAoJhAmgEWAaLXHPuy186NCh4aR4HEMADRnTiFPfQd4sQrUn7nbmwnzVRKSjJjpc5Zc5h8YPZiep2b5ALmg0Y1aYiWe2mFmWVGyNVDULkvTy1PGgvPA/c1DyoUPjH/zHaiw1/RCp14UXXuioWY5AwxKKOf9sVwzaQPlqWGCrZmZTl7OSF6Az4S8/9lGncsntt98eyR9lKFSxhc6ybYajmuBx1KxObLWgDMOzHG7w4/ekJkBir8t1Ah0Fm8N0dKQxCQizMY1gxhxmQsfNrkPH7corrzTRHayuDN83HPP76yHiDgmQAAmQQIUJqAkkq3LE9v3yh6m5/gqXvHayR3vdTMBCGwYThiDop2OVg58r9tVEpLsiHVZWzDm0daCAQpvYL1j1BEWWiWe2GF9KKlgVYK4zW7TFSyUPPfRQ4JnDQDAmuaGdZwTMbAo3DHpjxY5fqYXVAf6+CvoQUKCYumBbaJvVlKfcW5vVHTwr5ZKsFVtQ1mLCpv+eYB8redR0W2y1cC/RV1SfY5FrYWXETHKMTcByAtdglVa4LFBU4JlTk3DeVehHYrUNFDnh+DhGHxaT44yiH/W0xYPCq1YFK22Mcgr9I/Uh5lYFynP8dsP1VbcnroUUv8URKBDRr5oyZUoAA1bM2camTz/99EC8XAdQKobLgD5YqeS6664LjF1g7GXYsGGeQg/5ov8IRXy4XHgvwUqNmubzzmGiiP83gDGh8LuvHCvQsuSF9kG47sUq5qnYyvIOlSAtLLX0f5jDDwBeungwMICHAZXLLrvMwUBn//793Zc8BnOg/Lr22msDf/jBXX/99YE/aEkRHp5B7M8zy9kEqJt/JoPJR+0gl4BkaZJUp5057w8amVkuhy5FLbBywbA3W/VlUoqsmGYdEDjssMMiz4t5buK2+DiHGyp1gKIkVUDjxXBU/3yBPKAkN+fMFt8HrMYyx2pzPTDYHkhAD9AAV4e7Xnxch3d+uCMcvg7H6Bz7lUy4FjND0cAqhaDTbJR8mJkJhZP6W7JmhRmafg4oG67xzzRWp+aB1WlQkmC1E+pg+GGLa2pJbJ1bKADLJVkqtmA2Bqus/PcDzyfaK0kFJkzU10IgDTy3NjMPudLEs6Y22APpoFwwMejvYITTQOfVdh0Gq/wDK3hmobz21xWz7tKa2Ajnz2MSIAESIAESyJIABiL936ok+2iD1fJgbZb88qUFpYphGp6Ig2Nzzmwx8x/tPHOMdsmYMWNis4GCzGb6aeTIkbHX+E+oD1AvL5MnzIeVQjBIblY6oO2GwU7/ZDZ/nmgvYWWHKZPZ+icYwRSY+urxLsOEJZiqDo93YVKg+qv14lX7DtqTpr5mi/tULslSsQUFSFgxhL4Z7lNSxRQmLaINbViYLZRKaQWriMz1ZgvFs/qay5mUzeoVVuY88sgjgevCdcWk0VpbceOvkN9sJJTSfrExQX39Ci+sfDPKMP+1Zh+/y7A5dyjSkowZwyRkuJ+Pezpr1iyTfKbbhx9+2FPyoYwXXHBB7DOMFYpYgWWeMWwx7oFVXSYM3wajFEVB1aezc8wxx0RWfEF5V0v9R0x6N3U0W7zLi5EFcLEmRqlSAjrYKLoUvSpKp40mgVPSrAROGPVHGElOl4IX5BgwklCZAvSjK6pMjM1NTUKJvtRjz1f6BJxtPvnkk4FiqDJU/v3vfwfCynkAp5Nw0FlrokvfRVcMiA5g1lrRE5dXGxeuk0tVVCW+BhF1Vo5oB1d0eXqq6xop8gsvvCD6UXerrLPWRDupgeqr2Q85++yzA2H+AzieVWWQqA1qf3BkX82giU6CCIR36dLFdV4bCAwd6GoyQbn8ojOzBO/srEUnUbhOYrWzI9rIEzU54Tp4zpWPNh5FB1+sUeDIHA7NtZPsntdOsuvkV2dMReJrJ0RwXgdlIueqMQDvSjie9YtOGhFtzPuDSraPe6MN70j66i9TdIZtJDwuAE5kdXWU6yTXxNHOiKjiTHQFmglKtNUOrvusqjLWi493j07aSOygGd9u7dx612MHzw8cuuO7mUtUaeW23eAg2C9wgDxhwgTPUTl+40OGDJFJkybJbrvtJtpZEVXs+S/hPgmQQJ0S0EEy99tWa11xfJN79+4tOjBVp3eG1QoT0MFlUT+nkXZpOF74GN8ztFHQP6LYCWBsRRUxgjYQeOkKhUBfSc19S48ePewXa6hOUBUdOM/bdkBbQydzBdLRAWXRAWW3nR044TtAO0on0flC/rurPmlFB6gj4cUE6IQztz1rxpt0Qpvbr86Vppr8Ep10aY2Cvuezzz7rtbkQSRVdblvQdgHG3VQBaDtVdWE6qdD9XelgdqBsGF+z3a9ApAwO0L7VAfhISjpBU9CfTSr4/uH5Rv/VLzpxX9Q0vz8o7z6YqGUOUWsdXly029EXsfVTvEi+HVVMiK6kweIPX6iITv6X448/PhAWPsA16IuH64++Mp4tnVjqXoK+py46EFXiSqdOnUQnXsrGG28cTq4mjtGnwe8MdVdLXIE+HCqgq+mkT58+sXXRVYaiyrC83wg8C7qQI5AOvklq1j0QFj4AY5TPL+paQ3T1pz8ok331qSW6ulXwHGIsAeOZ+Z47NSka+45Tv84yYsQIb+xCF1S46atS21pe5KuTya3nqi0Q/V/8VvxStK5BH0JKFROwzdLRBwBv2rL/pVmyngQpTG6F64HZELWkbUY9sVzUNhPA1E0/VElwVCyODj5G7oN2WCtWHpgOwwwtw6/Wto1gegPLt8Mz3ZLcJ8y8osQT8K/ysPmtss0gM9xhvsE/IzE+F8fRTl7k94V3WK7ZUkjPNrsGNs+zFsxM8s9mgx35JDJw4MBIvcAHK2XCM7NuvPFGa1zEx7OddIZgknKVOg5MUZrnwL8t12rhuBVb+LakEcyq9Jcf+6qQTJNEIK6tXJjVnMucoUkAZgXNjGF/mTCrMKnYTEQirVL7pUhaPsYjARKoHAH0dcIrS/3vmmrfL6fJq8rdJebsJzB9+nTHtnIn37MKH5iUeAIwHW4YwvJOWHK1V7EyCdYUksin6mbA1r/Gqv9cAlOUpnxmi/ZRKcZr8KyYPJK2IR977DHvGnMttujXhFd0xPmENddlaZkoF9OszsGXlCm72apSJavkc6YTt2IL/dE0AmsKpuxmC9NthT5feF7D43J4XjFel09gScH2Xcb4ZNyqwXCasDZi6uHfwnRcPQr8npl62lxPwESeOR/ewsTp999/nwjL2LFjI+ngfYYVnrkEJgDD+cLXXtaCcYOOHTt6eSUdD4x7v2MFKfqifrH1a03dsDLQ+C7zX1Ot+zAxacputqhDMatmaYqwWu/2/8qlmtrITTc3Hy9pnZmf6E81066jTFyDQT74VcIydgzgwcEflkriYTJp27YwZ5il3HvvvZH88DGpNdGZ1rGOIw1HKPGqVaBsMOU022IGE4utJ2wP5zK/acpYjVs0pMLLzYvlUa3Xo/OV9h5gebWuDqzWKlW0XDARiEYMmMJOOJanhwX+oWzMYbotjdNjOFS2pQPFWS6xOSpGmbIWv4JKZ2Ml7tzAv5KtXnvssUekiPDXZIuLMDjsriWByTybc+N8jf2s6hjX0E46KIFywISOrQ0SNseZpswwvaOrwiP3WWf25k3G9l3Es5Fmgs8TTzwRyRtpwBl8nEnNvAVjBBIggboh4PePE/c9qtbwQsw71c2Na+CKYNKVTTmS7znF4B0lSsCv4EYfCcqnsMCflo1v8+bNc5oeD6eDdgfGfMJp7bXXXuGogWO1dhC5Bv2OrMWvoIJ5rqSm2eLaoHC1EJawXy0/C7jHmDdvXviSqj4OmzFDfTC+Vg7JQrEFs94Ym/TfB+zDjUoxAuVaOE2Y+s/X9r755psj1yGdNObd47hg3BVjXPUkUEKY+4exZttvVi1cWJlirC+pUh7M4riqhamcSOHbOPwsQAGVtcClj8kHz1/SCbJxZn7hFzEs8B9o8ghv4Zu6lgTmR8MKaNTJ77s6bX1oilAJVqtoY0fU/4JgWbZNsNwxSzMQyGfVVVcVmBuwSdbLs3XwUtSpYyArnaEh6h8jEFbNBzoj3l1CrLPYchZTB/hSmWTKmVjGJ/WFL+qAMZBq2mXkgYszOABPPG+lEu2UuUlj6/9DoDk2+2ZrwvUljCAvnglHmH7cBc9wI4g2Dl3TWU8//XSq6sI8An7jqrxJdV29R77rrrs8c2s6+0nuueeeQJVhogTMtNEYCMfzp05sI8vsA5FCBzCBYDN5ALO3ccvbkYQOZAnMlPpFZ1dGzEf4z6fdRz1h2gKmT2AKECZStLGWKJmDDz44wg0X2kyrakdeYG7CJrb4tnjVFKa2xwVmYfyC+qlSzx9Ukn2bOQFklPS7h3cJTClOnDgxUD5V9LpmLosx7QqzIdrZCKSLd7hONnFNXQZO+A7wzE2ePNkX8t9dtFmuvvrqSLgtAN+wOFPSMJNi+w3a0mEYCZBAfRLA9xxmstDfK5WYNiq2EP+xCQuH4xjvSVtchOEczO3opEhEpTQYAZjM1QHgVLXGd1ytPbhm81JdWOeR0X6HKS6IDp67porDVY5rj8AEnw50hqPHHqs1BEG7KjzOA/PlGAOCiVGboE2M9r9f8vUX/HGT7sNcGMyGQR599FFRxX+iS+PMkJ900kmCsSa/wDVEXBvOFt9/bTXu6wC9wKStX2D6DaZiSy1xpghhUh+uB5II+pAPPvhgJCr6qTCTWajEmb/TFUVeX9uWdrdu3axm+REOc59JRJWjrkuK8O8M16pPO4F5uXoRmI/UiaJudbp37x65lzrB0HUvAxN5YcEzYtwvhM/ZjmGiVRW5kVN4P8J9QZxgjBNjnX5Jcz/918Xtw0QgygYz+HiPwjzjZpttFhc9EI6+sirnA2E46N+/f8QcPliHTXaaC1HHXCYfTbxq2sJsIlyc+EVX1bpuCfxhiffTasIYv3wEsHxab6T1D1rurCVu6SzKoAqvxLPmk5bLtjRVbW0mvbzi8TBLwW8uK+5eIRyzqvSlXvEy2wpgWwJrm+Vku5ZhjU0AS6ThADTXs287hxU0hZoYqFfi6kPI43j99ddHqvncc8955/1MW7duHYmbLyDOFAdW/WjjLPbygw46KFKGNKtyYhP2nVAFn5dHWvM1MBPnZ4N9HYRz1B+cL4f/7sbNyttGZ/QVOmMTs7PUFrajfqIcmDlQe+yRfEsV4HfCaxioTflSZRdIN25lkvpyCMSLO7CZiUAdYKKiWNGBn8gzgbTVn1Vs0jA3glXshqN/CyfASWXq1KnWNJAeZiZTSIAESIAESKDWCMDsNcxQ+7+NSfZ1oK+mTCWV4774Z+vroGQkS/SzVJEcYY32Oma8p5Fp06ZF0jH3DZYc4sQ2XpPW3Fxc2iYcFgZMWfCcpJE460bqDzWSjA6mW1ccos1ezGoa9NF0YN9dkQ8TZOgPlENsq2HUF3M5so5dQaPKikT56yRX67Otk/oTXZ8rks1sHZ4vmO6ENYc4adWqlfccmucRW504GXeJNRzjfv7rzT4sktST+FeTwn1OWOLuA8zCpxVYvzIc/Vv013K5YsA4hT8+9tPez3xl9Y+hYyV+GvnXv/4VKR/KCNcsYbG5hEBc9JcLNUOIVYywNrXzzjs7GEso5zNqs9CFMYFChaYICyVXhuty+ddKYw4naVFt/i3Mi6AUpumwdNSkb7ZdunRJWtyKxsPgrzof9cqvKwsclN3Uw7Yt5yBnGjj+gWRT7kI+OGnyZNz6IYCPoa3TZZ6luG05P5y1QBuNbbCCKRIMiIfF3/n1My2kcRZntgPp2sygmLLY3nH5TACYa5Nu/SYC05jTgClGsPOzwb7O5LJmjU7nFVdc4TbioPxCRwqDCmkHCvyJn3POOYH8kW4Sm+7+NArdb9u2bSBv1F1nLBaaXKrrilVsQZkYvm84VmfKqcphi6xO661p450VN5ADH1y28iBMHZnbsrGG4bcUlw5MVlBIgARIgARIoBYJwCcr3BrEfePiwnVVTC1Wt2RlxiQbw8pmql2tN3jnTTxsdXVT6jLFDQwjPZiDjhPb+FCuyUFx6eQKhzLG1A/9naSCSZK2CZYwjwZ/STYZMmSIA+UZ8oOPqsMPPzzih9d2XVwY0jNlN1tdcRYXPdNwv29mk/cJJ5yQaR5xicWZhkuq2OrZs2eEG+qAyYHFCiaT28ybI31dNRWbvFq/sJYJz0gagVlLcz/8W10xmCaZqo+rlifceqJPZevvop/tr7/ZL2Rc2ebCxqSHZzFOoHA28cw2i/6lPz+/iUCMsSSVuXPnWs3Dxk1axvtuwIABjjFBincf3s/F+KW66KKLInzy+VxPWr988WyTcm+66aZ8l8WepylCfcKrVbCkU2d/W4unShKBiZ0sRVcfxZoBLIVpJp3NLdoYCFRBP9CiTkwDYdV2oL8mQdnNslH9cLrmr7AcXG1OC5b620Q18qKr8GynKhrmX0ZsCqIfZJk9e7Y55JYEchKAyQNVxOeMEz6pHWJRB6+iA/LhUw15jHefzsx0zaPBhEJY1NayPPXUU+Fg0QaAaAMtEp4rQGcTig7QW6NgGT3eYzZRf1oR8xLql8tdLm+LX0jY5ZdfLg899JBrFhfmGWHeM4ngGjAMy4knnijqmDgc7B3jff7tt98WbRoTZgi0gxwxFTl69GjRGZVefqXa6dChQ8SEDe6x+h0rVZZeujoYY60jvpO33nqrF8+2A1MmOlPWaooLz4L6urJdljgMZm3Vd6c1Pn4H2qCPnNMVW64ZEZt5sL59+4oqMCPX2AJUsRX7W9KOicAkTr2LDiyJ+kmr92qyfjVIAKa02rRpU4MlZ5FJoDoIqO9t0clNqQqjA6CuGeikZuZSJV6DkWHiD6bk8C66++67BWMKfrGZU8Z5mNfSQWN/1Lz7d9xxh6gywRoPJlHRxreJrsqItOX23ntvt61ui19IGOqOfiTGH2DmUn2RJkoGZp1t/UhVvImu2MqZhq7QkuWXX941uZozYp6TauVGdFA/EAu/DVUwBcJKcaCWNEQH/ANJqxLGG6MKnMj4oBhThGhnw/2JzURdkr5DkqrAxKYtfTDD82YT9Bds7kXwuwmPWdquN2HoD6rvbHPobY877jhRqyzeca3v6EIL0ZWggjFkPPNhgTl8mBUNSyHjyuh/6erRcFLuMcwUoi9pE/TB0U/1S9ZmR9GnU1+EooomwdgFTOwlEfSPbN9CjOtgfCdOshq7gLlMvAO///77QFblcmWgK79FJ5kG8i7GlCoVWwGU1XOAAZVc/rWy9neFgT346IAtVJvAz4mt4WCLmzQMdqHDHxbYDsWLoZpFZxUJBtwgsDUP/x2wNw7JpYzEeTReYUO6mgS2jWHj2C8YTNaVC/4g7pNALAH4RYKdZF0dERvHdgI+ZmBfHkouSjwBKE1WWmmlSMMDV+RqzMWlqDOlYicQYDB+jTXWsF5qs+Wujpjlsssus8YvZ2Cc3XwovNABL7XAVwo6Uf5vKHxg4tupDoNLnb3r7wT+K/yCDoDOfPUHlWQ/TrGVxMcWvp9xk3RuueUWOeqoo4oqM/xG4LdjE/iIwfvHJvAFCD9vYYFSC52rJKImMGM7Wml9YyTJrxrj5FIsVmN5WabGIYAJD5j4QKk9AmqqpiYU5mjb4hsc9w2qPfLREmNCEdpZaQSDf5joiXEHSm4Cm2yyiUyaNCkSCQOiajkmEp4rABOF4pRhufzdHHbYYYI2i1+y9q/rTzvNPiZ6297jNv80adJNEzesDFlmmWVcnz94zksttrE0m5/mUpSjGMUWJmpiwqZN8JyacTbb+aRhNt/DuBbjq2jfYwwvLGpBwp10Gw5PMz4JpQN8CqppuHAycuGFFwp8wjWCQGkC1hhjDksh49i2Z92kqyu2Yicq2SblYkK2bRKxSa9cW4yh9OvXL5Id2jg9evSIhGcdAH9weF9hHM8I3meYMFCMf2uTVr6t7fsGHmeccUa+S+3n9cdHqUICceZz9C462kDO3D+NNkojyxCRF/5goglLH7MW/fBG8tQfcdbZZJqeOhwN2Ga+9NJLA+lrQzNSJ8MRW52FEohfDQd+u7CmrDAvQSGBNARUweLoDJWcz795vvxbXfGTJpuGjKsr26xcdYZnQTyM2UP/fcA+TOflWs6uq4Ii5SiXLfd8FbX5O2zSpImjM+byXZrZeZ2J5/FBedT5cWZp50vIdm9gGrEcEmeKMIn/Nb999vDzCDO5xQrMPITTNccwVRPnBwFtERPPv01SJ1NmnchiTQPmUeDrohFEV4BaGfiZct/uS5dcSstFFVuN8BOsuzrCDw6+7bXy+0hrwqrWbpgOWjpxfmly3SOdcFRrVS17eb/88kurOTWdLFWQ2Wy/2cPwvYFf9zix+dctxJRYXPrFhMe11TCOVi7B2JDhCRNiL7zwQrmydmz3plxjaXGmCJP4X9PBa4+ZYWe2aXzZ5gJt899j8ogzXRc2KW/iJ6mTKQu+UehPm2v9W1XomWh1v50wYYKVgU6eLWhc2Zg99PM0+7NmzYrliXtn4plttZiE1AnDkbLBrUKu+sRWtMATp5xyilcGtWRg9e1VYNJ5L7P56gyPredNxBeBPrZ8MKppF/YzzY8vvC1FY9D/UIfz09lYJUFTa4otOKH3+3ABs7BgkEw13bH3rlmzZmUdaA2Xz3asph8j5VUtvS0qw0ggJwEMRMc15sLvFRxjgBf24ym5CeiKqMhvFPwKUZTDFxW42+7HCiuskLMgsOkfvq4aFFvoRMB5bLhs7du3z1mfrE9iAgicvWKAIE5hknWeJj3bvVEzhOZ0Sbdxii3Yz88ncFYbvm/mOAvFFuzsm/RsW11RZC0ifF3Y4sNBb1KJ82Wns1STJlHz8ajYKq1yxvaMMiwZcyq2avP1gsH+OGfr1fjsF+MvolbuECZfpVU2pvFXWSscsi7n8OHDre2Q7bffPnVWaJ9iYnTcbwS/qziBL9/wddWg2EKdbD6RVlxxRefvv/+Oq05JwnWFvjN27FgHPtjLKTbFlpqHK0sRilFsqaWGyDNlnjFd1ZRJ+eEv3qQZ3j733HPWPHAfbe8y+DJKKnG+7OBPSK16JE2m5uPBz3OYO44L8Q2OSYqLLLKINT1Mqs61AKNaFVvony622GKROkG5VE4BO0zExWSAco9d2JSVGPMqVGiKUH9h1Sh77rmnPPLII9ai6cwQUaWK9VyhgVtssUWs/6eBAwcKbJFmLbal7TCRpQ25rLMqOj3Yh8UyZCzZhOhLWYYOHSqwFR4WmJ3Itcy4XHaXw+WKO7aZIoRtWJtd4rg0GE4ChoDNFrs5F95m4UMnnGY9Hnfp0sVqKx521WHfOo3E+aJCGltvvbXVBINJv1OnTqIdN3PobrMyGRFINOWBzU8gkujTp49ceeWVKVOrzegwqxc2RVgukxdxpgiT2KS3PVPmDqjSW2BSpRiB3XCYWYgT+EVQJ7zW0/DRoEq7wDmYloIJk+bNmwfCbQcwEwQfa37RyTHubww+0RpBZsyYIfA/QSGBaiOAb4MxI15tZWN5chPQCTpW82y5ryr/WZghxjeuEQTteZjqTyIwMQxTw5TcBDD2YvMRi3GGOF8zcSnG+aJCfPg6mjlzZtylAp9NGPPwSzWYInzjjTekXbt2/mK5+3vttVesj/pI5BoPsJlnQ1jYdGQpqhlnihDm/HTVWs4sbc+UuQC+b+EDt1iBWX34rrbJY489Juhb2wSmLWHiMiz4DcGFQj6B30Gbvym4X4F/r0YRuAEYOXJkpLrwVRbn6y8S+X8B8JcXd78whq2rw+IulR133FHgQ9AvGEfHeHolBWPL8EEWlny+wcPxa/nYZoqwKDOyhWrEeF3pCPzxxx+OOh2MaHD1wXXDsLQzS8Fs9zgtOPKcOHFiltl5adlMEGljxDtfLTuYiYYVTIa/OiHMOSMHM8BtqwfM9Ztttlm1VM0thw6Oe3UzZcSsLgoJFEJAfQ05+qGKPFPm2TJbmG2j5CeA74H6borwxDsG7+60onalI2mZe6KKoJzJaeMwci3Sq7TEzfyDid1GEZspRpj6KIfErdhKYoJJO8CRZ8o8j1hNXKzkW7H13nvvxWaBb7k61Y2UTzsdsdeYE88884x19araUzdRuCUBEiABEiCBuiCAFTI6mSPyvTTfc7NFHLRrKfkJYOa+4ebfqm/Q/BeHYuhAuzUtpKuTqUOxg4c6ASBybb5rgimU5shvAtDPRyctlCbDKkxVJ11H7g3G18ohcSu2VJmfN3tYdPDfM/9+Vn2XXCu2VLEVW0adEOfYTParYiXvSkCs+IKpUH99sI/71EiC7wFWToY5wGKMKtFTo9BJtJG0TNr5+mS279IJJ5yQugxZXxA3HqP+tbLOqmrT04mPkfuKb1WhQlOEhZIr4XVx/lTwA8YgS9bLWHP518LS21zLO4vBYPtBV5uJHpiV8g9swbTVjz/+mLfaXbt2jfxQzQsYW9zjahGbuSTYiKaQQKEE3n33XQf+a/zPvH9fZ6iwY5sQLjqwfnZmH6Z4ChG8w0wa4S0UFLkEEw/C11SDgnKjjTaKlAuN53LaqM7FrRznbAx0xmE5snbiFFu6Kjtv/urUN3LvzDMG/4/FSj7FFt5VuQTmSsITf2BuVWdSx77DYEMfbSdTD7PF74cDerlo8xwJkAAJkECtEoCp61yDyWi3YtCYkp/A119/HXB/YNoRmPhcyDiQzWSdSTNfWxGT3kxcs4UZ6UoLlGumPP5tNY2xlJqRjUG5JhzGKbbU+kfeauuqTeu9w30sh2JLrWLlLKNac3DU2kOkjN27d4/1Rf3WW29ZFWK6oqjh3nuvv/56hB3uLXwqFSK5JkHmu5c25W8af8mFlDfJNbraNMII/ctPP/00yeV1Ecfmn/OOO+4ouG5UbBWMrnQX9u3bN/Kgmw92KWbIwIGeST+8xQu8VAL72uH84ESvWmTq1KkOHByaMq677roOGu1JJJeyEOkl8T2SJJ8s4thmceFlSyGBYgjcdttt3m/H/IawTaocLibvero2zsHuySefnLqaWOFlsx2O+wI79flsw6Mh6L+X2FeTF6nLkeUFaurMUZOwkXJtsMEGWWZT9WnZfDtiNW45pBjFFvw0hJ8pc6ymb4ouPp7pOJ9yyCffzMFRo0ZZV17hWvikw0xA+AOAvx7MaoYPLtuKbfhG/fXXX4uuDxMgARIgARIggWolgMkgfn/U5nuONkq+72211qkS5bL5vwZLTJxNK5igvNpqq1nbWosuuqiTy78W8rKNS6XxN5q2vEnix1k3goWd3377LUkSdRHHZklDTVWWpW5xiq0kY3m5VuComc1Myo9J2ub9E96qqcScecDnkM3/EdKBT6fOnTs7qMP111/vTnSD37umTZtG8oP/46RjhzkLVGMnr7nmmggLsCtkMiwmKNpWwSE9rAr7/fffc9I59thjI2WptI9APBO272SbNm1y1qXeTtr8Pj788MMFV5M+tvRXUW2y0047iZqxsRarFP614OshzjapvphEB1CtZSk2UB3qir5sAsnorHPRj0kgrBIH+sIR/WjJ5MmT3exbtGghY8aMEX3hJCqONrhEP6ixNqt1NYuoU3VZbrnlEqVXykjaYI3Y6taVcxHfIqUsgz9tfZu5to3D9nD9cap1H75c1FmmqOm4ai1i2coF+9SwE+wX/H7wO8LviZKMQLdu3QS2wMMCv1KwcZ9GYN8bttdtksRXFuJcccUVgctRvjh/kIGIJTqAHXn4awzLoYceGvEJEI5TT8c6i1fmzJkTqJKuHBK0J0otcT62ktwD2NHXSS7WIsIHDvykFSP4FsPPiZrFiCSjiinBt15nyEXOIUBnRbv29D/44AM3De2sy9NPP22NGxeoK7cEvs5gT14VbHHRGE4CJNCABNAegi8O2/upmnHAvzB8/KiptGouJstWAQLwhQLfKvj2GkFfVxVeorP1TRC3eQhg7GXQoEGRWIX4Jh43bpyg/WKTJL7N4Q+tV69egcvhO1NXvAfCynkAf782/3X5fAWXs4zlyEvNkIuujglkdeONN5bFf2Scjy34/FVrI4EyhQ/gsw1+tmyCscEbbrjBdipVGMbhpk2bFrkG3y/4ykX7PE7U7Yigb4P+gU5gc8fE0nynmzVrJqeffrro6jlR5XFcNnUbvs8++wh8eoelED9jcX60kXYSX1m2fqauOHXvb7h85ToePny49OjRI5IdwtQUYSS8HgN0woXAb7UqJgPVw7sD75CCpGCVGC8sCYFffvkl4M9Jb2pAy4ylnVmKDoTFzuBH3lnn5y+7Os0L1A35YdVApQUzA/z+SvTj5BTi1+yMM86I1M9/P7XBWumquvlj5Ye/XNiv5IqyONNr4TJW6zHue6MLZluEVy1gdUMufzaNzsxWf5gb0QGByO8TK1DyzbC0pYcVuLbfjTYsHHWwa7skEDZw4MDI9ZWetRlnpz3t+3XSpEkO/CLhm5hEsBJIOz3uKp3111/f0caoow5xKzIjGSuBbKuSUKdyCGzV256rgw8+OG/2cau9kF4+u+l5E9cIOoHEWjakn2/m83333eddCzM+kNdee82BbXa/iWJb3THrTic5NJz5ERcS/5EACeQlgFUUNh8UtvdJNYahn0QhAT8BjBk0b97c+27iucVMe7StKOkI2MxUgeeLL76YLiGNrQPsgXti3icwe4U+dz6xtfFgbrmSYltFhnrBTHQawaojnbCUuE8F30GqVHNg7QgmwHVynwNTjkinEmKz1lDMioc0dYC5PvMs+bdYpZRPVCkWaw1ht912y3d5ovM2/9QoJ/psuQTvMfw2EBdWZiA6wc2Bj9xcplYRH7+Lc889N/HzlKsctXoOvxFw8D8T2AdT9MnSyoEHHhhJC+lhRR2sa+UTVfRGri/UnUO+vJKex8q1MB8cp/UPiHE1fF9nz56dKGuMXeB9h/zxO8DKtVtvvdWB9ZtyC9xF2BgkuadxZaUpwjgyFQrPNciD5Xp4WWQpDz74oPWhwoOGDlfW+fnL/uabb0byhpmsfOaw/GlkvY8BQr/PD/jWyGe7Na4MutrLOthofsRt27aNu7Ss4RiQNWUy26yWgRdSkblz5zq5lo+bMlbjFsocna1YSLXr5ppXXnnFgTLYf3+wPF9nJtdNHctVEZ1lGeBomMLZZlqBGUIosEwa/q3OeEqU3IgRIyLXl2LZPBo78P2H99A999yTs8EV965IY2P/jTfe8MwZwg9SPvnhhx9cMxR+hmYfz3q5FEqmnB9++GHkvsDEwU8//WSilHRrey7AwyiDcmUOExJxg7sw9VGswN+VuTfhLTo7ucRvlz0cF0pndMzRZoM538suu8zRmYjugAeUxKXyTZqrvDxHAiRQWwRs7e/we6paj+F3h0IChgAGLMPm7jDhRlfVmyjcJiSA9np4ciDeA/BdnNbM3l9//eXYlB9ID/6Okwh8B4XfQxgfmTdvXpLLE8eBD3O0+S+44AJ3sBVt2zhRawSRMqGMafyzgLPxB73xxhvHZeWFw/yhrjKy5ou8y93/xxidrV83ceJEr8yl3LE9F+CglqASZeufRO5/vuB3p1jRlVqx9wmK3lwCBZYpT/g7B+ZQAsDkqlqecs10or+KMQ68Awvxf5erLLV4Ds+f4effFjJegDFB8xv1p4X9pGYNYVI+fC1czWQt8IuI9w/GLtAfzOUrC+4SwmXCsVqrSlwsKLWMOUOYxc8nP//8swOlsS1fmKTFWEg5BfmFy4KJMPhmFSr/DwAA//+INzjuAABAAElEQVTtnQncTsX7/68WLagUWb5KlITKkiS0y1JatJIWitJqaVNRClFatdCqUgqFfIUWiiyVypLQQtYiJUV7cv/nM7//nO+c5d7PfT/38pnX63nOOXPmzPI+9zlnZq65rmuHiArCkDMEbrnlFrn33nsD63POOefIa6+9Fngu1cgePXrII488Enh5JsqzC/r111+lfPny8vfff9vR8uWXX0qtWrVccdk4+Oeff6R9+/YyYcIEXdwOO+wgjz32mFx99dUpF9+6dWt5++23o14/Y8YMOf7446Oez8YJlP/++++7inrmmWekS5currhsHqxbt06WL1+ezSJDKWvvvfeW+vXrh5JXPmby9ddfy0knnSS4fybstNNOMnLkSOnYsaOJ4jZBAkOGDJHevXv7UuPZxDOaTHjooYfk+uuv913yn//8RxYsWCAVK1b0nfNGzJ8/Xxo1auSK3mOPPeTnn3+WHXfc0RWf6sG7774rnTt3lrVr1zpZ7LrrrvLhhx9KgwYNnDjsLFu2TA499FDxdmN22203+eGHH6Rs2bKu9NEObr/9dhk4cKA+3b9/f8FxtPDXX3/J6aefLu+8844uG/fiyCOPlAsuuEC+/fZbfdlRRx0lH3zwQWhMotXFxE+fPl1OPvlkc6i31atXl5UrV7riMnUwevRo3X5v/njmR40a5Y32Hd90001y//33++Lxm1y/fn1aHAcMGCB33HGHL+999tlH8L7CNlo45JBD5KuvvtKnx4wZI+eff360pIwnARIggaQJ/P777/Lxxx/7vmFJZ5TlC9Cva9asmWDLQAKbNm2SFi1ayKJFi1ww0K/q06ePK44H8Qlgrue8887zJTzxxBMFfeRkwsSJE6Vdu3a+S0qXLi0fffSRHHbYYb5z3ojffvtNz9eg/2uHL774QtBPCiN89tlncuGFF8rnn3/uym7cuHFy9tlnu+Lw3qxSpYps2bLFFY+DTz/9VI444ghffFDEc889J5dddpk+1alTJ3n++eeDkjlxXbt2lWeffVYOOOAAufTSS+WUU06Ryy+/XFB3hP3220+WLFkie+65p3NNJndWrVolNWrUcBWBdzLGP5iPyHTAtwvjHW84+uij9RjIG+89HjZsmFxzzTXeaN3nR9v2339/37lEIzD2uOiii3zJd955Zz3mjfW7x31988039bX33HNP4DjclzEjHAIPP/yw9OrVyzk2OxdffLGeDzLHiWwff/xxufbaa31JMT5cuHChfg/4Tnoili5dqsfrdjTmCX755RfZZZdd7OiU92fOnCmd1dwFfrcm4Lc2Z84c3zPyzTffyMEHHyzbt283SfW2VKlSesyLufFEAr6vZr4C31kzjxF0LebazzrrLJkyZYrUqVNHv/fwnOIZWb16tb4Ecyx4plHvbIRJkybJGWec4Sqqbt26+h3qikzmAIIthtwhoH5kEDQG/j3wwAOhV1RNyAWWhTo8+OCDoZfnzVB1iHzlT5s2zZss48fq5RJRnRpXXdRkW9rlqg+rK0/vvUWZJR1UB81XR/WCLulqsfw8I/D9999HVEfR91tSgvo8a0nuVFd98H088Q558sknk6rkv//+G3hvkJcSOiac1x9//BHZfffdfXVSnbSE84iVUAkaImow5ssf9bziiit8lw4dOjQwreqc+dJGi1AD9UjNmjV1Pko4F1ETM9GS6vh+/frptMcee2xk27ZtTlrVYXTVRU0YOOcyvaMG2q6ywUtNMmW6WCf/aN+5Dh06OGli7ahOdUQJSH1tQDvUoCDWpXHPqcnXwHxvvfXWuNcqoZdzrRrcxk3PBCRAAiRAAiRQTATQL2zZsqXzrcR3G3/dunUrJgyhtrVnz54+nmCqFrolXc5pp50WmBf6sskENRnqy0ct8Eomi6hpN2/eHFETvb780Wa1aMt3nZoQDUy71157RdQiZV/6aBFqIaaTjxKgRUum41944QWd9sADD4ygvibceOONTh6o78svv2xOZXz73nvvucpG+UrQlfFyTQFqAZ+vfNShSZMmJknMrVrgruuLa7x/L730Usxr451UQhRfnihDLWCPd2nEnhsNGnvGzaDIE5x77rmB7JUiRVJkMDfbsGHDwLyeeuqphPPCO0EJm335qMWxCecRK6ESZkX23XdfX/74vQXN8z7xxBOBaZVQJ1YxrnNok3knK0WMiBJIuc57DwYNGqTLxLOphFzOaTwP9rM3a9Ys51ymdx599FFX2aiHWjiccrFqQXQEq8QYcoTAhg0bIkpa67vJ5geX7gSPt5mYiI5Vnloh770k9GPvZCDaqjQRQi8nXoZKc83FHQ+6PWkZ7/po59HhVytOXHmb+4ltmTJlImqVf7TLMx6vVtlF1OoeV/1wvHHjxoyXzQIKh4BazRdRKwldvyP8vtUqm8JpZJZbgk5LhQoVfEzBVWmBJlWbF198MTAfpWWUVD5IDKGR/Q7DvtIYSjqfoAuU9pMvb1OW0n71XYIBrzlvb9WqT1/aaBFqZZmTx6mnnhotmY7HuxoCGKVBFlErxVxpDzroICcf1AUD72yF2267zVU2yleaxtkqPhJNsJXIANJUUq0687UB7bjrrrtMkqS3auVuBMJK+7eBfXyTf/zxx7j5KY0/51pMZuB7yUACJEACJEACJBCJYOLxkksucb6T5luLySl78oyskiPQuHFjH1OwxYRoMmHu3Lm+MT7ywYKfP//8M5msIkprylenZCaXYxV29913+/I2vyUIvLxBaUkFpm/atKk3adRj9NExIYxyMKEcSyCGuRwIjJBWacC58mzVqpWrLhhTZCtgvsxwMtugsVKm6hNNsIXfb6JhxIgRvjagLXivpBowhxUkyECfPhFhRr169Zw6QViqNBNTrUrRXYdvgrIE4/Azv0ts33jjjaR4vPrqq4H5YO442QCBjl0X7CvtpWSzCUx/1VVX+fI2ZZ1wwgm+azDXYM7bW6Wl60sbLUJpOzp5xFvIivl+LBrGnL9XAKas3jj5oC7xBPzR6pNKfNACDiwUSCV89913Ea2okcrFvCYzBLDKw/6B2/tKLTH0TmK0FwbKrVSpUgSr/DMdlIkgX5uVOcZMF+vkv3Xr1ohSHXXVAVpzWEUSVujbt68rf/u+Yv/OO+8Mq6ik84Fk3lufoE5k0hnzgqIhgPeEMjnm+x2h4xFroFA0gFJsKBYyeJ9Nc5yItokpFh18MyAz12Nbu3bthCb3TT5mG7QKLlkNMpOXdxutM4z6egU1GGgodflARhgkJxKUeQJHQwwdPgzSYgVwR128K5FXrlzpE6AoE3axsgr1XNDqOGVGN9QyYmUWTbCVTCcdwnF7MGl+q1iRBq26VIL32448MZExduzYhLLzLkrBqnRl+iaha5mIBEiABEiABAqZQNCiGkwgKvPUhdzsjLYt1qLjZBYLod8UZAUImgXK5UPSbcBchemXme3NN9+cdD5BFzRv3tyXtynDK6hR5sOiLvrD4rhEgjLV51hqQDnow8YKTz/9tK4f+oB2gMAL83OmrthOnTrVTpLRffC3y8a+Mjmf0TLtzKMJtpTJejtZzH0IQoIm+mExAQv+UwnKpLyPC9gMHjw4oeyOO+441/XKxUSJLkJPqNI5kuiTTz5xsbN/n8n8NrGQMEiLExZWUvldKDOivnolq0EWDbEy/e/L27Tb+05asWJFRJk/DEyPBZ6JBFi3MQufoYwQz8qWeXdjTGwHLNb1KrgoU7B2kozuBz33EHSnEhzhYioX85rMEIi2AgUPR5s2bUIvFOq15sHzblORhqdSQax8KYmy8SGFmnOQKcRUH6po7cekZ7SXGNpetWrVUAVp0eoRFI8JaS9/TJIykECiBII61hikcAI4UYLB6e677z7fs2meVWVbPiHtEayYbdu2rS8frNxR/rKCC44Tq3x1+fJLprMaLXsIQb0dLNNevD+9q4xuuOEGXz1M+kS0fqGxY2ufxWuDsumvF3xAMKLs6bua4b1XEMZkM2C1qWm72Sq/iVmrQjTBlvLTmVQd5s2bF7G1pExbUlnBhcFV0HcXnd9Eg9dEA+qDRT/KX0UEWoHKN0ME+WHVGd6Dyp9XBKt1YRoSwjNMcMyePVubt8RESroBv9nJkyfrPGPlh/4NTDJg4Qo0CyE0ZCABEiABEiCBsAhAe8hovJhvNSYd8e1hSJ0AVswbnt6t8gsTwYKsRAIWg3mvR58oVWsC//3vf335oS8URgiaizF19y5EUj53fPUwaSFojRegqaZ8KDl5JDLfZTToxo8f78oex6ZsbGHRIZtj3yAzkzCZmK0QTbAF83HJhDVr1kSUfzIXS/DEGCLZRfbQ3DCT/va9wTxqopaYzCJG+/py5cpFwBsLeZV/tciVV14ZgbUnuC2B4ADuWyAAVT6HdT8dYzDlvzqC+qQbsAgfllpmzJgRNz8IxnFfYA4fQuBsBwiLbG72PoTqiViEwn3Cc2lfi31oz6Vq5t/WcDL5Kv9uoeCB9S2Tp73F4ltozdohaDGIuQZ1jBdgBtU2lRnPMhIWOJhnC2NsO3jvFSyTYPyYraA1rNR9Ne3HFpZWkg2oM+bFdD7JXsz0mSGASRjnpnhuMm4UXp5hBqx2x0va/jHZ+9CkykYIWpkETYJMBbwQYWdUORaN2nao6EOiHkaA5hd8cygnrVHLA/ds+DMLag9e6vZ9xz74MJBAIgRgH9c7sMUApSTNayZS73xIE9Sps5/V6667LmYzINTC5Lt9DfYh1FLOp2NeG+skOmnePMNaeFGtWjVf3liNhIGsHdBpj/VOhaAhVoCA4Pjjj3fKOuaYYyIQXMUKb731lk4PrSJvMINewwVautkKEHB4BYIQDsVrT1j1Q4cympARqzaxojWZoJx5+94peMdAkzvRDjcEj17TkLg3MJeaDBc8J973m7nHyW5xjyDwR98KA95EB9iGHRYBYVBnyoWJRQje7ElEDGDgi9U7SYTrkjVhZMrllgRIgARIgARsAhBywCSz+R5hi0lLr4lm+xruJ0YgWn/KsMZitXh9oaCJedwvmCVPNWBC2rtYqFatWqlm57oO5rpM++yt19f5SrVQONZcWTz/LBBqwQS7KQMaIfG0P5YvX67Tox/l7c/Cj6zJC1sIPbIZgiaGs6lxAcsQdvvNPhZsY34vmQCT9kE+nC+66KKE++3oDx911FG+OmFeMd59tuuKex5rjGnamcgWfXXMOeK3jHGk9zdklxu0D7cwRjBhyoMZ/sWLFzvJ8T6AQBNjLnvMAkE4tICSHW84GaewE7Qg0NQb23g+y7DINcjaBkxLgl+qAQITux7Yh4+9MILx023nj/vuNUuKuf5o/qRxbbyFlxBq2S4YoB0dz8IYhKHIG+NCb8Dch11n7/vWmz7MY/jWtn+rqAf6EMkKslEnvNcdtwNhVpJ5xSaAm4gJNzzUmHDEShf8QPHDDHqZ2z82vGAxKYJVJnhpQKUSqwUgqbWdWNo1gPAK5UETDOWdeeaZ2qE8yvOqTttlYR/1wYOKMlFPqFKiPOQX9upf76QgJNyxViPbbYy1P3z48AgEN+joYGV+vDbbDPACRbuxij+ZhwwfDwiyOnXqpF+Y9kSUnb93Hw8kHmioO0PtHtdjlTomqX766adYzUzrHOxRe+sSlr+ctCrGi3OewIQJE3wT6tBmyGanOuchpVhBvHMqVqzoezbtZxUCH9yDoIDBH4RNdnrs453u1XwKuj5WHDqd3rqh0x1G8HZmYTfaawMbEye2AAwDeK+pRby/o2mkQePFNm+Azp4tHIjWjnXr1ul3u9dZNupjd87wLk90RW20spKJBx/vfQ6y6Z1MnrHS9lMOx2GKESsW8RvzClG8dQFrDB4gqMX9Rcf9m2++iVWEHgzg9+3NC9/yWPbxMbjD9zdo0Q6EWon41fJWDO301iOMY3DDoCeR1b2vvPKKNrsJ4Rj6B3jPmjpUrlxZL8TBM49FOYhHHwoCWJiCxAo8k/b555/3No/HJEACJEACJJAwASwQ9X5jMUfh7RslnCETuggEmQ8033CzjbYYFnMnQebCMb+QrH8bV6X+/wHmj0wdsEU/LVkBRlC+8KVq5wuNhJEjR7qSop9uW1mAD6Zjjz3WdR36PhC6BgVoK9hCDzCJNk6wr8fE8ZAhQ3wmrGEqzWthIFVtOLu8RPdhjsxmhn2MjTIVIMTCPCDmAyFcRR/THvt464JxIcYimHvEbxLXQkgTK7z22mva97w3L8xVYUFjrID+rVcAhHzgQwiCqmQDLDB46xHGMYR+0PBKRNAGiw8QhIAzxjD2WBe/PZzHHKFZCIt0EDbD8hLabe5PoibukmXkTY8xmNeEu5cZxshjxozxXqqPMU8eZGUGpv7i3f/ADK1I1A3s7frgHYD4dIPXAhrulfc9hLkx22QhhEi4V3Z9oPkV7RmBUA8CWpMeizdXqnFfvLB+/Xo9LvaaSMU8hSMMUs8JfivZXJiCZ920xWzj+TmP1lYKtqKRyXA8tK7MzQtzG00QkakJGUicwwwQ4Hh5YPIxnYCXvTfPVI7RaYMKcKJh2rRpoZRr1zWe7edE6+ZNBxVl74oUCOKSWdHuzZPHxUEAWjteoS0+yNHeRcVBJbxWogNnvwPMPjpBtqYRVmBicQRM4b333nsRmFGF+RHvvcH16Ogm0pFOpBUwD2HqZLZYSJFuwCDTXhGKyX8MKPE+x3sQE/X2aicsPoCgDRow3gEm0p1//vkRCAUw2ISmDFjZHTkI+tKtt9cUJ+5PNoN3QgD3o0+fPhmrAswsmnue6jZax92uNO6ZLcA0ZUG4A2EZBj9YaANBGwbNmAyCTX6Tzmwx0YEV0KkuyMH3P5GJJlNeslus5Iz1XGLSCIty0A4MBBDwrNvlQOBnBFgQbhlTmag7tB0NF5TFQAIkQAIkQAKpEIA1E+93GePkbJo/S6Xe+XINBFNeTTh86zG+srWDwBzfevT/oFmO/jHmUoL81KJPmopPrSBmmIy1+x7YD0Nghj4QJplN3hBQYDIefR0s4MOiKNu8HBZEw48bfNl6NbjADxOkMAsH822wQgPhij22QF7pmuv2unKA9hQsZWQrQPvO8DJbaKNlKgSZPTTlJrqFC5B4AeODIH+7GLtBMNCqVSs9zsVvH+bAIdzEAq+gOkDbK9WF8lhgijFnUL5hxOE9GmsRJH5LEE6hLCxyR4DJRowFTPkYmxhhLcbL0M5BwCJ7CIbNuABjAEz+ZzpgDG/qZm8hkLM1jfAsQvhz77336mccQkkoIsCijH0d9vHshmHOEW0P8gcfhjAHQitbQQVjVCyyhDl4zEHg3Y0Ft6ZtGL/CwgZ+63Y8zmMuA/M1eFbwbsUYF795e+4Cz8GSJUvSup14v5r6YAvhcTaDd+4EdUjUP7q3nnhWncXc3pM8zhyBww47zPUjsn9Qqe5DMBHtpR2kopxqOeY6vBzDFnwErTjHg5xOwGSoqXM6W0jEkwlYRZVOed5r8SJLd+I1Wv2DuONly0ACsQhgIOFdFYVBVqYEsLHqUqjn7r///sD3CFa8QUM3mQEGViiFPekQZKsaJuTCCBBAed+DQcfQXLaFFVhU4NUkC7rOxEHohZVM6QQMPLyTPBhMZzNAg8e0yWzTMdcQr+7ZEmyhHujbYLLGuwDDtDPeFo6+01nlh8EhJi+89zheucmeRz2jTYgYwSUG8CZgEiioDAwcjQYY6u7VhseETzIa6KY8bkmABEiABIqbADSeYVXE++0ZOHBgcYMJsfVen02GtekjxPLFbtKaLbTqsOgNi7/CCm+++abv/oelDYLJbaNhYtoQtIWgzvbTg4U8Xs2HoOtMHLSIYmn+J8rquOOOc7GAuexshiAfapk0OZ3MuNOw9m4TEWyBIcZ2EEgmY2nJLgsaf+kKXLGQLBPztnY9IbiKZpXJCC69iyWDhHiHH364S/hz9tlnu36bKDOWEC2s363XZ5NpKxQtMDbBYlQTF28LIT38FYehUWXaB//b3nIxxgsj4DvozTvoGNp1tvlACNi9wvmg60wcrocFmXQCxodec/3QyMxm8Grbon1YxJxqwEJOPCs7IAOVGUMWCKiVI6Im/0StOBYlcY9Zopp8EPXD03/qoXb2EYdz5k9JKEV9TAPzUmqQoiabRdlYFTXxHJjGRNrlmbxN+eYc6qFW6ovy7WIuC2WrVhGImjgSNYnl5KdMF4nS/nCOk91Rpo40F/XBcHiDu2FvtuY+mLaqySVRnUDNG9zUx0HUio2Ei1erq0VNSotSpxU1iaTLi3YxHj3DGlvwNVtco4Raoiamot7faPkmGq8cGMrgwYNdyYcOHSrdu3d3xfGABAwBNZgQZR5O1OoUE6W3amWK9O7d2xXHg9QJ4L2jVin6MlCDAlFmZfX7SZkxk/79+4v6mPvSqdVQoia5Ra0SEtUJErUCyJcmnYhVq1aJ0nbS7yuTj5p4F9UJNYcpb/FeVII4UYNlUZ03Xz5qpaWoVaOitHB83zVlmkOU+VhRGr8SrWujTKnovJUQ35d3shH4xqrVZM5laiJBwEZpzDlxmdxRi0xEdYhFDRicYpSZOlGr+gS/gUwEpR2lv9VK2CRqhZr+U6uJdXn4ruIbav/he2r+8K1X9uVF+eYTNaBLuHpqlbio1YeiBqqiVtfpb2W0i9WgT5TJZlGCT1FCv2jJ4sarFYKiTK6ImshxpUUb0XY8U2g39rE1fQm0HW1EW3F/0CdQK/NceQQdKLMnonyzuU6Bm1qZJ0oAK0pTXpTGlT6vOv+iBgWutErgKHPmzBG14lHHK1Mf+vm3E6mFSaImJ0VNHtnR3CcBEiABEiCBqATwPTvjjDNEmRt0pVFmiUVNprvieJA6AfRr1QJZXwZqgYuoRV86Xk146/EW+gXegHkD5UJCf/vV4i1BfznMgL4M5mswFjRBCYpEaVaZw7S2asGtqJX8orQRfPmgn6VMWQtYoN9lB9QH17388su6v2mfM/tKo0WUNQNRWhu+sYNJk+gW9VNaRU5fFNwxLkY/LFtBCTNcY3H0QZXJPVGL2jNSBYzxFyxYoNmDP/4wBsBcGfrF6K+i/4vfiNnHFvNriEN/GHko7ZOE64f+M/r+yoKDKO2WqPcWGWL8hbyVtoueu4s37xmtEhhPYR4M41A7ID/8Bu0/MDBjLbQTbTTjHNQdY4F4QQl9RFlb8SVT/o90nx59eTzLCMgTYz57fKs0HTUbpZ2l0yiTm4JxrjdgXKjMBHqjQz3GnAPq6w2YG8AcAeY4Mf5TphhFWY3yJtO/I8z/Ih/MNyvLK7406URgXKe0x/Tv1OSjtPoE79QwAubc8Y7BHLA3KCGtnp/AM+D9bWLOGnMX+J1jLjgoKP9p+huA73C6AeNajJNNAGdl1lBQx2wEtUBb1KJr1/OBsS7G+niXphrwvFGwlSo9XhcqAWUr2fViwccSL+GwO2WhVjrPM1Nqp/pjaJoBQRwmhjP94TPlcZtfBNBhUyu2fAMYpT4uaqVHfjUmh2uLzjE++PbAEdVFRwgffXvQAsG9WoWln1tl712fQ+cAQiczwZ2ppmJiHRPsJqBcdM7CmjTHAAmDNGVCRbcPHS+1Wlj/YWARK3z77beiVmTqa9GRVRqGmgm4oJ5h1REDqHHjxjlVUXa2Ra3+co4zvYNJAK+ATq3olaeeeirTRZdY/hDMoG8AoSf+1MpO/bzgHuMPky5GyJRqJTF4hADfnlzBbwb9FKUNLkozMOGs1co8LZRSjp5FaY9p4VyQMBq/b0yMoP4mmMFHw4YNRZn4MNGizAuK8q/qHGNHaem5JgwgKDMTYSYhhH2jR482h9ySAAmQAAmQQEwCmETt3LmznmC2EyoTuLr/g0lthnAIKNNionyY+TKDQBGL1UxAHwJ9XGVBQy98wZgBE7ZqFX5S/ROTXzJb73wNBBvok2GCPYyAyW+MJZS1Gt33x9gHQiT0gyC8iBWwQNpwwUQtFnqh348/TPyn2zc0ZWNyGn1BE3BvvEJfcy4TW8zVQFBnCzjQZ1WWKzJRXE7kCUEIBAbo92OMh8lxLGQzfX+MjTGPlU7AxDjmOZR5T1c2EAJg4bcyMeeKj3UAYd6nn36q+/UQNk2cOFEvLPNeg4l8pbWjBdLmHMa+uL/4vaOteMYQlJ8kUWY2TTK9VRZUtMDXRKKPr0xSmkO9xSJ51CGTAb9FzB+ivnbA2AnPstKqdKJx78zcBcZ0uHf4w/sr08IVPKu24oTSDNO/q7DeDRDm2nMXmK/A+0v5B4y7yBiLFcAF8x7giPe6eX/h/R7W3AUWSGMRgAmdOnWS559/3hxmfKu0IX1KI8pdk2DBdtpB/RAZSKDECagHzKfCCTVchswQUJ1Ql51e9SLRdmwzUxpzzXcCaqARaJsYto/VRzzfm5dT9YcqNp5H7x9MDeRSgC1kbx1hT7pYAswYqsGGiwF8z2UzqBVervJxP9TK2WxWoSDLgp8C728bJjLDCEqjLwIzmt78cez1jWb8j3pN3MAsoX097Ox7Axylq4Gakw4OncPys+Eti8d+AjDJApv1aoV5BP5MGeITgANuMFNWIbLiDyJ+jZiCBEhAWfdwviPmuwO/LjCLzRAeAbWgJqKEhD7W8MFim90Or8TUclIT5746wp9PsQS16C6C/pR5FrDN9nyV0npxlY86wMwaQ3oEgt51SpAbijk8tfg0ohakufrl5jfk9Y02fPhwfX/h48sO3nG3Enz43MMogYjLVxV8bqfrT86uQ7T9jz/+2PebRPtgJjSXQpCrh2LyDw8T/0rY5rpX8NOYzaA0vV3lK4FdBGPWMAKk/QwkUOIE4ARUrUxw/dC9L/QSr2QBVcDr9BQfH2VWq4BayKaESSDIySMmoIw/lzDLKva8lHlQ13vQdHzREcilABv1aiWlq674nRRLgDNfc2+wVatJXU1X5gQiauWtdvbrOhHiQd26dV11gE8lhvQIwJkvOtn2vcUkHu5nmAGDZbuMoN+QMjmh6+IVGHsda6tVboFVU6t6I/A3Cj8bWMzCkHkC+J1AMGPuLb6TahVw5gsugBLg6N1wg08ZDMAZSIAESo4AfPZ4v4fwzcHvSfj3RJnwct5/5j2ILd6FuRQw7lMWIVx1VWbDcqmKGa3L66+/7mq7sizk8pmDwuH3K5MLibz+ruCPyPbbk1EABZo5BELKxLjr3kJwFPbCpH79+rnKwDOO50lpeDlke/XqpdMo9zVOHHbgX8l+N6CvGRTQFgg/IQhTlieCkoQep0youupm6qm0gUIvK50MleUbn3BRaQulk2VeXesVisPPm3d8CyElFmFmImChvLKc4/qtKHO2oRVFwVZoKJlRugS6du3q+qHjA8OBbbpUg69XatUu1sp2q+/FFnwlY4uNAD6C3oEtVuAocwDFhiIr7VVmBlzPpukcKjXxrJSfTCFKpd9VV0x4KFOKyWSRt2mVvyNX27EKzA7K35E+DyaZCMqsnat8/E6UTfhMFFVUeQYJ8ZXpv9AZKNMcPsEwNACxGtgErNL2Lh7Aqm6vQFn5HTOXcFvCBMyEBJ5HZUomsnbt2hKuUf4Uj987BrjmmwdBvTLJmz8NYE1JoIAIYLGjMu3lPI94LjGJr/zsFFArc6cp0OYw7z57G5a2eJgthXatXUfM16BvUgwBi67ttkMr2w6w5qD8LmntO2//zU6X6j7yV+46XHWAsIQhPQIQ4tv3FfvK5116mQZcjd+EMrfnK2vRokVOauWnK4IF/3aA8AECTLuOyhS+naRE971CN1NPZRq/ROsVVLgy4e/iCA1MW7AYdE2hxDVr1szVdgg/7aD8OevzysSnHR3avjKX6iofv5NXX301tPwp2AoNJTNKlwAeJu+EDSbVGcIloGxy+8wdwLQAAwl4CUyYMEF30E0HBVvlXyai/MV4k/I4BALKj5lPcxXMIVhUNptDKCHcLMaOHevroLzxxhvhFpKDuXlNLmAQ6xX0mgnuLl26ZKQF3kkQaPHQLGj6qLHy2H7fYR/3OxNB2U73laX85sUsStnpd12DwYd3tV3MDHgyYwRsoeg+++wTsScqMlZogWW8YcMGLRA0zyAG4TR5VmA3mc3JeQLQNvdaUSldunTk7bffzvm652sFlQ9Z17fdvAOVr82ca5LyHVSU8zUQ3uE5MPcGW6+ZN+VzWp8PUwvB/gF4rUUo32ZcAGIDSnH/pptuct1X3NtMzY1BC9P+DWEf1iJiBcy72NfAbGmuLP7H2BO/Q7t+Zj9bGmOx2HnPYdGGqZ/Z5pKQ0FvfsI6hSWovVIe5euXP0JU9TN+DCSwoZCJ4Tek3adIk1DEsBVuZuGvMM2UCZ599tutlQ9NKKaOMeqE9+YKXFyYOODEWFVfRnoC/INhmNh99bLEqL9u2eIvpBijnwy7ehn3t2rVzEgNUyqHtaeqJbTGYkB04cKCrzdCyswNMV6CTjw4kNLfCDsrZbgQT5zb3TA3Awq57rucXJNjCJF8mQp06dVz3EALSeMJJ7+BbOQHORNWYZ5IEbr31VudeKmfgEQj9GVIjgElT+JUx77fWrVvT51ZqKHkVCSRNAIuoqlWr5jx/eA6x6LSY/CglDS3NC2D2Cd8N884zW/hCyYTWT5rV1Zd7+0pHHnlkGNnmdB6vvPKK6x5BK9ueP8F+gwYNdJpM+N2CRQyYDjO/D2wHDRqU08zypXLGp63NFvc7EyHIMks8ywvG75apX5Bv3UzUNZE8Z86c6fpNmjrWqFEjkcuzngbPKfiZemIL0++FHmCW3m5zixYtXE2GOVOjFZgJf93fffedz9znpEmTXHVI94CCrXQJ8vpQCcyfP9+nITJlypRQyyjmzLC6A6YkzIsNE69QC2UgAZsAtPqgCWB+J9hiZUemOnl22cW8f/vtt7uYG/6XXnppzmKBVp+pJ7aYnIf/rUIOXv9IMGFhBww0waJNmzZ2dGj7Jn/D/fjjj3cNrkMrqAgz6tmzp+v3DMZeUw1hYIGJOq+ZJwi64gX4+zL3HVvvby/e9TwfPgGvM2poUzKkR+CZZ55x/c5z+RuYXkt5NQnkDgEsmgnSHILvV4bMEYAvHfu7bvbRt8vVAJOU6O+bumI7efLkXK1uKPW66667XO3FQiM7YIEZOGAxYiZMm3kFazB1vnXrVrsK3E+RwNChQ133FvcRLlLCDvhdGOGBeXagBRjvPl5wwQWu+uWST+sBAwa46mba1bFjx7DxhZYf5pa92kuFbmXh8ssvd90nr39mM5Y58cQTQ+NsZ9SnTx9X+ZmYI6FgyybO/ZwgYDvexsvxpJNOyol6FUIlvC+VYnL4Wgj3LxttgKmFww47zPXxwXPo9SGUjboUWxkYxJoOob3NRRvV9r3xOjKGqnkhB69gyzZFApO60GyEmYh58+aFjmHTpk2RypUrO78TrKS2yw+9wCLLcOrUqQ5b8wxC+27NmjWhkvAOMFCWd5LEWyDMtGGBgakXtrlo5sNb70I+xu8Fz7q5J5jQytUV9vl2H6CNaLhii9WmDCRAApkh8Mcff0SCTGRdc801mSmQuToEOnfu7HrXmfde7969nTS5uNO9e3dXvTM1IZorbb/zzjtd7R0xYoRTNSxWMgtCM2FBAdr8RhvM/D5y0feyAyTPdoLcdGDxWdgWG7wLE3Ev483FwTqKVxgGc3q5EoK+G2hXrruT8WqdZsr8Xq7cJ++40zYtDKEerDRhTmH27NmhVxm+AW1LMxg3Yb4k7EDBVthEmV/aBDBxB/VV8+HGdvz48WnnW+wZwI6qbd4FJg4KXbOi2O95su2H83YMTOxnD/vQYmD4H4Hp06dHnnzyyQgETitWrPjfiTT24FvH6xDY3Idc92n25ZdfusxWYhUnzEkVahg1apTrGRk2bJhuKlaAGRM+mVrh7DVFByEbQ3gEYKICvhHMs2e2J598cmjm0PDbsFcKooy99947rvDMrAY2dTrggAPCazhzSpoAtBtwD8z9gCmpXPSHknTDcuQCLLKBU2/DF5NMNIWcIzeH1SgoAvjueRfs4LmDe4B45nELCkScxmAiDlrS6PvDwkxY4cADD3Tec+Z9h+3rr78eVhEZyQfjFm/dX3vttYyUlQuZwg+S3Xe74YYbdLUg/DCajpg8zkTwmqI79thjaakhZNDQDLefP+zXrVs3NF9WGDt6LTVggj+ef60gv87x/PGGjCZqdtA0w3yilxuOMyG4iFqRFE5gXtQWtmDhYLx7kUIxOXMJ3s32fXrooYd03SDgMvPu0ErNRMACGbvsK6+8MhPFRCjYyghWZpouAaizQ2psHgKY6MGkO0PqBDp06ODwBFc4CGQgAUMAA1uojZtnzmzbt28fgV1vhv8jgPeQWZWHTtDKlStDQeO1fWz4o9P1999/h1JGJjMxDpNNvSEIwG+qEAOehzPPPNN5VmBGAoN7DHjx179//4w0G45fbcfVcO4O3wwM4RL4/PPPAx0hQ+gP/yOpBtgvv+qqq1wTI3heIBBJZOXt1Vdf7fzmcB2+6QwlR6BHjx6u+1Hoqz1LgrR3EUHNmjUjECgykAAJhEfgtttuc73L8H1p3rw5tU89iJs2bepwCsuMv3ey0fShscWisVwPWNBlz9dAaxl9nUINtrlqjAFr1arlaNLDdF0mTBBCW9/W2EG5mfDfW6j3LNF2gTPup/0MYr9evXppWeDA4gCMC23tflMGXBDECw888ICrTo0bN453SdbOB5lwRNtgueT333/PWj1SLQiLFMy9wPa4446LQEOuEAPmZOAH3bQXi6lhztTMXfTt2zcj8zYQ/NtmaytWrBiBBlcmAgVbmaDKPEMh4HXkCOfcDKkRQMfZXmWEFSg0l5May0K9yqsJgg8fNBcoUHbfcaxwMZ0Cr+NNd8rYRzALCjV4mFo1QhGTr3cLQRo6srBHjGsgbMxUpyB2raOf9XaY0AZotRVqQIcdztRx/zCor1SpUgQT3RA+ZSJAmObVJPLax85EucWaJ1YaBg1w99hjj0i3bt0iyWhRQhiG593WPjHPOPJLRKiF+2BWBJtrH3nkkWK9PSXebjznu+22m/MtwH3E6k+G8Am0atXK4YzffqZWxIdfc+ZIArlPABpI9vgQzxgWk+ZaH7OkScL0l/n2YjIw1QV/+G6jH4/32iGHHOISCpn8zRYTgEcccYROi2vwB99WuRbg78fUGdtcN6GYDj/cd/gWbteunda+gfkuaPrMmjUrnWxjXus1VYmxBkNmCGCxqi3ANr9raFphMVky9xnv0HvvvVf7XDP5mC2EkwMHDkxIkADNWXMdtiV5//v166ffQ5j/MEIRu272ftWqVSNHHnmkM3dx/vnnx7VMkZm7GjtXr9nrQh5b/fnnn5GXXnpJmx3G3AW+MfALnKnvCgT9Rx99tOv3myn3GpiHomAr9m+dZ0uQAB4GvDjNSxLSXvoSSf6G4MNqNEzAEirDhaxqmzwhXgFtG+/AFn62YAqI4X8EwKNKlSrOO+npp5/+38kk9mC/2LzXUt3moskrrKS3/bNB2wx2yws9bNy4MSOrNG1uGBzZvxUMqgtVI85ud0nuw9QHBP5BJkKhZYXvKla1Q9MVEzl4j0JIBVODGChgMIpBXdAqTdzLU089NQLtsEQCVpLaq6JxfZimkBKpA9P8j8AZZ5zheh658Op/bMLe++CDD1y/fTx7MAfMQAIkkB4BCGu8prHQx126dGl6GRfY1ZiPaNiwofPOh4ZbKmHdunUurXu7T5foPkzS5VqAVQnbzw7ma2bMmJFr1Qy9PugjZlorZezYsa7xORY5FrJGXOg3KYUM4W/wnnvucZmpM88n5kqwkLFJkyZa+wXmKLHIEAsdhwwZol03QIDTrFmzqM86rk10PhPjPNuvMurx6quvptCq9C+BSUTvXJHhkug2l3yDGSKbN292vd8hrC6GbyDmbDKhYWq4YgtBqP3bwHg5U+H++++nYCtTcJlvOAQglIFau3kosDoAEzwMiRHAB9GegMHE2AsvvJDYxUxVFASw8sxWEcazBs2CYhBIJHuDYWbCvIvgEwedoVSC/vgqziavZLfQFIAwJRcDJuqxAsi0CZ37TA/8cpFDmHWaO3eua4CECRb4omTIDgGYA4IJQZjWML/rVLcYFGLBzhtvvJFU5eFn1C4TKyEp2EwKYWiJce/swX2FChVy9n0cWqNLOCNoKti/f0wMpaoxUcJNYfEkkBMEYB4I5ozt5wp+mJPRSMiJhmShEnfffbfDCePoJUuWpFSq9ztus090P1cXpmJuxp6vgSUKztek9DNxLoIWuC3UwNg8HXPYTsbcSYjAd999F8GipX333dd5/hN9ToPSYaEbBGDJ9F0WLVrkKhuaXiX1XEGTKahdicZhkd+3336bEPtsJ/riiy9cC5chQIb/MIbUCWABmj2/CE3ITFoLg2WUHVBd9YNkIIGcJaA6kKJWAokScuk6nnLKKaIk/qJe7jlb51ypmFJzFmW/V1dHTcSI8uMjanVJrlSP9ShhAmoltOB5+uWXX5yaqJUq8tZbb4maOHLiuCOiBqSibBOLmkzWOJQ5JFHq1Cmh+frrr0Wt+BQ1QBb10RfV2dN/Zh/PqrLxLKrzK8o2t96qFZGiVtbo8vA+VEK2lMrOxkXvvvuuKB9UolYV6uKUk1BRq0yzUXTBlaG0BEU5iRb8ZhCU6RpRjl6lWrVqBdfWXG+QEiaK0pTU70fcA9ybRIJaEa/vYevWraVt27aizDwlcpkrjRpci1pB6sSpVW+i/A85x9zJDgG8k/FtVNpyToF4l6uJT+eYO+ETmDlzpihTrK6MX3zxRVF+zVxxPCABEohPYMWKFaLMKMuaNWucxOiHjh49WpSmsRPHHRGlpSDKv6Yos+wah1qYIsq/Vkpo0Ifo3r277tOjv48/zGWYvr/SRnX6/vjW4A99f2U+So89GjVqJMo/dkplZ+MipeUgyr+uM1+jzKfLpEmTOF+TAnylNSTKXKUoCx/6arVgUJQ/M8FvgCG7BDCWxTNv+v/Kt3FCFcAYH/1F9P0x16IEW4LxfTLhmWeeEcw3mKDMugnmbkoiKDONoqxTCN5T5p2F74Z5j3nfX5i/sOcu8M1RptxLouoJlakWdegxmhJo6fTKxKiMGDEioWuZyE1AaSeLsmji9DEOP/xwPXZWGuHuhCEe4fdGwVaIQJlV5gjgJX7aaaeJUvvWhSh7zqJMM2WuwALIWWniiFKH1h1jNGfAgAGiHAMWQMvYhDAIYKIcnQx8fEzABKxScZfTTz/dRHGrCCh/KoLBrFLbdnhgsIGPNkMwgXHjxomyW+0I44YNGyZK6yU4MWMDCUCQiWfxnXfe0efVClg9sDr44IMD0zMyewQg4FZak3oCB4tu1ApKvY8JKExAoPOunH3rLfaVlmValcNkkVr95uSBwRYGXQzZJQDuXbp0cQrFN3PZsmVSo0YNJ447mSGACR2lZeJkjkmiefPmJT1R5GTAHRIoQgLox2Jx1MKFC53WY7JVrcYXZULXieOO6G86BOrKgoWDQ1k9kUsuucQ55o6bgNIo05PDZr5G+UvXi2rdqXgUjwAWLz777LM6mTLrLkpTXJTGQ7zLeD4LBPAOVdpcTv8fi9yUJooozS7d51dadrr/jzGAcv+RVo0gCLIX0XIhVVo4414MQbzyYy4QLCMoM5OifJrFvY4J/kdAWekRLGqAoBBBafJqoVZWFuSmrmDGK0kguwTee+89x2wCbOyrCYbsViCPSoOpAtvEhBJo5VHtWdVME4AZO9sXkvruaNNKTz75ZKaLzrv8oZ4OkxpgZP6gos4Qn4DSKHH8N8BPkRLQxL+IKRwCtunLAw44IKIm0J1z3CkeAmrVtsvWP0whrV27tngA5EhL1WrAiNK2c74D+B7A1x1DdgjAj4X5Bput0i7PTuEshQQKgAB8x6hFEr7nSC0WLYDWhdsEjJOOOuooFyv4H1OaW+EWVIC5wb8WzLXjPa2EphEloCnAVmauSbbpS8zlgCdDcRKA+ULT38GWv4XM/w7gwwwuH8AbPignT56c+UILpASYyIcfLfObVQtxI0pDPGutk6yVxIJIIAQCENgoia9+YNQqiAh8jzC4CcD2LiZB8VKBPVtlftCdgEdFTQCDMqWp5Xx0zMdHmawsai5BjYejVPMsGU7YDh06NCg54wIIwFGsGeDCVnw2OzgB1cmbqAceeMB5RuvXrx+BnyeG4iQAB+UYXJl3kNJeL04QJdzqV155xbkH5l4o010lXKviKX716tUR+Jcw7LHt1KlT8QBgS0kgDQKYcFKaRq7nB8+QMudJf40ersrkVuSII47wserZs6cnJQ+jEcB8jRk/lS5dOjJnzpxoSRlvEYAfNixewrMJn1rkZsEpwl17YS0WJCvTfkVIIftNnjp1aqR8+fL6OYSPNSxyZohPoH///s53E0JZ+AnMZqApQvXlYMgvArBtC1Vc1VHSpvWqV6+eXw3IcG1//vlnbfILarQwmUOzchkGnkfZq4+L9knx8ssvu2oNk1YweZCs7WdXJgV2AF8DMJ2H58kOMCugPtTa3Jgdz/3oBOCPBj5o1CBNv7MrVKgQPTHPaAJ4RseOHSuVKlXSvpWUcJBkipgAfCuMGTNGatasqd9LfIay/2OAvwtjFhSl45mEj5qyZctmvzJFWiLM/6oFbU7r8Rwo7cW0TX06GXKHBAqUgHKsLoMGDXK1DiYJ4bM6XVO5rkzz/EBZhxElMNfvFbspGB/BFKqy2GBHcz8GAbUYQeAfFPM1+P3RZG8MWP//FH5/avGkNmGH51UJB+NfxBQFSwDvnKefflrPOcA8JUzSM2SHwOLFi0UJagSmJeHKBeNxhtgEnnvuOZk4caJUrVpVBg8eLHvuuWfsC0I+S8FWyECZHQmQAAnkKgE4/RwyZIirenBoCn9s8BXCIAInsXDOPHz4cO2s2csEfuswwcxAAiRAAiRQHASWL1+u7cT/+++/ToP5LXBQZG3nzjvvlLvuustVHnwiwAcvAwmQQDCBJ554Qq6++mpY6XESNGjQQKZNmyZqVboTV8w7yuSvXkQ0cOBAxzeszQM+/ZQVBzuK+yRAAiRAAiRAAjlCgIKtHLkRrAYJkAAJZJLA448/Ltddd51rYIuVh8pHhV55nsmy8yVvDPLhJHTp0qVRqwwtmvPOOy/qeZ4gARIgARIoLALKNKjceOONrkbBoffll1/uiuNBZgko/xJy4oknugqBZvWwYcNccTwgARL4PwIQ/KLP+tdffzlIoAUCzRBq0PwfElgV6N69uyizbw4j784999wjWBzIQAIkQAIkQAIkkHsEKNjKvXvCGpEACZBAqARef/11ad++vSjbzE6+UGfHwFb5rHPiinXnq6++0qvAoYllr8j38oDZI5jWgFkNBhIgARIggeIg0KZNG70IxG6tsrkvhxxyiB3F/QwTQB+mSpUqovzOOSVhcl75bqQpZYcId0jg/wjMmzdPWrdu7TKpDROqMKnaqFGjosekfFJr84ww9fXnn39G5aF8Hgne9zAFzEACJEACJEACJJB7BCjYyr17whqRAAmQQGgEPvjgA8Gk3JYtW5w8IaCBdlL9+vWduGLbwepV+BZ45ZVXRDkJjTmoNWywOh+r9BlIgARIgASKg8Bvv/2mhSlbt251GgzfritXrnSOuZM9Aqeeeqr+ZtslfvLJJ5yot4Fwv+gJwBcstBvhB9AE+NKC6XGMCYo1bN++Xd5++23d98eiP3tsFI3JySef7PKvGC0d40mABEiABEiABEqGAAVbJcOdpZIACZBAxglAE6lFixaybt06pyxoG0Ggg/hiC6tWrdKDUwj1oK32ww8/JIUA15xwwglJXcPEJEACJEAC+UsA34uWLVu6GnDWWWfJ+PHjXXE8yA6Bfv36aYfedmkwFXn99dfbUdwngaIl8OOPP+p31sKFCx0GO+64ozzzzDNy6aWXOnHFsvP999/rvv/06dMFf2vXrk2q6dDo6tq1a1LXMDEJkAAJkAAJkED2CFCwlT3WLIkESIAEskYAQhsIrxYvXuyUCXMaL7zwglx44YVOXKHuwKzIggULdPs//fRTgeYafGfFMjUYi8Whhx6q89phhx1iJeM5EiABEiCBFAl89913WmA0c+ZM2WuvvaRq1apSq1YtOeOMM2SPPfaImevGjRtl0aJF+j39+eefy6677iq1a9eWunXrymGHHaa1rmJmEOXkoEGDpE+fPq6zOB44cKArLlMHmzZtkiVLlujv17Jly7QZPrSpXr16Wut6v/32i1o0vncwoYVvIfzIoF8Ac1rg0rZtWylbtmzUa3P1BLQsIFi0w9lnny3jxo2zo7hPAkVJAH1fvC9hbtAOAwYMkL59+9pRBbmPdx6+A5999pl+76Hvj2PbFHsyDS9XrpzWzsWWgQRIgARIgARIIDcJULCVm/eFtSIBEiCBlAn8/vvvcvrpp8u7777ryuPee++Vm2++2RWXjwd//PGH9qmxfv16gY18bPH37bffCiZG8YfjWDbzk203JjG9k5vJ5sH0JEACJEACwQQmTpyotQk2b97sSwAB14MPPijnn3++7xze9Xfffbc8+eSTsm3bNt95E9GtWzet6VOxYkUTldD23HPP9QlNRo0aJR07dkzo+lQTgQO+O4899ljUSVkstOjQoYM89NBDUqlSJVdR+B5ecsklvn6ASQTfVEOGDBG0L58CNK/hIzQSiTjV3n///V0m15wT3CGBIiKAZ6Jz584ycuRIV6vx7nviiSdccfl48M8//whMLJo+Pvr/ps9vtnjvYQwUVoCG24gRI8LKjvmQAAmQAAmQAAlkgAAFWxmAyixJgARIoKQIYGB70UUXycsvv+yqAkwQNm/eXDtYh0kS/CEYDSRszZ8db9LpxAn8Qx4mf3vfxJn8sHoSg1T8mX2z9cZhshLnzHn4PEGabIVSpUrpVe+YTGMgARIgARIIl8Dw4cOlR48eMd/rO++8s9Y4NgIlfOtgWgtaCNDWSiRUV76x4Ffx6KOPTiS5TnPwwQfL8uXLXennzZsnjRs3dsWFeYBFKVdccYVewJFIvtBqGzNmjDRo0EAnh4ZCu3btBEKgWAHfY/iN7NKlS6xkOXcOWmqYwLbDl19+qbX77Djuk0AxEcDiK2iY2gHP+EknneTql8fq6+Mcgumr23nF2rf7+/Y+8jF/uN7u32PfHKN/b/r6Js4+j30IrOAfN5sBmm/wscVAAiRAAiRAAiSQuwQo2Mrde8OakQAJkEDSBHr37q1XYSd9IS+ISgCOtqdOnRr1PE+QAAmQAAmkRmDWrFl64hATm/vss4/cddddcoLyZQitg/vvv9+lmQPTeTCpB+2kyy+/XMaOHesUisnHTp06SaNGjQRmo2C+D5OSjzzyiEt7t3z58vL+++9rE4XOxVF2YLqvSpUqLhO2WOgA84DxTCNGyTJu9EsvvaT9uZgJXGiYnXPOOdKwYUP9t2bNGnnttdfkjTfekK1btzr5Va5cWfuOxKTy8ccfL/ArgwCzg9D8qlOnjhbQzZ07VyZMmCDwwYlQpkwZ+fjjj/V5HZEH/zBRD5+XdsBv4bzzzrOjuE8CRUMAGllXX321631ZNI3PUEMPOeQQbQI2WSFfhqrDbEmABEiABEiABKIQoGArChhGkwAJkEC+EYDJou7du3NgG/KNwwTrxRdfHHKuzI4ESIAEipsAtK6aNm0qH330kdYYhnDCNo1Xv3597SvFpgTzehDKfPjhhzoa2jswUxhNqPHiiy9qk3x2HhD8TJ8+XeB3MlaYMWOGnHjiia4kMOEHc1iZCFhAAf9REGpBQIXvDswFes0Mouz//ve/Ou327dudqhx33HHy66+/auEfIk877TSt5QaBIQLM88KsFswSQ0BmwpVXXinQmsuX0LVrV3n22Wdd1YVA9I477nDF8YAEioHApEmT9PvPCMOLoc3ZaGO/fv3kzjvvzEZRLIMESIAESIAESCANAhRspQGPl5IAAYS9yQAALNtJREFUCZBArhCAQ/X27dtH9cWRK/XMt3pgQnD16tUCTQEGEiABEiCB8AhA6wj+IBHatm2rtZDs3PFNs7Wy7HPYr1evnowfP14OOugg7ynnGMKzI4880hH2mBPPPfec9kdjjoO2MHUIzTA7HHPMMQIts7ADTOkde+yxAi0xCLWgrXb99dfHLAYCOmifBQXwBJtddtlFn47mexMnYVYR5hXzJfTv318w6WwHmGCGEJOBBIqJABYFwKrAzz//XEzNznhbsehh6dKlNG+acdIsgARIgARIgATSJ0DBVvoMmQMJkAAJlCiBDz74QA9st2zZUqL1KMTCC8XpdiHeG7aJBEggvwmccsop8uabb+pGTJkyRXBsh7PPPlubzbPjzD5M8+EamOCLF6DN4115f9hhhwl8UcUyM3X77bdrM352/ueff772Z2XHpbsP/zEwvwgzgQg333yz1qqKl2+Q5hKuqVChgixevNjFBoKym266KTBLaMYtXLgw8FwuRgYJHOFDdPbs2blYXdaJBDJCAJqj0Ci1tS8zUlARZgrTtjBly0ACJEACJEACJJD7BCjYyv17xBqSAAmQQFQCGNhi1fa6deuipuGJ1AnMnDlTYN6JgQRIgARIIDwCMCcIv08wpQdfJsuWLdOaSnYJdevW1fF2HParVq2qhRjVq1f3ngo8HjVqlECjxxveeustadWqlTfaOb700kvl+eefd46xc8011wjM/oYZYErxhhtu0FnCf9Tbb78d10wiEkfTaAtakAGTj8Z8o7fu0JqDacN8CTC9dsYZZ7iqe8ABB8iqVatccTwggUIlAA0tCLXySSCdT/ciEY3efGoP60oCJEACJEAChUyAgq1CvrtsGwmQQMETgBki+ByBuSVMENpb7Af9AUoy8Sat9zpTXiYgwxQTgtna+ybObBM9h3QIsa6zzx988MHyySefuNLrDPiPBEiABEggLQIPPPCA3HjjjToPCHWgUWQHLNqoWbOm/lbZ8bvuuqtMnjxZWrRoYUfH3B89erRccMEFvjS9evXS/rl8J/5/hK1RZtJAiwum8MIKmzdvFgjwNmzYILvvvrv+5uA4kQAtJaPlZadHeyH0sgMEP9E0O6AB1aVLFzt5Tu+jzWi7HfC72Lp1q5QqVcqO5j4JFCQBvB9bt26tzY+bvrjpq5ttUDxgmPNmGxRnzmEb67w+GeI/0z83W2Rt9r3boHPR4hCP4M3DHNvn9thjD72gYs8999TX8B8JkAAJkAAJkEBuE6BgK7fvD2tHAiRAAqESMINUZGr2zdaOs/cTPY90Jq29j8G1CYjHQDLoD2mMWShzHnFm4Bm09cYhPQMJkAAJkEBuE2jZsqVMmzZNVxI+Is8880xXhUeOHCmdOnVyxeEAGk3Tp0/3xceKGDZsmNa08qaBtvOMGTO80c4xfE9hcYMdIIAz2lV2fKr7jz76qHTv3l1fDtOCTz/9dEJZbdu2TZsa3LRpkyt96dKlZe3atQL/kHaAVhZ8mnnDEUccoYVjEAwlG/BthynkcePGSfny5QUabv/5z3+SzSbp9EuWLBGYkvSGlStXSqJafN5reUwChUzA9M3RRrNvtnZctP1YaXHOnI+1b/rr6Odj3/yhTLvvj2P7nLnO3tr7SM9AAiRAAiRAAiRQvAQo2Cree8+WkwAJkAAJkAAJkAAJkEBWCfz1119SqVIl+eWXX6RMmTJak8griLnqqqvkiSee8NXrlltukcGDB/viY0X07dtX7r77bl+Sgw46SJYvX+6LNxG1atWSr7/+2hzq7fDhw+XKK690xaVzAHNiRrgGQV+immjz5s2TJk2a+IqO5htmwYIFWsPjhx9+cK457bTTNGOYdkwl3HHHHTJgwADnUgjJUK+ddtrJicvEDkwO1qhRw5c12tigQQNfPCNIgARIgARIgARIgARIgAQKkwAFW4V5X9kqEiABEiABEiABEiABEsg5AhBMQGj0zz//SMeOHQU+sLyhXr16snjxYm+0wL8SBDLJBPjXCipj//33j2qeD/lD+2j9+vWuouBzK0iTzJUoiQPjRwxmF5cuXZqwKb2hQ4dKz549fSVBgHfbbbf54hEBQeJHH32kzR7Cr9lRRx2lNSMCE8eJhF9PCAb//vtvV0r4ToMZ30yG77//XmurecuYNWuWHHPMMd5oHpMACZAACZAACZAACZAACRQoAQq2CvTGslkkQAIkQAIkQAIkQAIkkIsEYDYOYb/99vMJcyA0gUm5f//911V1+KD67rvvpFy5cq74eAfQbIImkTdUq1ZNVq9e7Y12jmFe76effnKOsQMBGYRxYQX41tqyZYvAB1Yy5gA7dOggY8aM8VVjzpw50qxZM1982BFvvvmmwAeZHerUqaOFkZnW2IKALug3kIzGm11v7pMACZAACZAACZAACZAACeQnAQq28vO+sdYkQAIkQAIkQAIkQAIkUHAEXnnllUDhUTyfWEEgYPZw3333la1bt/pOQ7MIGkbRwl577aWFTvb5l19+WS644AI7Kuv78GMDQRh8admhcuXK8u233zr+auxzYe9DuHT44Yc7dYBJycmTJwvuUabD5s2bfT7EUOZbb70lrVq1ynTxzJ8ESIAESIAESIAESIAESCBHCFCwlSM3gtUgARIgARIgARIgARIggWIncO2118rjjz/uw3D77bdL//79ffGxIj788ENp2rRpYBJoNkHDKVrIVcHW/PnzpVGjRr5qn3vuufLqq6/64jMVsWLFChk9erTWnmrXrp2k6qsr2fpRsJUsMaYnARIgARIgARIgARIggcIkQMFWYd5XtooESIAESIAESIAESIAE8o7AEUccIQsWLPDVe/r06XLSSSf54mNFPPLII9KjR4/AJBdffLGMHDky8Bwi9957b/n5559d58M2RejKPMGDhx9+WHr16uVL/dBDDwX63fIlzPMImiLM8xvI6pMACZAACZAACZAACZBASAQo2AoJJLMhARIgARIgARIgARIgARJIncD69esFvq+2bdvmyqRChQrazN4uu+ziio930L59exk7dmxgsniCoEqVKsnGjRtd177wwgtyySWXuOKyfXDOOefI+PHjfcVCOw3+xAo9/PDDD1KxYkVfM99//3059thjffGMIAESIAESIAESIAESIAESKEwCFGwV5n1lq0iABEiABEiABEiABEggrwiMGTNGOnTo4KszTN1NmDDBFx8vonr16rJ69erAZJ9++qlAOyxaOPDAA2XlypWu008++aRcccUVrrhsHkDgB5N/XoEbBH8QCu68887ZrE6JlLVmzRrtY8xbeLz76U3PYxIgARIgARIgARIgARIggfwmQMFWft8/1p4ESIAESIAESIAESIAECoIAzAbCfKA33HfffXLjjTd6o2MeL1y4UBo2bBiY5vDDD5fPPvss8JyJxLXIww7xtLzstJnYnz17dqBWUps2bWTq1KmZKDLn8vziiy+kTp06vnotX75cDjroIF88I0iABEiABEiABEiABEiABAqTAAVbhXlf2SoSIAESIAESIAESIAESyCsCRx55pEDzxhsg0GnevLk3Oubx/fffLzfddFNgmsGDB8stt9wSeM5EtmzZUqZNm2YO9fbOO++Ufv36ueKyeYB633bbbb4i+/btKwMGDPDFF2LEvHnzfCYXoam2ZcsW2X333QuxyWwTCZAACZAACZAACZAACZBAAAEKtgKgMIoESIAESIAESIAESIAESCB7BDZs2CD777+/z7/WPvvsIzhXqlSppCpz4oknyowZM3zX7LXXXvLll18KfGjFChdddJGMGjXKlQQaZQ8//LArLpsHp556aqBmFsw0wlxjJgOYgefXX38t9evX18KlWrVqZbLIwLzffPNNOeWUU1znqlSpIt99950rjgckQAIkQAIkQAIkQAIkQAKFTYCCrcK+v2wdCZAACcQlsH37dpkzZ45gsqhBgwZy5plnyi677BL3unxNgIk5rHg/77zzpFevXvnaDNabBEiABAqKwNixY6V9+/a+NqViZg/Cl7p16/qEZMi8d+/ecs899/jK8UZAo+vee+91RXfs2NEn7HIlSOEgEonIsmXLZNOmTXLIIYdIxYoVA3P5448/BAKcX375xXV+hx12EPid2m+//Vzx0Q4++ugjQTtw3aOPPuoTEnmv+/vvv6V79+4C/2Le0LlzZ3nmmWdkp5128p7K2PHIkSOlU6dOrvyh6ffxxx+74nhAAiQQm8D8+fPljTfe0H778O4tW7Zs7Avy+OzixYulZ8+eWij/4IMP5nFLWHUSIAESIAESIAEXATWYYiABEiABEihiAl26dImoD4Pz161bt4KksXnz5sgdd9wR2XXXXXVbL7zwwoJsJxtFAiRAAvlIQAlPnO+Q/U1Spv+Sbg6usfMw+1WrVo38+OOPCeU3fPhwXx5KCyyhaxNNpARwkcaNGzvlKK20yGWXXRbZtm2bL4t33nnHSWfag+2BBx7oSxsr4oorrnDyefrpp2Mljfzzzz+RDh066PTlypWLXHLJJZHrr78+okz/OXmoSeKYeYR9UpljdMo2HM4555ywi2F+JFDQBAYOHOh6jk4++eSCbK9aEBAZOnRoBO8vvC+aNGlSkO1ko0iABEiABEigWAlQY0v1cBhIgARIoFgJzJw5U0444QRX8/fdd1/ZuHGjKy5fD3799Vd57733ZOLEiTJ+/HhRwi2nKUqwJS+99JJzzB0SIAESIIGSI6AEPPLJJ5/4KgCNgrZt2/rio0VAw6h27dqycuVKX5LnnntOoGWUSFCCJGnVqpUr6cEHHyxfffWVKy7Vg2+++UaaNWsm33//vS8LaK9Bq9gOffr0kUGDBtlReh9a1q+//rovPijit99+E7Rh/fr1WjN7xYoVMTW94LdLLQiROnXqyJQpU6R69eo620MPPVSWLl2q9//zn/9ojbFsaW1dc801MmzYMFfz4EttyJAhrjgekAAJBBOAhifMiP7111+uBOvWrdPaW67IPDxAu+CXcdKkSfLqq6+6zJQqwZZ8+OGHedgqVpkESIAESIAESCCIAAVbQVQYRwIkQAJFQuD+++8XTAjZAT48Jk+ebEflzf64ceMEvkbga2P16tXy7bff+gbupjEUbBkS3JIACZBAyRKI5l9rxx131P61sOAi0QDhldJ68iU/66yz9AIH34koEaiT0vASmOs1Yffdd5effvpJdtttNxOV8vaCCy6Q0aNHB15/8803+8wgwlTwokWLfOkh8FLaF774oIgHHnhAbrzxRn3q3HPP1ZO+QekQt2rVKoEAC+3HRDD8aiH8/vvvUr58efnzzz/1Mf4h7QEHHOAcZ3IH/rVgOtkOSvNMunbtakdxnwRIIAoB9JPPPvts11ksBliyZIngnZtvAUKsp556Sn8rILRbu3atfk8FtYOCrSAqjCMBEiABEiCB/CVAwVb+3jvWnARIgATSJgD7+kcddZT8+++/Oq+9995bZs2apSez0s68BDJQ5qekf//+vpIxYMdgFxNyJlCwZUhwSwIkQAIlSwCr6s8///zASkDr1qtZHJhQRUIrF/6WoA1lB2WuT+bOnSuVKlWyo+Pu16xZU6DVZIeFCxc6Qh47Ppl9ZQ5Ra0p5NSZMHtDMuvXWW82hFiw1bdrUObZ3Ro0apX1m2XFB+2gHJnXhy0uZPNQ8wCpagF8t+ODq0aOHPPzww04ycGzevLlzXLp0aS3sU2Z+nbhM7gTdE0xs23XKZPnMmwTynQCE9tDC/Pnnn3VT4FcXC9qUOcK8bNqLL74oykyqr+7777+/FsD/8MMPzjkKthwU3CEBEiABEiCBgiBAwVZB3EY2ggRIgARSJzB9+nS9ahsrs5WfCoFZoXwNWKk/ZswY3QYMaGvUqCFHH320Nku13377aQ0u0zYKtgwJbkmABEigZAkov03y0EMPBVaiU6dO8vzzzweesyOVXXkt4PFqQZUpU0Zr+BxzzDF28oT2YQ7wtddec6UNMhPoSpDAwUcffaS/TUFJIXTCopPDDjvMOX3llVfKk08+6RzbO8gLC1RiBSzqgFnFOXPm6GReYZX3Wgi/DjroIFH+abTpRVsb65ZbbnFpkx1//PEyY8YMbxYZOcYEdZUqVZzFOCgEgjWYT8Z9ZiABEkiMAMy+QiCE5wnvOTzv+RrefvttgTZqxYoVxfT9IbSvV6+eKL+IesGeaRsFW4YEtyRAAiRAAiRQGAQo2CqM+8hWkAAJkAAJxCFAwVYcQDxNAiRAAiVEAAsQIKAJCtAmgOAkmsaSuQYm9jC5aQdoEY0cOTKqNpidNmgffpt69+7tOgWt4Ntvv90Vl+zB559/LocffnjgZbfddpvcfffdzrkFCxYIhHK2xrFzUu3Aj8xpp51mR7n2oRXWsWNHxwzjEUccIfCvWbZsWVc6+8CYc4Qw7K233nJOQXgIH122FhsEkj179nTSZHIHE9itW7d2FcGJahcOHpAACVgEjjvuOAq2LB7cJQESIAESIIFCI0DBVqHdUbaHBEiABEggkAAFW4FYGEkCJEACJUoAWjh4P//9999R6wEhEPw8QTvHGyC4gcbXsGHDXKfKlSunhVqnn366Kz6Zg/fff1+gkWQHmEyEZnA6Ydu2bVqjeN26dU42FSpUkL59+wpMAO6www46HuchXFq2bJk+xj6EO3Zo06aNTJkyxbnGPgcBVJcuXbQgC/HwGfbuu+9KrVq17GS+/Zdffln7rOnWrZvAF5gJ0PC2zZVBcLhK+deqXLmySZLRbZCg8dprr9UmEzNaMDMnARLISwIUbOXlbWOlSYAESIAESCBhAhRsJYyKCUmABEiABPKZAAVb+Xz3WHcSIIFCJTB+/HhtBtfbPpjGgmDH+KGCaT6YJbzooou0IGXLli3y+uuvC4QdS5YscV3esGFDeeGFF6JqRbkSxzj4559/tDDI9tECodCXX34Z46rETkHra+DAgTrxTjvtJDfddJNASAPh06+//irwnQVtKFMW/Iy9+eabAmET2maH9u3b63iY3UKYN2+e1uR67LHHHD86EJy98cYb2s+WfW0y+5dffrk888wzziXt2rWTCRMmOMeZ3gkyDQkhnC18y3QdmD8JkED+EKBgK3/uFWtKAiRAAiRAAqkQoGArFWq8hgRIgARIIO8IULCVd7eMFSYBEigCAjfccIM8+OCDvpYOGDBAaxZddtll8ttvvznnd9ttNy3Y2rBhg/z5559OPHagQQSzeHfccUegdpcrcYIH0NB69dVXndQ77rijNsVXvXp1Jy6VnV9++UX72friiy+cy3feeWeBP6vvv/9eC7fMCZgihBCvfPny2u8VBHx2nUw6CMUgCPzxxx9NlN7Wr19f+9OJZv7QlTjKAYRt1apVk82bNzsp4H8MvjmzEWAGEWzWrl3rFAd/ZKtXr9Z+gpxI7pAACZDA/ydAwRZ/CiRAAiRAAiRQ2AQo2Crs+8vWkQAJkAAJ/H8CFGzxp0ACJEACuUcAPpKgYeQN7733nkBLafbs2XL11VfL4sWLvUmcY5gdhB+pq666SqDZFWaAhhI0lewAv10XX3yxHZXSPkwFXnLJJTJ37tyo10NLacSIES6fWP/++6/28zV48OCo1+FExYoVtZnG6667Lm1BH7TEOnfu7JSHbyrqDx9o2Qjz58+XRo0auYpq1qyZzJkzxxXHAxIgARIwBCjYMiS4JQESIAESIIHCJEDBVmHeV7aKBEiABKISWL58uXakjBXdcCKPiSJMChZ6oGCr0O8w20cCJJBvBDZu3Kj9a8Hknx3wTVq/fr1AOwvh999/F5icg68pfMPgjwvaQ9DggWlA+H3K1HcM9ahRo4ZjEhH1ufTSS7WwCfvpBrTlv//9rzaniLZBAwntatq0qTRv3lybU4SWWFBA2k8//VQg9Fm4cKFs2rRJDj30UH1NvXr19Dd+r732Cro06bgWLVpo/1zmwt69e8s999xjDjO+hVYftPvscO+998rNN99sR3GfBEgggMB3330n8Bm4cuVKwbuhcePGWvAdkLSgoijYKqjbycaQAAmQAAmQgI8ABVs+JIwgARIggcIkAFNO11xzjc83xx577KEdr8O0USEHCrYK+e6ybSRAAvlIAOb0YOrPG1q3bq39SXnjS+oYgrPp06c7xcPk36pVqwSmA4shwFwiBGbbt2/XzYWg7fPPP5c6depkrfmnnnqqTJ061SkPZifhfwxCQAYSIIFgAka787777pNt27Y5iaBpCZOtffr0ceIKcYeCrUK8q2wTCZAACZAACfyPAAVb/2PBPRIgARIoWAIQap111lnyzjvv6FXtp512mnYoD0fyCPBT8e677wr8eBRq8Aq2YLZq1KhRhdpctosESIAEcp5A9+7d9cIKb0XvuusuPenqjS+p44cfflh69erlKv7tt9+Wli1buuIK9aBv375y9913O8076aSTXII+50SGduDXa//993f5WoNvL/j4YiABEggmAEF0165d5bnnnpPdd99dsGAAi9leeuklgc86BOxfeOGFwRkUQOzxxx+vNdVMU2D69sMPPzSH3JIACZAACZAACeQ5AQq28vwGsvokQAIkkAgB+AeBnxAIrkaPHi1Ybf7zzz/L3nvv7Vzetm1bMYIuJ7KAdijYKqCbyaaQAAkUBIGGDRtqE3rexuSa0AjmCGvWrKlNIpq6wp/XsGHDzGHBbqHxcfDBB2sTZqaR8PkFc4wm4H5169ZN4Mvr+uuvN9GhbV988UXti8zOEBp0ELAxkAAJBBOAqdBbb71VateuLdCONf4HoeW4Zs0afRHOLV26VHbYYYfgTPI8loKtPL+BrD4JkAAJkAAJxCFAwVYcQDxNAiRAAvlOYPbs2QJTHBUqVJDPPvtMKleurJvkdcQOYde6deuiNhf2+Xv27Oma2IuaOEMn4Ctk6NChui3JFkHBVrLEmJ4ESIAEMkdg7dq12ncVBCd2KFu2rGzYsEHKlCljR5f4Psz1jhw50qlHxYoV5Ztvvsm5ejoVDGnnrbfekjZt2ji54TsM3162767OnTtrM8e33HKLDB482Ekb1g60zCdPnuxkB9OQ0EBnIAESCCYAU6kQZMH8IDSUGjRooBNu2bJF96Ftv4bff/99VH9bv/76q/To0UOQpqQCzCYOGTJELy5Itg4UbCVLjOlJgARIgARIIL8IULCVX/eLtSUBEiCBpAmYCSGYUsLg1ITnn3/eteK6fv36gSvnTfqgFdPmXDa348aNk7PPPjvpIr2CrQsuuEBefvnlpPPhBSRAAiRAAukTiPZNadGihUybNi39AkLOAYtBYMbK9lMDE18Q6hRygCbWU0895TTx4osvdgn4fvzxRznooIMEE+CLFi1ytEKcC9LcgX+vevXqiZmIh38vaGudcMIJaebMy0mgcAmgv//II49oLUpsTZg1a5Ze7GaOYZrwp59+iuovcO7cudK8eXOTvMS2EGzddNNNSZdPwVbSyHgBCZAACZAACeQVAQq28up2sbIkQAIkkBwBaGjB1JNZWQ4b+ybAP8X48ePNoVxxxRXy5JNPOsfeHUzmTZw4UU9eec8lc2zMnWBr/yEPHGPSysSbOBwjoP6nnHJKSiZTvIKtDh06yCuvvKLz5T8SIAESIIHsEjAmcr2lwp/TgAEDvNE5cQyhDnzSmNC0aVPBxG8hh2OPPVag+W3C66+/LmeeeaY5FPhDu/POO6Vdu3YyYcIEJz6snWuvvVYef/xxJzv61nJQcIcEAgls2rRJDjzwQPnzzz/lq6++EpgeNOHmm2+W++67zxxqc54QFMcKU6dOlY0bN8ZKktA507c3W1xk9k3f344zff+ddtpJ9/133XXXhMqxE3kFW0cddZR89NFHdhLukwAJkAAJkAAJ5DEBCrby+Oax6iRAAiQQj8Btt92mzQJhYujRRx91kmOFNQa6v//+uxM3adIkgXZXoQYKtgr1zrJdJEAC+UigVq1a8vXXX/uqDl+P8PmYi2H58uVyxBFHyNatW53qFfq3s27durJs2TKnvTBLXKVKFX0M3zxHH320/PHHHzJv3jy9kMZJGMLOypUrtbYWtMEQsLjlk08+EdSJgQRIIJgAfOpi4QAWgk2ZMsVJFOQvD+a9u3fv7qQptB2vYKtx48b6XVVo7WR7SIAESIAESKBYCVCwVax3nu0mARIoCgK9e/fWg9rHHntMMLgzAZpZV155pTmU/fffX1asWCGlSpVy4gpth4KtQrujbA8JkEC+EliyZEmgybrddttN1q9fL+XKlcvZpg0aNEj69Onj1A+CnTlz5mhtYyeygHY6duzoaDdDcwI+ekqXLi1r1qyRU089VXAvwWPgwIGht/qyyy4TmHs0oVevXvLggw+aQ25JgAQCCGAhG/r5GANAy9QEmHht2bKlORS8b+GLq1KlSk5coe14BVtHHnmkfPzxx4XWTLaHBEiABEiABIqWAAVbRXvr2XASIIFiJnDiiSfKjBkzHAQ33nijyzSJc6KAdryCrfbt28vo0aMLqIVsCgmQAAnkBwFMvAZpCTRr1kwLiXK5FfD1BP9OtgnCp59+Wrp27ZrL1U65bosXLxbcF6M11bp1a8H3FKaMN2/eLF26dNGT6BB6hRlg/hB9FePTrGrVqtqHV/ny5cMshnmRQNEQwLM6YsQIp73wVwu/tYUcvIKtRo0aaa3PQm4z20YCJEACJEACxUSAgq1iuttsKwmQAAkoAnDEfuihh8r27ds1D9iwX7hwoTb3U8iAvIKt888/X8aMGVPITWbbSIAESCAnCLz66qvy888/az8tMOf32muvOYISu4J77LGH1jCABgEEGNAo2HPPPeW8886zk5X4PkzzNW/eXAt2UBmY5vv0008dE30lXsGQKwAfOzBp/M033zg5V6hQQWDuuGfPnin5vXQyCtj566+/5JhjjnFNQD/77LMCDS4GEiCB5AlA0xImyPEeNgFCLQi3CjlQsFXId5dtIwESIAESIAHlrzOiAkGQAAmQAAkUD4Hbb7/dZTIIk0ezZs0qeABewRYmSseOHVvw7WYDSYAESKAkCbzzzjsCLZ90hhwweweTubkUXnnlFbnoooucRSKFrgX8999/a42pzz//XA466CCB5kOZMmUyckv69esn/fv3d/LmQhQHBXdIICUCMOlpC4bRJ4YJ8l122SWl/PLlImjXzpw506kufCRiEQIDCZAACZAACZBAYRCgYKsw7iNbQQIkQAIJEQhyHP3UU09pJ9MJZZDHibyCrXPPPVegRcBAAiRAAiSQOQLXXHONDBs2LOUCKlasKBs2bAhdKyjlClkX3nrrrXLPPfc4McOHD3f5r3ROcCdhAjCT3KZNG4HWFkLDhg1l+vTpsvfeeyecBxOSAAm4CZx00kny3nvvOZG33HKLDB482Dku1B0Ktgr1zrJdJEACJEACJPB/BCjY4i+BBEiABIqIwBtvvCGnn3660+Jy5crJ6tWrtaknJ7JAd7yCrXPOOUebwyrQ5rJZJEACJJATBB5++GHp27evlCpVSv9BQwB/O++8s95Ckwt+lPCHxRfwYQXtIAg2kO66664TaPDkYkB9obVl/DWWLVtWpk2bJk2aNMnF6uZ8nSDAhD+vlStX6rpCMwwafzVq1Mj5urOCJJCrBGA69bDDDnO0S+EPD5qXtWvXztUqh1Yvr2ALgvL58+eHlj8zIgESIAESIAESKFkCFGyVLH+WTgIkQAJZJdChQweXX6krrrhCO31PpBKrVq0SmFr66aefEkmekTTwtTJx4kTtuD7ZAmDGat26dc5lFGw5KLhDAiRAAiSQIoE//vhDzjrrLHnrrbd0DhDGzJ49WypXrpxijsV5GQSZbdu21dpZIFCtWjV58803pU6dOsUJhK0mgZAI9OnTRwYNGuTk1qJFCy2AdyJi7MAnF/r+tn+9GMkzcgqLIEaNGiUwI5hs8Aq2GjRoIAsWLEg2G6YnARIgARIgARLIUQIUbOXojWG1SIAESCBsAj/88INUr15dfv/9dyfr999/X4499ljnGDb4YZrwrrvuklatWjnx2MGkHcwDlWTYcccdZYYyU2TXOdH6eAVbcJgNx9kMJEACJEACJJAOgS1btki7du0cU18w+zV58mTZbbfd0sm2qK7FQpunn35at7lq1aoydepUOfzww4uKARtLAmETgFZpzZo1BYvTTEBfv3PnzuZQa0XedtttWjv2kksuceKx8+WXX0r9+vUd06Cuk1k8GDFihFx66aVJl+gVbKEtCxcuTDofXkACJEACJEACJJCbBCjYys37wlqRAAmQQOgEHnvsMT1oNRkfeuih2hSJOca2efPmMnfuXIk2gMRg0Pi9sK/L1n7p0qVTnujyCrawwn78+PHZqjrLIQESIAESKGAC0GyAWUIItBC6du3qCGoKuNmhNA2+fjCxjgCzg1h0ApNhDCRAAukRgID41FNPdTLZa6+9ZM2aNS4T5BBmvfjiiwLNroEDBzppzc4XX3whv/zyiznM+hamExs1apSSn0WvYKtevXqyaNGirLeBBZIACZAACZAACWSGAAVbmeHKXEmABEgg5wh4HUdDK+uOO+5w6gmhFQaOe+yxhzY5ss8++zjnCmHHK9jC6voJEyYUQtPYBhIgARIggRwgAP9gPXr00ItDjjzySP2N2XfffXOgZrldhaZNm2rzYPBNBpNj8InJQAIkkD6Byy+/XJ555hkno06dOsnzzz/vHP/4448C86m//vqrFvjAF1chBa9gC1qgn332WSE1kW0hARIgARIggaImQMFWUd9+Np4ESKBYCEQiEcHk2qZNm3STd9hhB1myZInLdwUGuyNHjpTrr79eHnjggYJD4xVsnXnmmfL6668XXDvZIBIgARIggZIlsH37doHpXIbECKCPgoC+CQMJkEB4BCAsnjdvnpPhpEmT5LTTTnOO+/fvL/369ZNC7ROfeOKJ2oS5aTAFW4YEtyRAAiRAAiRQGAQo2CqM+8hWkAAJkEBMAjAhUq5cOScN/FesW7fOOX7vvfekZcuW2jTJ0qVLC87pPVbRQ7D1/fffO20+5ZRTZMqUKc4xd0iABEiABEiABEiABEigUAjAt+7q1at1cyBs37hxo5QvX14ff/XVV9K4cWPte/fDDz/UVhsKpd2mHc2aNZMPPvjAHMohhxwiy5YtoxDdIcIdEiABEiABEshvAhRs5ff9Y+1JgARIIGECtWvX1k6gcQF8V8yfP19fiwFeq1attKDriSeekG7duiWcZ64lXLt2rfabhdXyCNu2bdNaau+++658/PHHrupiZTjaDV9jZcqUkd1331122WUX/Xfddde50vKABEiABEiABEiABEiABPKJQNu2bZ1FXPCvBV+ACFjohQVeCxYskJtuukmGDBmST81y1XXr1q3y3HPPyb///qvjsUU7P/roI5k2bZorLQ7gTxim1/fcc0/ZbbfdZNddd9V9f1iuACMGEiABEiABEiCB/CFAwVb+3CvWlARIgATSIgAzgxi0IcAR85VXXikw/wN/FtDouvXWW2XQoEFplVHSF0OA1aJFi7SqAeHWX3/9lVYevJgESIAESIAESIAESIAESpLArFmzdL8YlgsQLrzwQqlSpYq89NJLsmHDBunYsaP2uVWqVKmSrGZaZWNRW7Vq1dLKAxcvX75c+xtLOyNmQAIkQAIkQAIkkDUCFGxlDTULIgESIIGSJwBb+gMHDhQzwEWNsDoRAq2rr7665CuYZg3ef/99OeeccwQDdAjvsDV/O++8sxOP9kObC3/YN8fYQpNr/fr1adaEl5MACZAACZAACZAACZBAyRIYMWKE9OjRQ3799VenItBSgqYW/Guhf5zPAabVYYkC7TB9fbPFGMDE2/1+b/8fx9DwOvDAA/MZBetOAiRAAiRAAkVHgIKtorvlbDAJkECxE4D5EdibX7FihdSvX1/b16fpjWL/VbD9JEACJEACJEACJEAChUhg8+bNMm/ePFm8eLHANHmTJk1k3333LcSmsk0kQAIkQAIkQAJFRICCrSK62WwqCZAACZAACZAACZAACZAACZAACZAACZAACZAACZAACZAACeQzAQq28vnuse4kQAIkQAIkQAIkQAIkQAIkQAIkQAIkQAIkQAIkQAIkQAIkUEQEKNgqopvNppIACZAACZAACZAACZAACZAACZAACZAACZAACZAACZAACZBAPhOgYCuf7x7rTgIkQAIkQAIkQAIkQAIkQAIkQAIkQAIkQAIkQAIkQAIkQAJFRICCrSK62WwqCZAACZAACZAACZAACZAACZAACZAACZAACZAACZAACZAACeQzAQq28vnuse4kQAIkQAIkQAIkQAIkQAIkQAIkQAIkQAIkQAIkQAIkQAIkUEQEKNgqopvNppIACZAACZAACZAACZAACZAACZAACZAACZAACZAACZAACZBAPhOgYCuf7x7rTgIkQAIkQAIkQAIkQAIkQAIkQAIkQAIkQAIkQAIkQAIkQAJFRICCrSK62WwqCZAACZAACZAACZAACZAACZAACZAACZAACZAACZAACZAACeQzAQq28vnuse4kQAIkQAIkQAIkQAIkQAIkQAIkQAIkQAIkQAIkQAIkQAIkUEQEKNgqopvNppIACZAACZAACZAACZAACZAACZAACZAACZAACZAACZAACZBAPhOgYCuf7x7rTgIkQAIkQAIkQAIkQAIkQAIkQAIkQAIkQAIkQAIkQAIkQAJFRICCrSK62WwqCZAACZAACZAACZAACZAACZAACZAACZAACZAACZAACZAACeQzAQq28vnuse4kQAIkQAIkQAIkQAIkQAIkQAIkQAIkQAIkQAIkQAIkQAIkUEQEKNgqopvNppIACZAACZAACZAACZAACZAACZAACZAACZAACZAACZAACZBAPhOgYCuf7x7rTgIkQAIkQAIkQAIkQAIkQAIkQAIkQAIkQAIkQAIkQAIkQAJFRICCrSK62WwqCZAACZAACZAACZAACZAACZAACZAACZAACZAACZAACZAACeQzAQq28vnuse4kQAIkQAIkQAIkQAIkQAIkQAIkQAIkQAIkQAIkQAIkQAIkUEQEKNgqopvNppIACZAACZAACZAACZAACZAACZAACZAACZAACZAACZAACZBAPhOgYCuf7x7rTgIkQAIkQAIkQAIkQAIkQAIkQAIkQAIkQAIkQAIkQAIkQAJFRICCrSK62WwqCZAACZAACZAACZAACZAACZAACZAACZAACZAACZAACZAACeQzAQq28vnuse4kQAIkQAIkQAIkQAIkQAIkQAIkQAIkQAIkQAIkQAIkQAIkUEQEKNgqopvNppIACZAACZAACZAACZAACZAACZAACZAACZAACZAACZAACZBAPhP4f9iAzX+LZbUyAAAAAElFTkSuQmCC)"
      ]
    },
    {
      "cell_type": "markdown",
      "metadata": {
        "id": "Gh_AlDiDa4X5"
      },
      "source": [
        "Zatem jak to się ma do przyrostu informacji? Otóż w drzewach decyzyjnych zachodzi problem jak, kiedy oraz jakim \"pytaniem\" podzielić daną gałąź drzewa na dwie kolejne. Drzewa decyzyjne stosują prostą zasadę, mówiącą o dzieleniu drzewa w taki sposób aby entropia była jak NAJNIŻSZA lub też miała jak najwyższy przyrost informacji. Przyrost informacji i entropia to przeciwieństwa. Zatem, jeżeli mamy 9 kul czerwonych i 1 żółtą entropia jest mała, a przyrost informacji duży. Inaczej mówiąc podnosząc kule z tego koszyka możemy być prawie pewni, że nasza kula jest czerwona. Jednak kiedy kul czerwonych jest 5 i kul żółtych jest 5, możemy powiedzieć, że posiadamy brak jakichkolwiek wskazówek czy wybrana kula jest czerwona czy żółta. Entropia w tym przypadku jest równa 1 a przyrost informacji jest niski. \n",
        "\n",
        "Drzewa decyzyjne dązą do tego aby dzielić dane za pomocą pytań (gałęzi) na grupy, które mają jak największy przyrost informacji, tudzież jak najmnieszą entropie. Wszystko po to abyśmy po podzieleniu danych na dwie grupy mieli jak największą pewność co do klasy jednej i drugiej podgrupy. Drzewo decyzyjne działa iteracyjnie na kolejnych to podgrupach dzieląc je cały czas tak aby uzyskać najwyższy możliwy przyrost informacji."
      ]
    },
    {
      "cell_type": "markdown",
      "metadata": {
        "id": "S8X4gb9-49sh"
      },
      "source": [
        "# Testing App"
      ]
    },
    {
      "cell_type": "code",
      "metadata": {
        "colab": {
          "base_uri": "https://localhost:8080/"
        },
        "id": "EGoSN-N5qNO-",
        "outputId": "05baf8d5-a5b2-4dd3-f48d-f7fee698e4c4"
      },
      "source": [
        "cd /content/"
      ],
      "execution_count": null,
      "outputs": [
        {
          "name": "stdout",
          "output_type": "stream",
          "text": [
            "/content\n"
          ]
        }
      ]
    },
    {
      "cell_type": "code",
      "metadata": {
        "id": "yDaBlPEFncgT"
      },
      "source": [
        "def app():\n",
        "  import cv2 \n",
        "  img_test = files.upload()\n",
        "  img_test_name = list(img_test.keys())[0]\n",
        "  img_test_path = mpimg.imread(os.path.join(r'/content/',img_test_name))\n",
        "  imgplot = plt.imshow(img_test_path)\n",
        "\n",
        "  # get matrices in grey scale\n",
        "  img_test_vectors = cv2.imread(\"/content/\" + img_test_name, 0)\n",
        "  # standarization\n",
        "  img_test_vectors = img_test_vectors/255\n",
        "  # flattening\n",
        "  flatten_img = img_test_vectors.flatten().reshape(1, -1)\n",
        "\n",
        "  label = rfc_entropy.predict(flatten_img)\n",
        "  return print('\\n\\n     This person is', 'SAD' if label[0]<0.5 else 'HAPPY')"
      ],
      "execution_count": null,
      "outputs": []
    },
    {
      "cell_type": "code",
      "metadata": {
        "colab": {
          "resources": {
            "http://localhost:8080/nbextensions/google.colab/files.js": {
              "data": "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",
              "headers": [
                [
                  "content-type",
                  "application/javascript"
                ]
              ],
              "ok": true,
              "status": 200,
              "status_text": ""
            }
          },
          "base_uri": "https://localhost:8080/",
          "height": 357
        },
        "id": "P2x7EzNHxRIm",
        "outputId": "874b72db-eb37-41e5-8dba-612ee0a5feea"
      },
      "source": [
        "test1 = app()\n",
        "test1"
      ],
      "execution_count": null,
      "outputs": [
        {
          "data": {
            "text/html": [
              "\n",
              "     <input type=\"file\" id=\"files-e7faebf8-74eb-4f79-9fcc-6527af4f3ff7\" name=\"files[]\" multiple disabled\n",
              "        style=\"border:none\" />\n",
              "     <output id=\"result-e7faebf8-74eb-4f79-9fcc-6527af4f3ff7\">\n",
              "      Upload widget is only available when the cell has been executed in the\n",
              "      current browser session. Please rerun this cell to enable.\n",
              "      </output>\n",
              "      <script src=\"/nbextensions/google.colab/files.js\"></script> "
            ],
            "text/plain": [
              "<IPython.core.display.HTML object>"
            ]
          },
          "metadata": {},
          "output_type": "display_data"
        },
        {
          "name": "stdout",
          "output_type": "stream",
          "text": [
            "Saving 00006.jpg to 00006 (6).jpg\n",
            "\n",
            "\n",
            "     This person is SAD\n"
          ]
        },
        {
          "data": {
            "image/png": "[encoded data removed]",
            "text/plain": [
              "<Figure size 432x288 with 1 Axes>"
            ]
          },
          "metadata": {},
          "output_type": "display_data"
        }
      ]
    },
    {
      "cell_type": "code",
      "metadata": {
        "colab": {
          "resources": {
            "http://localhost:8080/nbextensions/google.colab/files.js": {
              "data": "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",
              "headers": [
                [
                  "content-type",
                  "application/javascript"
                ]
              ],
              "ok": true,
              "status": 200,
              "status_text": ""
            }
          },
          "base_uri": "https://localhost:8080/",
          "height": 357
        },
        "id": "cTarZPBrtcUc",
        "outputId": "a6c82040-081a-4dd1-a67d-9e1bf5adc26d"
      },
      "source": [
        "test2 = app()\n",
        "test2"
      ],
      "execution_count": null,
      "outputs": [
        {
          "data": {
            "text/html": [
              "\n",
              "     <input type=\"file\" id=\"files-2dd273aa-50dd-4d6d-8b23-db24516ea741\" name=\"files[]\" multiple disabled\n",
              "        style=\"border:none\" />\n",
              "     <output id=\"result-2dd273aa-50dd-4d6d-8b23-db24516ea741\">\n",
              "      Upload widget is only available when the cell has been executed in the\n",
              "      current browser session. Please rerun this cell to enable.\n",
              "      </output>\n",
              "      <script src=\"/nbextensions/google.colab/files.js\"></script> "
            ],
            "text/plain": [
              "<IPython.core.display.HTML object>"
            ]
          },
          "metadata": {},
          "output_type": "display_data"
        },
        {
          "name": "stdout",
          "output_type": "stream",
          "text": [
            "Saving 03495.jpg to 03495 (3).jpg\n",
            "\n",
            "\n",
            "     This person is SAD\n"
          ]
        },
        {
          "data": {
            "image/png": "[encoded data removed]",
            "text/plain": [
              "<Figure size 432x288 with 1 Axes>"
            ]
          },
          "metadata": {},
          "output_type": "display_data"
        }
      ]
    },
    {
      "cell_type": "code",
      "metadata": {
        "colab": {
          "resources": {
            "http://localhost:8080/nbextensions/google.colab/files.js": {
              "data": "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",
              "headers": [
                [
                  "content-type",
                  "application/javascript"
                ]
              ],
              "ok": true,
              "status": 200,
              "status_text": ""
            }
          },
          "base_uri": "https://localhost:8080/",
          "height": 357
        },
        "id": "gSol4_j53Woe",
        "outputId": "d622ae34-4bd6-43d2-bd4e-3deccd7ec0c3"
      },
      "source": [
        "test3 = app()\n",
        "test3"
      ],
      "execution_count": null,
      "outputs": [
        {
          "data": {
            "text/html": [
              "\n",
              "     <input type=\"file\" id=\"files-ba5b6eed-3ae6-455b-957c-07fd82aa0aa9\" name=\"files[]\" multiple disabled\n",
              "        style=\"border:none\" />\n",
              "     <output id=\"result-ba5b6eed-3ae6-455b-957c-07fd82aa0aa9\">\n",
              "      Upload widget is only available when the cell has been executed in the\n",
              "      current browser session. Please rerun this cell to enable.\n",
              "      </output>\n",
              "      <script src=\"/nbextensions/google.colab/files.js\"></script> "
            ],
            "text/plain": [
              "<IPython.core.display.HTML object>"
            ]
          },
          "metadata": {},
          "output_type": "display_data"
        },
        {
          "name": "stdout",
          "output_type": "stream",
          "text": [
            "Saving 00124.jpg to 00124.jpg\n",
            "\n",
            "\n",
            "     This person is HAPPY\n"
          ]
        },
        {
          "data": {
            "image/png": "[encoded data removed]",
            "text/plain": [
              "<Figure size 432x288 with 1 Axes>"
            ]
          },
          "metadata": {},
          "output_type": "display_data"
        }
      ]
    },
    {
      "cell_type": "code",
      "metadata": {
        "colab": {
          "resources": {
            "http://localhost:8080/nbextensions/google.colab/files.js": {
              "data": "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",
              "headers": [
                [
                  "content-type",
                  "application/javascript"
                ]
              ],
              "ok": true,
              "status": 200,
              "status_text": ""
            }
          },
          "base_uri": "https://localhost:8080/",
          "height": 357
        },
        "id": "KemxUw8x3bq4",
        "outputId": "003a3085-4cb8-4adb-aa54-43a8b474c371"
      },
      "source": [
        "test4 = app()\n",
        "test4"
      ],
      "execution_count": null,
      "outputs": [
        {
          "data": {
            "text/html": [
              "\n",
              "     <input type=\"file\" id=\"files-75530b7b-61c1-4afd-9033-53b49ad0ae11\" name=\"files[]\" multiple disabled\n",
              "        style=\"border:none\" />\n",
              "     <output id=\"result-75530b7b-61c1-4afd-9033-53b49ad0ae11\">\n",
              "      Upload widget is only available when the cell has been executed in the\n",
              "      current browser session. Please rerun this cell to enable.\n",
              "      </output>\n",
              "      <script src=\"/nbextensions/google.colab/files.js\"></script> "
            ],
            "text/plain": [
              "<IPython.core.display.HTML object>"
            ]
          },
          "metadata": {},
          "output_type": "display_data"
        },
        {
          "name": "stdout",
          "output_type": "stream",
          "text": [
            "Saving 00067.jpg to 00067 (2).jpg\n",
            "\n",
            "\n",
            "     This person is HAPPY\n"
          ]
        },
        {
          "data": {
            "image/png": "[encoded data removed]",
            "text/plain": [
              "<Figure size 432x288 with 1 Axes>"
            ]
          },
          "metadata": {},
          "output_type": "display_data"
        }
      ]
    },
    {
      "cell_type": "code",
      "metadata": {
        "colab": {
          "resources": {
            "http://localhost:8080/nbextensions/google.colab/files.js": {
              "data": "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",
              "headers": [
                [
                  "content-type",
                  "application/javascript"
                ]
              ],
              "ok": true,
              "status": 200,
              "status_text": ""
            }
          },
          "base_uri": "https://localhost:8080/",
          "height": 357
        },
        "id": "apNWOVf13hzB",
        "outputId": "e7ebd969-1d41-4c31-c3fa-54528b230627"
      },
      "source": [
        "test5 = app()\n",
        "test5"
      ],
      "execution_count": null,
      "outputs": [
        {
          "data": {
            "text/html": [
              "\n",
              "     <input type=\"file\" id=\"files-ef5c17e8-c635-4650-8c1a-829bdc60e405\" name=\"files[]\" multiple disabled\n",
              "        style=\"border:none\" />\n",
              "     <output id=\"result-ef5c17e8-c635-4650-8c1a-829bdc60e405\">\n",
              "      Upload widget is only available when the cell has been executed in the\n",
              "      current browser session. Please rerun this cell to enable.\n",
              "      </output>\n",
              "      <script src=\"/nbextensions/google.colab/files.js\"></script> "
            ],
            "text/plain": [
              "<IPython.core.display.HTML object>"
            ]
          },
          "metadata": {},
          "output_type": "display_data"
        },
        {
          "name": "stdout",
          "output_type": "stream",
          "text": [
            "Saving 00016.jpg to 00016 (1).jpg\n",
            "\n",
            "\n",
            "     This person is SAD\n"
          ]
        },
        {
          "data": {
            "image/png": "[encoded data removed]",
            "text/plain": [
              "<Figure size 432x288 with 1 Axes>"
            ]
          },
          "metadata": {},
          "output_type": "display_data"
        }
      ]
    },
    {
      "cell_type": "markdown",
      "metadata": {
        "id": "2vf2NkwS3mjC"
      },
      "source": [
        "This prediction is wrong as we can see this woman is rather happy than sad, however it's not so obvious emotion. Thus, the model didn't detect it correct."
      ]
    },
    {
      "cell_type": "markdown",
      "metadata": {
        "id": "nrSUSJCQ315E"
      },
      "source": [
        "To launch the app\n",
        "\n",
        "1. call instance\n",
        "* test = app()\n",
        "\n",
        "2. run \n",
        "* test\n",
        "\n",
        "3. input some emotion photo"
      ]
    },
    {
      "cell_type": "markdown",
      "metadata": {
        "id": "5N4OiGpM51HB"
      },
      "source": [
        "# Kaggle submission"
      ]
    },
    {
      "cell_type": "markdown",
      "metadata": {
        "id": "3Nw9JkEWoTWy"
      },
      "source": [
        "## Random Forest Classifier"
      ]
    },
    {
      "cell_type": "code",
      "metadata": {
        "colab": {
          "base_uri": "https://localhost:8080/",
          "height": 419
        },
        "id": "psrLYIG053BI",
        "outputId": "d62bd2fe-6cc3-4bb9-e2b9-d96cb59874fa"
      },
      "source": [
        "test_set = pd.read_csv('/content/dataset/train/data/test_set.csv')\n",
        "test_set"
      ],
      "execution_count": null,
      "outputs": [
        {
          "data": {
            "text/html": [
              "<div>\n",
              "<style scoped>\n",
              "    .dataframe tbody tr th:only-of-type {\n",
              "        vertical-align: middle;\n",
              "    }\n",
              "\n",
              "    .dataframe tbody tr th {\n",
              "        vertical-align: top;\n",
              "    }\n",
              "\n",
              "    .dataframe thead th {\n",
              "        text-align: right;\n",
              "    }\n",
              "</style>\n",
              "<table border=\"1\" class=\"dataframe\">\n",
              "  <thead>\n",
              "    <tr style=\"text-align: right;\">\n",
              "      <th></th>\n",
              "      <th>id_img</th>\n",
              "      <th>path</th>\n",
              "    </tr>\n",
              "  </thead>\n",
              "  <tbody>\n",
              "    <tr>\n",
              "      <th>0</th>\n",
              "      <td>18341</td>\n",
              "      <td>test/18341.jpg</td>\n",
              "    </tr>\n",
              "    <tr>\n",
              "      <th>1</th>\n",
              "      <td>13176</td>\n",
              "      <td>test/13176.jpg</td>\n",
              "    </tr>\n",
              "    <tr>\n",
              "      <th>2</th>\n",
              "      <td>23945</td>\n",
              "      <td>test/23945.jpg</td>\n",
              "    </tr>\n",
              "    <tr>\n",
              "      <th>3</th>\n",
              "      <td>15968</td>\n",
              "      <td>test/15968.jpg</td>\n",
              "    </tr>\n",
              "    <tr>\n",
              "      <th>4</th>\n",
              "      <td>18382</td>\n",
              "      <td>test/18382.jpg</td>\n",
              "    </tr>\n",
              "    <tr>\n",
              "      <th>...</th>\n",
              "      <td>...</td>\n",
              "      <td>...</td>\n",
              "    </tr>\n",
              "    <tr>\n",
              "      <th>4112</th>\n",
              "      <td>8966</td>\n",
              "      <td>test/08966.jpg</td>\n",
              "    </tr>\n",
              "    <tr>\n",
              "      <th>4113</th>\n",
              "      <td>12111</td>\n",
              "      <td>test/12111.jpg</td>\n",
              "    </tr>\n",
              "    <tr>\n",
              "      <th>4114</th>\n",
              "      <td>16629</td>\n",
              "      <td>test/16629.jpg</td>\n",
              "    </tr>\n",
              "    <tr>\n",
              "      <th>4115</th>\n",
              "      <td>24322</td>\n",
              "      <td>test/24322.jpg</td>\n",
              "    </tr>\n",
              "    <tr>\n",
              "      <th>4116</th>\n",
              "      <td>23412</td>\n",
              "      <td>test/23412.jpg</td>\n",
              "    </tr>\n",
              "  </tbody>\n",
              "</table>\n",
              "<p>4117 rows × 2 columns</p>\n",
              "</div>"
            ],
            "text/plain": [
              "      id_img            path\n",
              "0      18341  test/18341.jpg\n",
              "1      13176  test/13176.jpg\n",
              "2      23945  test/23945.jpg\n",
              "3      15968  test/15968.jpg\n",
              "4      18382  test/18382.jpg\n",
              "...      ...             ...\n",
              "4112    8966  test/08966.jpg\n",
              "4113   12111  test/12111.jpg\n",
              "4114   16629  test/16629.jpg\n",
              "4115   24322  test/24322.jpg\n",
              "4116   23412  test/23412.jpg\n",
              "\n",
              "[4117 rows x 2 columns]"
            ]
          },
          "execution_count": 208,
          "metadata": {},
          "output_type": "execute_result"
        }
      ]
    },
    {
      "cell_type": "code",
      "metadata": {
        "colab": {
          "base_uri": "https://localhost:8080/"
        },
        "id": "RSlK0xw99ADl",
        "outputId": "535c660c-8d0f-44dd-a703-ccacb9e8bae8"
      },
      "source": [
        "import cv2\n",
        "\n",
        "images = []\n",
        "\n",
        "for i in test_set.iterrows():\n",
        "  img_name = i[1][1]\n",
        "  # img_test_path = mpimg.imread(os.path.join(r'/content/dataset/train/data/',img_name))\n",
        "  temp_imag = cv2.imread('/content/dataset/train/data/' + img_name, 0)\n",
        "  images.append(temp_imag)\n",
        "\n",
        "flat_images = []\n",
        "\n",
        "for i in images:\n",
        "  # standarization\n",
        "  i = i/255\n",
        "  # flattening\n",
        "  i = i.flatten()\n",
        "  flat_images.append(i)\n",
        "\n",
        "predictions = rfc_entropy.predict(flat_images)"
      ],
      "execution_count": null,
      "outputs": [
        {
          "data": {
            "text/plain": [
              "array([1., 1., 1., ..., 0., 1., 1.], dtype=float32)"
            ]
          },
          "execution_count": 221,
          "metadata": {},
          "output_type": "execute_result"
        }
      ]
    },
    {
      "cell_type": "code",
      "metadata": {
        "colab": {
          "base_uri": "https://localhost:8080/",
          "height": 419
        },
        "id": "_F-KvEYC-3tq",
        "outputId": "4223e7a4-8875-46b2-f3a5-e3a1f767c326"
      },
      "source": [
        "ss = pd.read_csv('/content/dataset/train/data/sample_submission.csv')\n",
        "ss"
      ],
      "execution_count": null,
      "outputs": [
        {
          "data": {
            "text/html": [
              "<div>\n",
              "<style scoped>\n",
              "    .dataframe tbody tr th:only-of-type {\n",
              "        vertical-align: middle;\n",
              "    }\n",
              "\n",
              "    .dataframe tbody tr th {\n",
              "        vertical-align: top;\n",
              "    }\n",
              "\n",
              "    .dataframe thead th {\n",
              "        text-align: right;\n",
              "    }\n",
              "</style>\n",
              "<table border=\"1\" class=\"dataframe\">\n",
              "  <thead>\n",
              "    <tr style=\"text-align: right;\">\n",
              "      <th></th>\n",
              "      <th>id_img</th>\n",
              "      <th>label</th>\n",
              "    </tr>\n",
              "  </thead>\n",
              "  <tbody>\n",
              "    <tr>\n",
              "      <th>0</th>\n",
              "      <td>18341</td>\n",
              "      <td>sadness</td>\n",
              "    </tr>\n",
              "    <tr>\n",
              "      <th>1</th>\n",
              "      <td>13176</td>\n",
              "      <td>sadness</td>\n",
              "    </tr>\n",
              "    <tr>\n",
              "      <th>2</th>\n",
              "      <td>23945</td>\n",
              "      <td>happy</td>\n",
              "    </tr>\n",
              "    <tr>\n",
              "      <th>3</th>\n",
              "      <td>15968</td>\n",
              "      <td>happy</td>\n",
              "    </tr>\n",
              "    <tr>\n",
              "      <th>4</th>\n",
              "      <td>18382</td>\n",
              "      <td>happy</td>\n",
              "    </tr>\n",
              "    <tr>\n",
              "      <th>...</th>\n",
              "      <td>...</td>\n",
              "      <td>...</td>\n",
              "    </tr>\n",
              "    <tr>\n",
              "      <th>4112</th>\n",
              "      <td>8966</td>\n",
              "      <td>sadness</td>\n",
              "    </tr>\n",
              "    <tr>\n",
              "      <th>4113</th>\n",
              "      <td>12111</td>\n",
              "      <td>sadness</td>\n",
              "    </tr>\n",
              "    <tr>\n",
              "      <th>4114</th>\n",
              "      <td>16629</td>\n",
              "      <td>sadness</td>\n",
              "    </tr>\n",
              "    <tr>\n",
              "      <th>4115</th>\n",
              "      <td>24322</td>\n",
              "      <td>sadness</td>\n",
              "    </tr>\n",
              "    <tr>\n",
              "      <th>4116</th>\n",
              "      <td>23412</td>\n",
              "      <td>happy</td>\n",
              "    </tr>\n",
              "  </tbody>\n",
              "</table>\n",
              "<p>4117 rows × 2 columns</p>\n",
              "</div>"
            ],
            "text/plain": [
              "      id_img    label\n",
              "0      18341  sadness\n",
              "1      13176  sadness\n",
              "2      23945    happy\n",
              "3      15968    happy\n",
              "4      18382    happy\n",
              "...      ...      ...\n",
              "4112    8966  sadness\n",
              "4113   12111  sadness\n",
              "4114   16629  sadness\n",
              "4115   24322  sadness\n",
              "4116   23412    happy\n",
              "\n",
              "[4117 rows x 2 columns]"
            ]
          },
          "execution_count": 224,
          "metadata": {},
          "output_type": "execute_result"
        }
      ]
    },
    {
      "cell_type": "code",
      "metadata": {
        "colab": {
          "base_uri": "https://localhost:8080/",
          "height": 419
        },
        "id": "RupFFeE__gxf",
        "outputId": "fb2f92ab-5e12-4301-cd4b-229461924018"
      },
      "source": [
        "ss['label'] = predictions\n",
        "ss"
      ],
      "execution_count": null,
      "outputs": [
        {
          "data": {
            "text/html": [
              "<div>\n",
              "<style scoped>\n",
              "    .dataframe tbody tr th:only-of-type {\n",
              "        vertical-align: middle;\n",
              "    }\n",
              "\n",
              "    .dataframe tbody tr th {\n",
              "        vertical-align: top;\n",
              "    }\n",
              "\n",
              "    .dataframe thead th {\n",
              "        text-align: right;\n",
              "    }\n",
              "</style>\n",
              "<table border=\"1\" class=\"dataframe\">\n",
              "  <thead>\n",
              "    <tr style=\"text-align: right;\">\n",
              "      <th></th>\n",
              "      <th>id_img</th>\n",
              "      <th>label</th>\n",
              "    </tr>\n",
              "  </thead>\n",
              "  <tbody>\n",
              "    <tr>\n",
              "      <th>0</th>\n",
              "      <td>18341</td>\n",
              "      <td>1.0</td>\n",
              "    </tr>\n",
              "    <tr>\n",
              "      <th>1</th>\n",
              "      <td>13176</td>\n",
              "      <td>1.0</td>\n",
              "    </tr>\n",
              "    <tr>\n",
              "      <th>2</th>\n",
              "      <td>23945</td>\n",
              "      <td>1.0</td>\n",
              "    </tr>\n",
              "    <tr>\n",
              "      <th>3</th>\n",
              "      <td>15968</td>\n",
              "      <td>1.0</td>\n",
              "    </tr>\n",
              "    <tr>\n",
              "      <th>4</th>\n",
              "      <td>18382</td>\n",
              "      <td>1.0</td>\n",
              "    </tr>\n",
              "    <tr>\n",
              "      <th>...</th>\n",
              "      <td>...</td>\n",
              "      <td>...</td>\n",
              "    </tr>\n",
              "    <tr>\n",
              "      <th>4112</th>\n",
              "      <td>8966</td>\n",
              "      <td>1.0</td>\n",
              "    </tr>\n",
              "    <tr>\n",
              "      <th>4113</th>\n",
              "      <td>12111</td>\n",
              "      <td>0.0</td>\n",
              "    </tr>\n",
              "    <tr>\n",
              "      <th>4114</th>\n",
              "      <td>16629</td>\n",
              "      <td>0.0</td>\n",
              "    </tr>\n",
              "    <tr>\n",
              "      <th>4115</th>\n",
              "      <td>24322</td>\n",
              "      <td>1.0</td>\n",
              "    </tr>\n",
              "    <tr>\n",
              "      <th>4116</th>\n",
              "      <td>23412</td>\n",
              "      <td>1.0</td>\n",
              "    </tr>\n",
              "  </tbody>\n",
              "</table>\n",
              "<p>4117 rows × 2 columns</p>\n",
              "</div>"
            ],
            "text/plain": [
              "      id_img  label\n",
              "0      18341    1.0\n",
              "1      13176    1.0\n",
              "2      23945    1.0\n",
              "3      15968    1.0\n",
              "4      18382    1.0\n",
              "...      ...    ...\n",
              "4112    8966    1.0\n",
              "4113   12111    0.0\n",
              "4114   16629    0.0\n",
              "4115   24322    1.0\n",
              "4116   23412    1.0\n",
              "\n",
              "[4117 rows x 2 columns]"
            ]
          },
          "execution_count": 225,
          "metadata": {},
          "output_type": "execute_result"
        }
      ]
    },
    {
      "cell_type": "code",
      "metadata": {
        "colab": {
          "base_uri": "https://localhost:8080/",
          "height": 419
        },
        "id": "Rfz9lBnd_qLe",
        "outputId": "c753878c-ca28-4d65-c535-9b9efa60dbac"
      },
      "source": [
        "ss['label'] = ss['label'].apply(lambda x: 'happy' if x > 0.5 else 'sadness')\n",
        "ss"
      ],
      "execution_count": null,
      "outputs": [
        {
          "data": {
            "text/html": [
              "<div>\n",
              "<style scoped>\n",
              "    .dataframe tbody tr th:only-of-type {\n",
              "        vertical-align: middle;\n",
              "    }\n",
              "\n",
              "    .dataframe tbody tr th {\n",
              "        vertical-align: top;\n",
              "    }\n",
              "\n",
              "    .dataframe thead th {\n",
              "        text-align: right;\n",
              "    }\n",
              "</style>\n",
              "<table border=\"1\" class=\"dataframe\">\n",
              "  <thead>\n",
              "    <tr style=\"text-align: right;\">\n",
              "      <th></th>\n",
              "      <th>id_img</th>\n",
              "      <th>label</th>\n",
              "    </tr>\n",
              "  </thead>\n",
              "  <tbody>\n",
              "    <tr>\n",
              "      <th>0</th>\n",
              "      <td>18341</td>\n",
              "      <td>happy</td>\n",
              "    </tr>\n",
              "    <tr>\n",
              "      <th>1</th>\n",
              "      <td>13176</td>\n",
              "      <td>happy</td>\n",
              "    </tr>\n",
              "    <tr>\n",
              "      <th>2</th>\n",
              "      <td>23945</td>\n",
              "      <td>happy</td>\n",
              "    </tr>\n",
              "    <tr>\n",
              "      <th>3</th>\n",
              "      <td>15968</td>\n",
              "      <td>happy</td>\n",
              "    </tr>\n",
              "    <tr>\n",
              "      <th>4</th>\n",
              "      <td>18382</td>\n",
              "      <td>happy</td>\n",
              "    </tr>\n",
              "    <tr>\n",
              "      <th>...</th>\n",
              "      <td>...</td>\n",
              "      <td>...</td>\n",
              "    </tr>\n",
              "    <tr>\n",
              "      <th>4112</th>\n",
              "      <td>8966</td>\n",
              "      <td>happy</td>\n",
              "    </tr>\n",
              "    <tr>\n",
              "      <th>4113</th>\n",
              "      <td>12111</td>\n",
              "      <td>sadness</td>\n",
              "    </tr>\n",
              "    <tr>\n",
              "      <th>4114</th>\n",
              "      <td>16629</td>\n",
              "      <td>sadness</td>\n",
              "    </tr>\n",
              "    <tr>\n",
              "      <th>4115</th>\n",
              "      <td>24322</td>\n",
              "      <td>happy</td>\n",
              "    </tr>\n",
              "    <tr>\n",
              "      <th>4116</th>\n",
              "      <td>23412</td>\n",
              "      <td>happy</td>\n",
              "    </tr>\n",
              "  </tbody>\n",
              "</table>\n",
              "<p>4117 rows × 2 columns</p>\n",
              "</div>"
            ],
            "text/plain": [
              "      id_img    label\n",
              "0      18341    happy\n",
              "1      13176    happy\n",
              "2      23945    happy\n",
              "3      15968    happy\n",
              "4      18382    happy\n",
              "...      ...      ...\n",
              "4112    8966    happy\n",
              "4113   12111  sadness\n",
              "4114   16629  sadness\n",
              "4115   24322    happy\n",
              "4116   23412    happy\n",
              "\n",
              "[4117 rows x 2 columns]"
            ]
          },
          "execution_count": 226,
          "metadata": {},
          "output_type": "execute_result"
        }
      ]
    },
    {
      "cell_type": "code",
      "metadata": {
        "id": "oqW2ToPN_97b"
      },
      "source": [
        "ss.to_csv('sumbission.csv',index = False)"
      ],
      "execution_count": null,
      "outputs": []
    },
    {
      "cell_type": "markdown",
      "metadata": {
        "id": "i4k1AH7qDUwq"
      },
      "source": [
        "https://www.kaggle.com/c/how-am-i-feeling-tb2109/leaderboard#score"
      ]
    },
    {
      "cell_type": "markdown",
      "metadata": {
        "id": "kMSZzW4loX0j"
      },
      "source": [
        "## Sequential model"
      ]
    },
    {
      "cell_type": "code",
      "metadata": {
        "colab": {
          "base_uri": "https://localhost:8080/",
          "height": 422
        },
        "id": "00mI5yG5pPD4",
        "outputId": "6986c9ab-bf2d-4893-efe6-041fae16ac63"
      },
      "source": [
        "test_set2 = pd.read_csv('/content/dataset/train/data/test_set.csv')\n",
        "test_set2"
      ],
      "execution_count": null,
      "outputs": [
        {
          "output_type": "execute_result",
          "data": {
            "text/html": [
              "<div>\n",
              "<style scoped>\n",
              "    .dataframe tbody tr th:only-of-type {\n",
              "        vertical-align: middle;\n",
              "    }\n",
              "\n",
              "    .dataframe tbody tr th {\n",
              "        vertical-align: top;\n",
              "    }\n",
              "\n",
              "    .dataframe thead th {\n",
              "        text-align: right;\n",
              "    }\n",
              "</style>\n",
              "<table border=\"1\" class=\"dataframe\">\n",
              "  <thead>\n",
              "    <tr style=\"text-align: right;\">\n",
              "      <th></th>\n",
              "      <th>id_img</th>\n",
              "      <th>path</th>\n",
              "    </tr>\n",
              "  </thead>\n",
              "  <tbody>\n",
              "    <tr>\n",
              "      <th>0</th>\n",
              "      <td>18341</td>\n",
              "      <td>test/18341.jpg</td>\n",
              "    </tr>\n",
              "    <tr>\n",
              "      <th>1</th>\n",
              "      <td>13176</td>\n",
              "      <td>test/13176.jpg</td>\n",
              "    </tr>\n",
              "    <tr>\n",
              "      <th>2</th>\n",
              "      <td>23945</td>\n",
              "      <td>test/23945.jpg</td>\n",
              "    </tr>\n",
              "    <tr>\n",
              "      <th>3</th>\n",
              "      <td>15968</td>\n",
              "      <td>test/15968.jpg</td>\n",
              "    </tr>\n",
              "    <tr>\n",
              "      <th>4</th>\n",
              "      <td>18382</td>\n",
              "      <td>test/18382.jpg</td>\n",
              "    </tr>\n",
              "    <tr>\n",
              "      <th>...</th>\n",
              "      <td>...</td>\n",
              "      <td>...</td>\n",
              "    </tr>\n",
              "    <tr>\n",
              "      <th>4112</th>\n",
              "      <td>8966</td>\n",
              "      <td>test/08966.jpg</td>\n",
              "    </tr>\n",
              "    <tr>\n",
              "      <th>4113</th>\n",
              "      <td>12111</td>\n",
              "      <td>test/12111.jpg</td>\n",
              "    </tr>\n",
              "    <tr>\n",
              "      <th>4114</th>\n",
              "      <td>16629</td>\n",
              "      <td>test/16629.jpg</td>\n",
              "    </tr>\n",
              "    <tr>\n",
              "      <th>4115</th>\n",
              "      <td>24322</td>\n",
              "      <td>test/24322.jpg</td>\n",
              "    </tr>\n",
              "    <tr>\n",
              "      <th>4116</th>\n",
              "      <td>23412</td>\n",
              "      <td>test/23412.jpg</td>\n",
              "    </tr>\n",
              "  </tbody>\n",
              "</table>\n",
              "<p>4117 rows × 2 columns</p>\n",
              "</div>"
            ],
            "text/plain": [
              "      id_img            path\n",
              "0      18341  test/18341.jpg\n",
              "1      13176  test/13176.jpg\n",
              "2      23945  test/23945.jpg\n",
              "3      15968  test/15968.jpg\n",
              "4      18382  test/18382.jpg\n",
              "...      ...             ...\n",
              "4112    8966  test/08966.jpg\n",
              "4113   12111  test/12111.jpg\n",
              "4114   16629  test/16629.jpg\n",
              "4115   24322  test/24322.jpg\n",
              "4116   23412  test/23412.jpg\n",
              "\n",
              "[4117 rows x 2 columns]"
            ]
          },
          "metadata": {},
          "execution_count": 104
        }
      ]
    },
    {
      "cell_type": "code",
      "metadata": {
        "colab": {
          "base_uri": "https://localhost:8080/"
        },
        "id": "4-mHIwNErANG",
        "outputId": "ebf73c26-fce8-4965-9da9-aa927a822c74"
      },
      "source": [
        "import cv2\n",
        "\n",
        "images = []\n",
        "\n",
        "for i in test_set2.iterrows():\n",
        "  img_name = i[1][1]\n",
        "  # img_test_path = mpimg.imread(os.path.join(r'/content/dataset/train/data/',img_name))\n",
        "  temp_imag = cv2.imread('/content/dataset/train/data/' + img_name, 0)\n",
        "  images.append(temp_imag)\n",
        "\n",
        "flat_images = []\n",
        "\n",
        "for i in images:\n",
        "  # standarization\n",
        "  i = i/255\n",
        "  # flattening\n",
        "  i = i.flatten()\n",
        "  flat_images.append(i)\n",
        "\n",
        "flat_images = np.array(flat_images)\n",
        "flat_images = flat_images.reshape(4117, 48, 48, 1)\n",
        "flat_images.shape"
      ],
      "execution_count": null,
      "outputs": [
        {
          "output_type": "execute_result",
          "data": {
            "text/plain": [
              "(4117, 48, 48, 1)"
            ]
          },
          "metadata": {},
          "execution_count": 112
        }
      ]
    },
    {
      "cell_type": "code",
      "metadata": {
        "colab": {
          "base_uri": "https://localhost:8080/"
        },
        "id": "BvoL4s4Wsfxm",
        "outputId": "c5ba584c-5838-4ecc-f254-0195b607594a"
      },
      "source": [
        "predictions_model = model.predict(flat_images).round(3)\n",
        "predictions_final = []\n",
        "for i in predictions:\n",
        "  predictions_final.append(np.argmax(i))\n",
        "predictions_final[:10]"
      ],
      "execution_count": null,
      "outputs": [
        {
          "output_type": "execute_result",
          "data": {
            "text/plain": [
              "[1, 1, 0, 1, 1, 0, 0, 0, 0, 0]"
            ]
          },
          "metadata": {},
          "execution_count": 126
        }
      ]
    },
    {
      "cell_type": "code",
      "metadata": {
        "colab": {
          "base_uri": "https://localhost:8080/",
          "height": 422
        },
        "id": "rgD6nJKHuZLx",
        "outputId": "c41fc8bb-4053-436e-9c29-e33ba2f7c35b"
      },
      "source": [
        "test_set2['label'] = predictions_final\n",
        "test_set2['label'] = test_set2['label'].apply(lambda x: 'happy' if x > 0.5 else 'sadness')\n",
        "test_set2 = test_set2[['id_img', 'label']]\n",
        "test_set2"
      ],
      "execution_count": null,
      "outputs": [
        {
          "output_type": "execute_result",
          "data": {
            "text/html": [
              "<div>\n",
              "<style scoped>\n",
              "    .dataframe tbody tr th:only-of-type {\n",
              "        vertical-align: middle;\n",
              "    }\n",
              "\n",
              "    .dataframe tbody tr th {\n",
              "        vertical-align: top;\n",
              "    }\n",
              "\n",
              "    .dataframe thead th {\n",
              "        text-align: right;\n",
              "    }\n",
              "</style>\n",
              "<table border=\"1\" class=\"dataframe\">\n",
              "  <thead>\n",
              "    <tr style=\"text-align: right;\">\n",
              "      <th></th>\n",
              "      <th>id_img</th>\n",
              "      <th>label</th>\n",
              "    </tr>\n",
              "  </thead>\n",
              "  <tbody>\n",
              "    <tr>\n",
              "      <th>0</th>\n",
              "      <td>18341</td>\n",
              "      <td>happy</td>\n",
              "    </tr>\n",
              "    <tr>\n",
              "      <th>1</th>\n",
              "      <td>13176</td>\n",
              "      <td>happy</td>\n",
              "    </tr>\n",
              "    <tr>\n",
              "      <th>2</th>\n",
              "      <td>23945</td>\n",
              "      <td>sadness</td>\n",
              "    </tr>\n",
              "    <tr>\n",
              "      <th>3</th>\n",
              "      <td>15968</td>\n",
              "      <td>happy</td>\n",
              "    </tr>\n",
              "    <tr>\n",
              "      <th>4</th>\n",
              "      <td>18382</td>\n",
              "      <td>happy</td>\n",
              "    </tr>\n",
              "    <tr>\n",
              "      <th>...</th>\n",
              "      <td>...</td>\n",
              "      <td>...</td>\n",
              "    </tr>\n",
              "    <tr>\n",
              "      <th>4112</th>\n",
              "      <td>8966</td>\n",
              "      <td>happy</td>\n",
              "    </tr>\n",
              "    <tr>\n",
              "      <th>4113</th>\n",
              "      <td>12111</td>\n",
              "      <td>sadness</td>\n",
              "    </tr>\n",
              "    <tr>\n",
              "      <th>4114</th>\n",
              "      <td>16629</td>\n",
              "      <td>sadness</td>\n",
              "    </tr>\n",
              "    <tr>\n",
              "      <th>4115</th>\n",
              "      <td>24322</td>\n",
              "      <td>happy</td>\n",
              "    </tr>\n",
              "    <tr>\n",
              "      <th>4116</th>\n",
              "      <td>23412</td>\n",
              "      <td>happy</td>\n",
              "    </tr>\n",
              "  </tbody>\n",
              "</table>\n",
              "<p>4117 rows × 2 columns</p>\n",
              "</div>"
            ],
            "text/plain": [
              "      id_img    label\n",
              "0      18341    happy\n",
              "1      13176    happy\n",
              "2      23945  sadness\n",
              "3      15968    happy\n",
              "4      18382    happy\n",
              "...      ...      ...\n",
              "4112    8966    happy\n",
              "4113   12111  sadness\n",
              "4114   16629  sadness\n",
              "4115   24322    happy\n",
              "4116   23412    happy\n",
              "\n",
              "[4117 rows x 2 columns]"
            ]
          },
          "metadata": {},
          "execution_count": 128
        }
      ]
    },
    {
      "cell_type": "code",
      "metadata": {
        "id": "emQp86lGvny8"
      },
      "source": [
        "test_set2.to_csv('submission2', index = False)"
      ],
      "execution_count": null,
      "outputs": []
    },
    {
      "cell_type": "markdown",
      "metadata": {
        "id": "XiEwfrg3v-bA"
      },
      "source": [
        "Kaggle score#\n",
        "![Screenshot 2021-11-22 at 23.24.28.png](data:image/png;base64,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)"
      ]
    }
  ]
}